{
 "cells": [
  {
   "cell_type": "markdown",
   "id": "1eb03c1a",
   "metadata": {},
   "source": [
    "#  Classification d'objets celestes"
   ]
  },
  {
   "cell_type": "markdown",
   "id": "2f3324d7",
   "metadata": {},
   "source": [
    "## Introduction"
   ]
  },
  {
   "cell_type": "markdown",
   "id": "d6a05c4c",
   "metadata": {},
   "source": [
    "L'objectif de ce projet est d'utiliser des données physiques d'observation d'objets céleste pour prévoir le type d'objet (galaxie, étoile, quasar). Il s'agit donc d'un problème de classification multi-classe (à 3 classes). Les données proviennent du Sloan Digital Sky Survey "
   ]
  },
  {
   "cell_type": "markdown",
   "id": "38728af4",
   "metadata": {},
   "source": [
    "### Importation des données\n"
   ]
  },
  {
   "cell_type": "markdown",
   "id": "541134f6",
   "metadata": {},
   "source": [
    "Nous avons choisi d'importer nos données sous forme de fichier de la librairie pandas."
   ]
  },
  {
   "cell_type": "code",
   "execution_count": 185,
   "id": "a08f438d",
   "metadata": {},
   "outputs": [],
   "source": [
    "import pandas as pd\n",
    "Xtest= pd.read_csv(r\"C:\\Users\\pasca\\Downloads/stars_test_new.csv\") \n",
    "Xtest=pd.DataFrame(Xtest)\n",
    "Xtrain= pd.read_csv(r\"C:\\Users\\pasca\\Downloads/stars_train_new.csv\") \n",
    "Xtrain=pd.DataFrame(Xtrain)"
   ]
  },
  {
   "cell_type": "code",
   "execution_count": 186,
   "id": "30a8969c",
   "metadata": {},
   "outputs": [
    {
     "name": "stdout",
     "output_type": "stream",
     "text": [
      "       obj_ID       alpha      delta         u         g         r         i  \\\n",
      "0       52295   44.705691  33.993858  19.51527  18.40343  18.03881  17.87942   \n",
      "1       52296  132.101279  31.861286  25.98949  22.63758  21.74283  20.60178   \n",
      "2       52297  338.396724  24.538435  24.28447  24.52921  22.09690  20.87217   \n",
      "3       52298  322.095785   0.677901  23.73190  22.65734  22.27631  22.68605   \n",
      "4       52299  242.657170  12.065346  21.43320  21.30294  20.41931  19.64881   \n",
      "...       ...         ...        ...       ...       ...       ...       ...   \n",
      "25753   78048  302.926269  58.816365  19.85081  18.50319  17.92703  17.68414   \n",
      "25754   78049  151.798957  29.685161  22.53443  20.93578  18.99101  18.35113   \n",
      "25755   78050  188.994240  52.102761  23.80252  21.97555  20.84109  19.98111   \n",
      "25756   78051   11.560214   0.000378  19.87143  17.87807  16.83970  16.42124   \n",
      "25757   78052    1.608916  25.994385  23.86313  21.13247  20.88319  21.13457   \n",
      "\n",
      "              z  redshift  \n",
      "0      17.85744 -0.000176  \n",
      "1      19.82636  0.699970  \n",
      "2      19.96444 -0.000218  \n",
      "3      21.90804  0.471956  \n",
      "4      19.24359  0.647077  \n",
      "...         ...       ...  \n",
      "25753  17.55972 -0.000185  \n",
      "25754  17.89552  0.369260  \n",
      "25755  19.74125  0.595525  \n",
      "25756  16.07215  0.111719  \n",
      "25757  21.72155 -0.000215  \n",
      "\n",
      "[25758 rows x 9 columns]        obj_ID       alpha      delta         u         g         r         i  \\\n",
      "0           0  232.502422  45.121027  25.65923  22.36003  21.22009  20.18024   \n",
      "1           1  129.290210  48.672374  20.28340  20.09267  19.96514  19.58195   \n",
      "2           2  256.078422  35.629789  22.09653  22.06431  21.81846  21.55368   \n",
      "3           3   15.237270  11.871627  22.53424  21.76865  21.77098  21.59392   \n",
      "4           4  128.023708  25.454899  22.99427  21.43313  19.53053  18.75837   \n",
      "...       ...         ...        ...       ...       ...       ...       ...   \n",
      "52290   52290  140.043373  35.237612  25.30457  25.57575  21.71407  20.48397   \n",
      "52291   52291  226.644371  44.653687  20.97036  20.30314  20.06663  20.23149   \n",
      "52292   52292  223.750703  13.223071  24.54803  23.03375  21.34179  20.19960   \n",
      "52293   52293  115.159285  42.273436  22.77362  20.81738  20.32921  20.41112   \n",
      "52294   52294  251.017306  49.202128  21.97985  21.35043  21.17899  20.77904   \n",
      "\n",
      "              z  redshift  label  \n",
      "0      19.43329  0.547620      0  \n",
      "1      19.42377  1.673636      2  \n",
      "2      20.71617  1.141341      2  \n",
      "3      22.15125  0.000447      1  \n",
      "4      18.35530  0.453795      0  \n",
      "...         ...       ...    ...  \n",
      "52290  19.74290  0.885847      0  \n",
      "52291  19.99547 -0.000457      1  \n",
      "52292  19.65182  0.694280      0  \n",
      "52293  20.88642 -0.000160      1  \n",
      "52294  20.36575  1.703428      2  \n",
      "\n",
      "[52295 rows x 10 columns]\n"
     ]
    }
   ],
   "source": [
    "#Visualisation des premières lignes\n",
    "print(Xtest,Xtrain)"
   ]
  },
  {
   "cell_type": "markdown",
   "id": "857b343f",
   "metadata": {},
   "source": [
    "### Analyse exploratoire des données"
   ]
  },
  {
   "cell_type": "markdown",
   "id": "5f569dd2",
   "metadata": {},
   "source": [
    "Tout d'abord, nous allons analyser le type de nos données pour vérifier que toutes les variables ont été importées selon leur type correspondant."
   ]
  },
  {
   "cell_type": "code",
   "execution_count": 187,
   "id": "4c439510",
   "metadata": {},
   "outputs": [
    {
     "name": "stdout",
     "output_type": "stream",
     "text": [
      "<class 'pandas.core.frame.DataFrame'>\n",
      "RangeIndex: 25758 entries, 0 to 25757\n",
      "Data columns (total 9 columns):\n",
      " #   Column    Non-Null Count  Dtype  \n",
      "---  ------    --------------  -----  \n",
      " 0   obj_ID    25758 non-null  int64  \n",
      " 1   alpha     25758 non-null  float64\n",
      " 2   delta     25758 non-null  float64\n",
      " 3   u         25758 non-null  float64\n",
      " 4   g         25758 non-null  float64\n",
      " 5   r         25758 non-null  float64\n",
      " 6   i         25758 non-null  float64\n",
      " 7   z         25758 non-null  float64\n",
      " 8   redshift  25758 non-null  float64\n",
      "dtypes: float64(8), int64(1)\n",
      "memory usage: 1.8 MB\n"
     ]
    }
   ],
   "source": [
    "Xtest.info()\n",
    "#Toutes les variables sont bien du même type 'float'"
   ]
  },
  {
   "cell_type": "markdown",
   "id": "d1aeba09",
   "metadata": {},
   "source": [
    "Nous pouvons ainsi traiter la variable 'label' comme catégorielle au lieu d'un entier"
   ]
  },
  {
   "cell_type": "code",
   "execution_count": 188,
   "id": "3af090d2",
   "metadata": {},
   "outputs": [
    {
     "name": "stdout",
     "output_type": "stream",
     "text": [
      "<class 'pandas.core.frame.DataFrame'>\n",
      "RangeIndex: 52295 entries, 0 to 52294\n",
      "Data columns (total 10 columns):\n",
      " #   Column    Non-Null Count  Dtype   \n",
      "---  ------    --------------  -----   \n",
      " 0   obj_ID    52295 non-null  int64   \n",
      " 1   alpha     52295 non-null  float64 \n",
      " 2   delta     52295 non-null  float64 \n",
      " 3   u         52295 non-null  float64 \n",
      " 4   g         52295 non-null  float64 \n",
      " 5   r         52295 non-null  float64 \n",
      " 6   i         52295 non-null  float64 \n",
      " 7   z         52295 non-null  float64 \n",
      " 8   redshift  52295 non-null  float64 \n",
      " 9   label     52295 non-null  category\n",
      "dtypes: category(1), float64(8), int64(1)\n",
      "memory usage: 3.6 MB\n"
     ]
    }
   ],
   "source": [
    "Xtrain[\"label\"] = Xtrain[\"label\"].astype(\"category\")\n",
    "Xtrain.info()#On vérifie que l'on otient ce qu'on veut "
   ]
  },
  {
   "cell_type": "markdown",
   "id": "9e3251cf",
   "metadata": {},
   "source": [
    "Nous pouvons aussi analyser plus précisément chaque variable à l'aide de la commande .describe()"
   ]
  },
  {
   "cell_type": "code",
   "execution_count": 189,
   "id": "875aee36",
   "metadata": {},
   "outputs": [
    {
     "data": {
      "text/html": [
       "<div>\n",
       "<style scoped>\n",
       "    .dataframe tbody tr th:only-of-type {\n",
       "        vertical-align: middle;\n",
       "    }\n",
       "\n",
       "    .dataframe tbody tr th {\n",
       "        vertical-align: top;\n",
       "    }\n",
       "\n",
       "    .dataframe thead th {\n",
       "        text-align: right;\n",
       "    }\n",
       "</style>\n",
       "<table border=\"1\" class=\"dataframe\">\n",
       "  <thead>\n",
       "    <tr style=\"text-align: right;\">\n",
       "      <th></th>\n",
       "      <th>obj_ID</th>\n",
       "      <th>alpha</th>\n",
       "      <th>delta</th>\n",
       "      <th>u</th>\n",
       "      <th>g</th>\n",
       "      <th>r</th>\n",
       "      <th>i</th>\n",
       "      <th>z</th>\n",
       "      <th>redshift</th>\n",
       "    </tr>\n",
       "  </thead>\n",
       "  <tbody>\n",
       "    <tr>\n",
       "      <th>count</th>\n",
       "      <td>52295.000000</td>\n",
       "      <td>52295.000000</td>\n",
       "      <td>52295.000000</td>\n",
       "      <td>52295.000000</td>\n",
       "      <td>52295.000000</td>\n",
       "      <td>52295.000000</td>\n",
       "      <td>52295.000000</td>\n",
       "      <td>52295.000000</td>\n",
       "      <td>52295.000000</td>\n",
       "    </tr>\n",
       "    <tr>\n",
       "      <th>mean</th>\n",
       "      <td>26147.000000</td>\n",
       "      <td>179.950018</td>\n",
       "      <td>24.176598</td>\n",
       "      <td>22.162707</td>\n",
       "      <td>20.691976</td>\n",
       "      <td>19.676736</td>\n",
       "      <td>19.095594</td>\n",
       "      <td>18.769568</td>\n",
       "      <td>0.573293</td>\n",
       "    </tr>\n",
       "    <tr>\n",
       "      <th>std</th>\n",
       "      <td>15096.410501</td>\n",
       "      <td>95.692902</td>\n",
       "      <td>19.417517</td>\n",
       "      <td>2.269335</td>\n",
       "      <td>2.054398</td>\n",
       "      <td>1.860475</td>\n",
       "      <td>1.752333</td>\n",
       "      <td>1.755465</td>\n",
       "      <td>0.726127</td>\n",
       "    </tr>\n",
       "    <tr>\n",
       "      <th>min</th>\n",
       "      <td>0.000000</td>\n",
       "      <td>0.013337</td>\n",
       "      <td>-17.636198</td>\n",
       "      <td>10.996230</td>\n",
       "      <td>10.498200</td>\n",
       "      <td>9.822070</td>\n",
       "      <td>9.469903</td>\n",
       "      <td>9.612333</td>\n",
       "      <td>-0.009971</td>\n",
       "    </tr>\n",
       "    <tr>\n",
       "      <th>25%</th>\n",
       "      <td>13073.500000</td>\n",
       "      <td>129.158091</td>\n",
       "      <td>6.261014</td>\n",
       "      <td>20.398010</td>\n",
       "      <td>19.012810</td>\n",
       "      <td>18.176300</td>\n",
       "      <td>17.764080</td>\n",
       "      <td>17.489495</td>\n",
       "      <td>0.061434</td>\n",
       "    </tr>\n",
       "    <tr>\n",
       "      <th>50%</th>\n",
       "      <td>26147.000000</td>\n",
       "      <td>182.750060</td>\n",
       "      <td>23.289472</td>\n",
       "      <td>22.314630</td>\n",
       "      <td>21.190710</td>\n",
       "      <td>20.164010</td>\n",
       "      <td>19.419960</td>\n",
       "      <td>19.009600</td>\n",
       "      <td>0.434668</td>\n",
       "    </tr>\n",
       "    <tr>\n",
       "      <th>75%</th>\n",
       "      <td>39220.500000</td>\n",
       "      <td>236.194344</td>\n",
       "      <td>39.359462</td>\n",
       "      <td>23.785235</td>\n",
       "      <td>22.187810</td>\n",
       "      <td>21.069815</td>\n",
       "      <td>20.391470</td>\n",
       "      <td>19.893945</td>\n",
       "      <td>0.691771</td>\n",
       "    </tr>\n",
       "    <tr>\n",
       "      <th>max</th>\n",
       "      <td>52294.000000</td>\n",
       "      <td>359.999615</td>\n",
       "      <td>83.000519</td>\n",
       "      <td>30.660390</td>\n",
       "      <td>31.602240</td>\n",
       "      <td>29.571860</td>\n",
       "      <td>30.250090</td>\n",
       "      <td>28.238290</td>\n",
       "      <td>7.011245</td>\n",
       "    </tr>\n",
       "  </tbody>\n",
       "</table>\n",
       "</div>"
      ],
      "text/plain": [
       "             obj_ID         alpha         delta             u             g  \\\n",
       "count  52295.000000  52295.000000  52295.000000  52295.000000  52295.000000   \n",
       "mean   26147.000000    179.950018     24.176598     22.162707     20.691976   \n",
       "std    15096.410501     95.692902     19.417517      2.269335      2.054398   \n",
       "min        0.000000      0.013337    -17.636198     10.996230     10.498200   \n",
       "25%    13073.500000    129.158091      6.261014     20.398010     19.012810   \n",
       "50%    26147.000000    182.750060     23.289472     22.314630     21.190710   \n",
       "75%    39220.500000    236.194344     39.359462     23.785235     22.187810   \n",
       "max    52294.000000    359.999615     83.000519     30.660390     31.602240   \n",
       "\n",
       "                  r             i             z      redshift  \n",
       "count  52295.000000  52295.000000  52295.000000  52295.000000  \n",
       "mean      19.676736     19.095594     18.769568      0.573293  \n",
       "std        1.860475      1.752333      1.755465      0.726127  \n",
       "min        9.822070      9.469903      9.612333     -0.009971  \n",
       "25%       18.176300     17.764080     17.489495      0.061434  \n",
       "50%       20.164010     19.419960     19.009600      0.434668  \n",
       "75%       21.069815     20.391470     19.893945      0.691771  \n",
       "max       29.571860     30.250090     28.238290      7.011245  "
      ]
     },
     "execution_count": 189,
     "metadata": {},
     "output_type": "execute_result"
    }
   ],
   "source": [
    "Xtrain.describe()\n",
    "#Notons que la variable 'alpha' prend de très grandes valeurs comparé aux autres et a aussi une très grande variance"
   ]
  },
  {
   "cell_type": "markdown",
   "id": "4588c3b2",
   "metadata": {},
   "source": [
    "## Vérification des valeurs manquantes et doublons"
   ]
  },
  {
   "cell_type": "code",
   "execution_count": 190,
   "id": "7e8e32bd",
   "metadata": {},
   "outputs": [
    {
     "data": {
      "text/plain": [
       "0"
      ]
     },
     "execution_count": 190,
     "metadata": {},
     "output_type": "execute_result"
    }
   ],
   "source": [
    "Xtrain.duplicated().sum() #on verifie si on a des doublons"
   ]
  },
  {
   "cell_type": "code",
   "execution_count": 191,
   "id": "feb08a5a",
   "metadata": {},
   "outputs": [
    {
     "data": {
      "text/plain": [
       "obj_ID      0\n",
       "alpha       0\n",
       "delta       0\n",
       "u           0\n",
       "g           0\n",
       "r           0\n",
       "i           0\n",
       "z           0\n",
       "redshift    0\n",
       "label       0\n",
       "dtype: int64"
      ]
     },
     "execution_count": 191,
     "metadata": {},
     "output_type": "execute_result"
    }
   ],
   "source": [
    "Xtrain.isnull().sum() #on vérifie si on a des valeurs manquantes"
   ]
  },
  {
   "cell_type": "markdown",
   "id": "6280ab4b",
   "metadata": {},
   "source": [
    "## Etude de la Corrélation"
   ]
  },
  {
   "cell_type": "code",
   "execution_count": 192,
   "id": "1343e828",
   "metadata": {},
   "outputs": [
    {
     "data": {
      "text/plain": [
       "<AxesSubplot:>"
      ]
     },
     "execution_count": 192,
     "metadata": {},
     "output_type": "execute_result"
    },
    {
     "data": {
      "image/png": "[encoded data removed]",
      "text/plain": [
       "<Figure size 1440x720 with 2 Axes>"
      ]
     },
     "metadata": {
      "needs_background": "light"
     },
     "output_type": "display_data"
    }
   ],
   "source": [
    "import numpy as np\n",
    "import matplotlib.pyplot as plt\n",
    "import seaborn as sn\n",
    "\n",
    "corrMatt = Xtrain.corr()#Définition de la matrice de corrélation\n",
    "mask = np.array(corrMatt)\n",
    "mask[np.tril_indices_from(mask)] = False #cacher la partie inférieure de la matrice de correlation\n",
    "fig,ax= plt.subplots()\n",
    "fig.set_size_inches(20,10)\n",
    "sn.heatmap(corrMatt, mask=mask,vmax=.8, square=True,annot=True)#Affichage des correlations"
   ]
  },
  {
   "cell_type": "code",
   "execution_count": 193,
   "id": "c916dac7",
   "metadata": {},
   "outputs": [],
   "source": [
    "#on enlève la variables corrélées : r\n",
    "Xtrain.drop(['r'],axis=1, inplace=True)\n",
    "Xtest.drop(['r'],axis=1, inplace=True)"
   ]
  },
  {
   "cell_type": "code",
   "execution_count": 194,
   "id": "7e7312ba",
   "metadata": {},
   "outputs": [
    {
     "data": {
      "text/plain": [
       "Index(['obj_ID', 'alpha', 'delta', 'u', 'g', 'i', 'z', 'redshift', 'label'], dtype='object')"
      ]
     },
     "execution_count": 194,
     "metadata": {},
     "output_type": "execute_result"
    }
   ],
   "source": [
    "Xtrain.columns #on vérifie qu'on a les bonnes colonnes"
   ]
  },
  {
   "cell_type": "markdown",
   "id": "01c2b891",
   "metadata": {},
   "source": [
    "## Détection de valeurs aberrantes"
   ]
  },
  {
   "cell_type": "code",
   "execution_count": 195,
   "id": "954556af",
   "metadata": {},
   "outputs": [
    {
     "data": {
      "image/png": "[encoded data removed]",
      "text/plain": [
       "<Figure size 864x576 with 10 Axes>"
      ]
     },
     "metadata": {
      "needs_background": "light"
     },
     "output_type": "display_data"
    }
   ],
   "source": [
    "n_variables = len(Xtrain.columns)\n",
    "n_cols = 2\n",
    "n_rows = (n_variables + 1) // n_cols\n",
    "\n",
    "# Création des sous-graphiques\n",
    "fig, axes = plt.subplots(n_rows, n_cols, figsize=(12, 8))\n",
    "fig.subplots_adjust(hspace=0.5)  # Ajustement de l'espacement vertical entre les sous-graphiques\n",
    "\n",
    "# Itération sur chaque variable et création d'un boxplot sur un sous-graphique différent\n",
    "for i, variable in enumerate(Xtrain.columns):\n",
    "    row = i // n_cols\n",
    "    col = i % n_cols\n",
    "    ax = axes[row, col]\n",
    "    ax.boxplot(Xtrain[variable])\n",
    "    ax.set_title(variable)\n",
    "    ax.set_ylabel('Valeurs')"
   ]
  },
  {
   "cell_type": "code",
   "execution_count": 196,
   "id": "bd17b93d",
   "metadata": {},
   "outputs": [
    {
     "data": {
      "text/plain": [
       "[Text(0.5, 0, 'label'), Text(0, 0.5, 'i'), Text(0.5, 1.0, 'Box Plot On i')]"
      ]
     },
     "execution_count": 196,
     "metadata": {},
     "output_type": "execute_result"
    },
    {
     "data": {
      "image/png": "[encoded data removed]",
      "text/plain": [
       "<Figure size 576x576 with 1 Axes>"
      ]
     },
     "metadata": {
      "needs_background": "light"
     },
     "output_type": "display_data"
    }
   ],
   "source": [
    "# On fait le boxplot pour la variable i \n",
    "fig, axes = plt.subplots(nrows=1,ncols=1)\n",
    "fig.set_size_inches(8, 8)\n",
    "\n",
    "sn.boxplot(data=Xtrain,y=\"i\",orient=\"v\",ax=axes)\n",
    "\n",
    "axes.set(xlabel='label', ylabel='i',title=\"Box Plot On i\")\n",
    "\n",
    "\n",
    "\n"
   ]
  },
  {
   "cell_type": "code",
   "execution_count": 197,
   "id": "946a528c",
   "metadata": {},
   "outputs": [
    {
     "data": {
      "text/plain": [
       "[Text(0.5, 0, 'label'),\n",
       " Text(0, 0.5, 'i'),\n",
       " Text(0.5, 1.0, 'Box Plot On i Across label')]"
      ]
     },
     "execution_count": 197,
     "metadata": {},
     "output_type": "execute_result"
    },
    {
     "data": {
      "image/png": "[encoded data removed]",
      "text/plain": [
       "<Figure size 576x576 with 1 Axes>"
      ]
     },
     "metadata": {
      "needs_background": "light"
     },
     "output_type": "display_data"
    }
   ],
   "source": [
    "#Boxplot de i en fonction des labels\n",
    "fig, axes = plt.subplots(nrows=1,ncols=1)\n",
    "fig.set_size_inches(8, 8)\n",
    "sn.boxplot(data=Xtrain,y=\"i\",x=\"label\",orient=\"v\",ax=axes)\n",
    "axes.set(xlabel='label', ylabel='i',title=\"Box Plot On i Across label\")"
   ]
  },
  {
   "cell_type": "code",
   "execution_count": 199,
   "id": "6a3fbb6a",
   "metadata": {},
   "outputs": [],
   "source": [
    "#On regarde les variables qui sont hors de la boxplot\n",
    "outlier=Xtrain[np.abs(Xtrain[\"i\"] - Xtrain[\"i\"].mean()) > (3 * Xtrain[\"i\"].std())]"
   ]
  },
  {
   "cell_type": "code",
   "execution_count": 201,
   "id": "06df12bc",
   "metadata": {},
   "outputs": [
    {
     "data": {
      "text/html": [
       "<div>\n",
       "<style scoped>\n",
       "    .dataframe tbody tr th:only-of-type {\n",
       "        vertical-align: middle;\n",
       "    }\n",
       "\n",
       "    .dataframe tbody tr th {\n",
       "        vertical-align: top;\n",
       "    }\n",
       "\n",
       "    .dataframe thead th {\n",
       "        text-align: right;\n",
       "    }\n",
       "</style>\n",
       "<table border=\"1\" class=\"dataframe\">\n",
       "  <thead>\n",
       "    <tr style=\"text-align: right;\">\n",
       "      <th></th>\n",
       "      <th>obj_ID</th>\n",
       "      <th>alpha</th>\n",
       "      <th>delta</th>\n",
       "      <th>u</th>\n",
       "      <th>g</th>\n",
       "      <th>i</th>\n",
       "      <th>z</th>\n",
       "      <th>redshift</th>\n",
       "      <th>label</th>\n",
       "    </tr>\n",
       "  </thead>\n",
       "  <tbody>\n",
       "    <tr>\n",
       "      <th>73</th>\n",
       "      <td>73</td>\n",
       "      <td>252.873026</td>\n",
       "      <td>19.416624</td>\n",
       "      <td>16.15454</td>\n",
       "      <td>14.30195</td>\n",
       "      <td>13.03615</td>\n",
       "      <td>12.71279</td>\n",
       "      <td>0.022582</td>\n",
       "      <td>0</td>\n",
       "    </tr>\n",
       "    <tr>\n",
       "      <th>1209</th>\n",
       "      <td>1209</td>\n",
       "      <td>71.052228</td>\n",
       "      <td>26.371972</td>\n",
       "      <td>17.03465</td>\n",
       "      <td>15.51468</td>\n",
       "      <td>11.97695</td>\n",
       "      <td>13.56818</td>\n",
       "      <td>0.000113</td>\n",
       "      <td>1</td>\n",
       "    </tr>\n",
       "    <tr>\n",
       "      <th>1814</th>\n",
       "      <td>1814</td>\n",
       "      <td>171.361535</td>\n",
       "      <td>57.721229</td>\n",
       "      <td>14.92536</td>\n",
       "      <td>13.56020</td>\n",
       "      <td>12.83076</td>\n",
       "      <td>12.64798</td>\n",
       "      <td>0.006129</td>\n",
       "      <td>0</td>\n",
       "    </tr>\n",
       "    <tr>\n",
       "      <th>2801</th>\n",
       "      <td>2801</td>\n",
       "      <td>139.461683</td>\n",
       "      <td>-0.278478</td>\n",
       "      <td>15.76585</td>\n",
       "      <td>14.28800</td>\n",
       "      <td>13.02648</td>\n",
       "      <td>12.64552</td>\n",
       "      <td>0.017477</td>\n",
       "      <td>0</td>\n",
       "    </tr>\n",
       "    <tr>\n",
       "      <th>2957</th>\n",
       "      <td>2957</td>\n",
       "      <td>256.688612</td>\n",
       "      <td>20.218541</td>\n",
       "      <td>25.15378</td>\n",
       "      <td>24.76277</td>\n",
       "      <td>25.60949</td>\n",
       "      <td>20.29618</td>\n",
       "      <td>-0.000157</td>\n",
       "      <td>1</td>\n",
       "    </tr>\n",
       "    <tr>\n",
       "      <th>...</th>\n",
       "      <td>...</td>\n",
       "      <td>...</td>\n",
       "      <td>...</td>\n",
       "      <td>...</td>\n",
       "      <td>...</td>\n",
       "      <td>...</td>\n",
       "      <td>...</td>\n",
       "      <td>...</td>\n",
       "      <td>...</td>\n",
       "    </tr>\n",
       "    <tr>\n",
       "      <th>49829</th>\n",
       "      <td>49829</td>\n",
       "      <td>50.241295</td>\n",
       "      <td>41.893850</td>\n",
       "      <td>17.13744</td>\n",
       "      <td>14.81121</td>\n",
       "      <td>13.07370</td>\n",
       "      <td>12.62593</td>\n",
       "      <td>0.014702</td>\n",
       "      <td>0</td>\n",
       "    </tr>\n",
       "    <tr>\n",
       "      <th>50085</th>\n",
       "      <td>50085</td>\n",
       "      <td>169.053816</td>\n",
       "      <td>20.310490</td>\n",
       "      <td>20.27785</td>\n",
       "      <td>19.92843</td>\n",
       "      <td>30.15460</td>\n",
       "      <td>18.29056</td>\n",
       "      <td>0.781847</td>\n",
       "      <td>2</td>\n",
       "    </tr>\n",
       "    <tr>\n",
       "      <th>51489</th>\n",
       "      <td>51489</td>\n",
       "      <td>119.206941</td>\n",
       "      <td>17.109716</td>\n",
       "      <td>18.46669</td>\n",
       "      <td>17.88514</td>\n",
       "      <td>24.87711</td>\n",
       "      <td>16.09237</td>\n",
       "      <td>-0.000093</td>\n",
       "      <td>1</td>\n",
       "    </tr>\n",
       "    <tr>\n",
       "      <th>51566</th>\n",
       "      <td>51566</td>\n",
       "      <td>211.250787</td>\n",
       "      <td>13.131893</td>\n",
       "      <td>15.78661</td>\n",
       "      <td>13.86731</td>\n",
       "      <td>12.67982</td>\n",
       "      <td>12.43503</td>\n",
       "      <td>0.017324</td>\n",
       "      <td>0</td>\n",
       "    </tr>\n",
       "    <tr>\n",
       "      <th>51770</th>\n",
       "      <td>51770</td>\n",
       "      <td>182.472158</td>\n",
       "      <td>58.393904</td>\n",
       "      <td>22.36432</td>\n",
       "      <td>18.35069</td>\n",
       "      <td>24.36098</td>\n",
       "      <td>17.71328</td>\n",
       "      <td>0.082302</td>\n",
       "      <td>0</td>\n",
       "    </tr>\n",
       "  </tbody>\n",
       "</table>\n",
       "<p>154 rows × 9 columns</p>\n",
       "</div>"
      ],
      "text/plain": [
       "       obj_ID       alpha      delta         u         g         i         z  \\\n",
       "73         73  252.873026  19.416624  16.15454  14.30195  13.03615  12.71279   \n",
       "1209     1209   71.052228  26.371972  17.03465  15.51468  11.97695  13.56818   \n",
       "1814     1814  171.361535  57.721229  14.92536  13.56020  12.83076  12.64798   \n",
       "2801     2801  139.461683  -0.278478  15.76585  14.28800  13.02648  12.64552   \n",
       "2957     2957  256.688612  20.218541  25.15378  24.76277  25.60949  20.29618   \n",
       "...       ...         ...        ...       ...       ...       ...       ...   \n",
       "49829   49829   50.241295  41.893850  17.13744  14.81121  13.07370  12.62593   \n",
       "50085   50085  169.053816  20.310490  20.27785  19.92843  30.15460  18.29056   \n",
       "51489   51489  119.206941  17.109716  18.46669  17.88514  24.87711  16.09237   \n",
       "51566   51566  211.250787  13.131893  15.78661  13.86731  12.67982  12.43503   \n",
       "51770   51770  182.472158  58.393904  22.36432  18.35069  24.36098  17.71328   \n",
       "\n",
       "       redshift label  \n",
       "73     0.022582     0  \n",
       "1209   0.000113     1  \n",
       "1814   0.006129     0  \n",
       "2801   0.017477     0  \n",
       "2957  -0.000157     1  \n",
       "...         ...   ...  \n",
       "49829  0.014702     0  \n",
       "50085  0.781847     2  \n",
       "51489 -0.000093     1  \n",
       "51566  0.017324     0  \n",
       "51770  0.082302     0  \n",
       "\n",
       "[154 rows x 9 columns]"
      ]
     },
     "execution_count": 201,
     "metadata": {},
     "output_type": "execute_result"
    }
   ],
   "source": [
    "outlier"
   ]
  },
  {
   "cell_type": "code",
   "execution_count": 202,
   "id": "57a348f2",
   "metadata": {},
   "outputs": [
    {
     "data": {
      "text/plain": [
       "0    116\n",
       "1     32\n",
       "2      6\n",
       "Name: label, dtype: int64"
      ]
     },
     "execution_count": 202,
     "metadata": {},
     "output_type": "execute_result"
    }
   ],
   "source": [
    "#On regarde les valeurs aberrantes par categorie\n",
    "outlier['label'].value_counts()"
   ]
  },
  {
   "cell_type": "code",
   "execution_count": 203,
   "id": "8fe3f381",
   "metadata": {},
   "outputs": [
    {
     "data": {
      "text/plain": [
       "0    31900\n",
       "1    11019\n",
       "2     9376\n",
       "Name: label, dtype: int64"
      ]
     },
     "execution_count": 203,
     "metadata": {},
     "output_type": "execute_result"
    }
   ],
   "source": [
    "#Par rapport au nombre total de valeurs par categories\n",
    "Xtrain['label'].value_counts()"
   ]
  },
  {
   "cell_type": "markdown",
   "id": "fc3069de",
   "metadata": {},
   "source": [
    "### Séparation des données pour l'évaluation des modèles"
   ]
  },
  {
   "cell_type": "code",
   "execution_count": 14,
   "id": "394fdb00",
   "metadata": {},
   "outputs": [],
   "source": [
    "#Suppression de la colonne 'obj_ID'\n",
    "ID=Xtest['obj_ID']\n",
    "Xtrain.drop(['obj_ID'],axis=1, inplace=True)\n",
    "Xtest.drop(['obj_ID'],axis=1, inplace=True)\n",
    "\n",
    "#Déplacement de la variable 'label' dans un autre data set\n",
    "Ytrain=Xtrain['label']\n",
    "Xtrain.drop(['label'],axis=1, inplace=True)"
   ]
  },
  {
   "cell_type": "code",
   "execution_count": 35,
   "id": "1963e903",
   "metadata": {},
   "outputs": [],
   "source": [
    "#Séparation des données: 25% de test et 75% d'entrainement\n",
    "from sklearn.model_selection import train_test_split\n",
    "X_train, X_test, y_train, y_test=train_test_split(Xtrain,Ytrain, random_state=150)"
   ]
  },
  {
   "cell_type": "markdown",
   "id": "7e0cdfdc",
   "metadata": {},
   "source": [
    "Maintenant que nous avons séparé nos données, nous pouvons entraîner différents modèles de classification multi-classe."
   ]
  },
  {
   "cell_type": "markdown",
   "id": "463bb691",
   "metadata": {},
   "source": [
    "## Modélisation"
   ]
  },
  {
   "cell_type": "markdown",
   "id": "2b324adc",
   "metadata": {},
   "source": [
    "### K plus proches voisins"
   ]
  },
  {
   "cell_type": "markdown",
   "id": "31678be3",
   "metadata": {},
   "source": [
    "Nous avons d'abord entraîné une méthode de knn simple avec n=3 voisins. La première étape est la normalisation des données.\n"
   ]
  },
  {
   "cell_type": "code",
   "execution_count": 36,
   "id": "81f573e1",
   "metadata": {},
   "outputs": [],
   "source": [
    "#Normalisation\n",
    "from sklearn.preprocessing import StandardScaler\n",
    "scaler=StandardScaler()\n",
    "scaler.fit(X_train)\n",
    "Xtrain_normed=pd.DataFrame(scaler.transform(X_train))\n",
    "Xtest_normed=pd.DataFrame(scaler.transform(X_test))"
   ]
  },
  {
   "cell_type": "code",
   "execution_count": 37,
   "id": "105b12f2",
   "metadata": {},
   "outputs": [
    {
     "data": {
      "text/plain": [
       "KNeighborsClassifier(n_neighbors=3)"
      ]
     },
     "execution_count": 37,
     "metadata": {},
     "output_type": "execute_result"
    }
   ],
   "source": [
    "#Entrainement du modèle simple\n",
    "from sklearn.neighbors import KNeighborsClassifier\n",
    "neigh = KNeighborsClassifier(n_neighbors=3)\n",
    "neigh.fit(Xtrain_normed, y_train)\n"
   ]
  },
  {
   "cell_type": "markdown",
   "id": "2e873d22",
   "metadata": {},
   "source": [
    "Nous allons alors calculer le score f1 de ce modèle sur nos données test."
   ]
  },
  {
   "cell_type": "code",
   "execution_count": 38,
   "id": "a009e2bc",
   "metadata": {},
   "outputs": [
    {
     "name": "stdout",
     "output_type": "stream",
     "text": [
      "0.9313332378963213\n"
     ]
    }
   ],
   "source": [
    "#Prédictions et performances\n",
    "from sklearn.metrics import f1_score\n",
    "res_knn_default=neigh.predict(Xtest_normed)\n",
    "score_knn_defaut=f1_score(y_test, res_knn_default, average='weighted')\n",
    "print(score_knn_defaut)#0.93"
   ]
  },
  {
   "cell_type": "markdown",
   "id": "8ab53298",
   "metadata": {},
   "source": [
    "### Selection des hyperparamètres"
   ]
  },
  {
   "cell_type": "code",
   "execution_count": 33,
   "id": "18103742",
   "metadata": {},
   "outputs": [],
   "source": [
    "#Validation croisée\n",
    "from sklearn.model_selection import cross_val_score\n",
    "score = 'f1_weighted' #on définit le score à optimiser"
   ]
  },
  {
   "cell_type": "code",
   "execution_count": 26,
   "id": "5098c400",
   "metadata": {},
   "outputs": [
    {
     "data": {
      "text/plain": [
       "GridSearchCV(cv=5, estimator=KNeighborsClassifier(),\n",
       "             param_grid={'metric': ['euclidean', 'manhattan', 'minkowski'],\n",
       "                         'n_neighbors': [3, 5, 7, 9, 11, 13, 15]},\n",
       "             scoring='f1_weighted')"
      ]
     },
     "execution_count": 26,
     "metadata": {},
     "output_type": "execute_result"
    }
   ],
   "source": [
    "param_grid = {'n_neighbors':[3, 5, 7, 9, 11, 13, 15],\n",
    "             'metric':['euclidean','manhattan','minkowski']}#Définition des paramètres à optimiser\n",
    "\n",
    "from sklearn import neighbors, metrics\n",
    "from sklearn import model_selection\n",
    "\n",
    "clf = model_selection.GridSearchCV(\n",
    "    neighbors.KNeighborsClassifier(), # un classifieur kNN\n",
    "    param_grid,     # hyperparamètres à tester\n",
    "    cv=5,           # nombre de folds de validation croisée\n",
    "    scoring=score   # score à optimiser\n",
    ")\n",
    "clf.fit(Xtrain_normed,y_train)\n"
   ]
  },
  {
   "cell_type": "code",
   "execution_count": 33,
   "id": "2b58d053",
   "metadata": {},
   "outputs": [
    {
     "data": {
      "text/plain": [
       "{'metric': 'manhattan', 'n_neighbors': 5}"
      ]
     },
     "execution_count": 33,
     "metadata": {},
     "output_type": "execute_result"
    }
   ],
   "source": [
    "clf.best_params_ #on affiche les pramètres retenus"
   ]
  },
  {
   "cell_type": "code",
   "execution_count": 38,
   "id": "77648661",
   "metadata": {},
   "outputs": [
    {
     "name": "stdout",
     "output_type": "stream",
     "text": [
      "0.9377051037244456\n"
     ]
    }
   ],
   "source": [
    "res_knn=clf.predict(Xtest_normed)#on fait les prédictions avec le meilleur modèle\n",
    "print(f1_score(y_test,res_knn, average='weighted'))#Affichage des résultats"
   ]
  },
  {
   "cell_type": "code",
   "execution_count": 21,
   "id": "a93c552a",
   "metadata": {},
   "outputs": [],
   "source": [
    "#mise en forme et téléchargement des données\n",
    "predictions=pd.DataFrame(predictions)\n",
    "\n",
    "predictions.insert(loc=0, column='obj_ID', value=ID)#ajout de la colonne 'obj_ID'\n",
    "predictions.columns=['obj_ID','label']\n",
    "predictions.to_csv(\"res_knn_sansr_classif.csv\", index=False)#téléchargement"
   ]
  },
  {
   "cell_type": "markdown",
   "id": "7c482be0",
   "metadata": {},
   "source": [
    "La méthode des K plus proches voisins nous a donné un score de 94% après soumission sur Kaggle."
   ]
  },
  {
   "cell_type": "markdown",
   "id": "1ab592b0",
   "metadata": {},
   "source": [
    "### Forêts Aléatoires"
   ]
  },
  {
   "cell_type": "markdown",
   "id": "7e41c739",
   "metadata": {},
   "source": [
    "Nous allons maintenant entraîner un modèle de Forêts Aléatoires sur nos données d'entraînement. "
   ]
  },
  {
   "cell_type": "code",
   "execution_count": 21,
   "id": "1ba3b295",
   "metadata": {},
   "outputs": [],
   "source": [
    "from sklearn.ensemble import RandomForestClassifier"
   ]
  },
  {
   "cell_type": "code",
   "execution_count": 39,
   "id": "5743f7b4",
   "metadata": {},
   "outputs": [
    {
     "name": "stdout",
     "output_type": "stream",
     "text": [
      "0.9771583153088522\n"
     ]
    }
   ],
   "source": [
    "#Entraînement d'un premier modèle par défault\n",
    "\n",
    "rfModel = RandomForestClassifier(random_state=42)#Définition du modèle\n",
    "rfModel.fit(X_train,y_train)#Entrainement sur les données\n",
    "rf_pred=rfModel.predict(X_test)#Prédictions\n",
    "rf_score=f1_score(y_test, rf_pred, average='weighted')#calcul du score\n",
    "print(rf_score)#0.9771"
   ]
  },
  {
   "cell_type": "markdown",
   "id": "04be9487",
   "metadata": {},
   "source": [
    "### Ajustement des paramètres"
   ]
  },
  {
   "cell_type": "code",
   "execution_count": 99,
   "id": "e342e177",
   "metadata": {},
   "outputs": [],
   "source": [
    "param_rf={\n",
    "    'n_estimators':500,#nombre d'arbres de décision dans la forêt. \n",
    "    'criterion':'gini',# fonction de critère utilisée pour mesurer la qualité de la division\n",
    "    'max_depth':40,#profondeur maximale de chaque arbre de décision.\n",
    "    'min_samples_split':3,#nombre minimum d'échantillons requis pour qu'une division se produise\n",
    "    'max_features':3,#nombre de caractéristiques à considérer lors de la recherche de la meilleure division\n",
    "    'min_samples_leaf':1,#nombre minimum d'échantillons requis pour qu'un nœud soit une feuille.\n",
    "    'random_state':42#seed\n",
    "}\n"
   ]
  },
  {
   "cell_type": "code",
   "execution_count": 101,
   "id": "32d18161",
   "metadata": {},
   "outputs": [
    {
     "name": "stdout",
     "output_type": "stream",
     "text": [
      "0.9777767284924215\n"
     ]
    }
   ],
   "source": [
    "rfModel_best = RandomForestClassifier(**param_rf,n_jobs=-1)#modèle avec les meilleurs hyper paramètres\n",
    "rfModel_best.fit(X_train,y_train)#entrainement sur nos données\n",
    "rf_pred_best=rfModel_best.predict(X_test)#prediction\n",
    "score=f1_score(y_test, rf_pred_best, average='weighted') #calcul du score\n",
    "print(score)#0.9777"
   ]
  },
  {
   "cell_type": "markdown",
   "id": "89c9c1e4",
   "metadata": {},
   "source": [
    "### Validation croisée"
   ]
  },
  {
   "cell_type": "code",
   "execution_count": 173,
   "id": "ab449852",
   "metadata": {},
   "outputs": [],
   "source": [
    "from sklearn import model_selection"
   ]
  },
  {
   "cell_type": "code",
   "execution_count": 174,
   "id": "c8a9d502",
   "metadata": {},
   "outputs": [
    {
     "name": "stdout",
     "output_type": "stream",
     "text": [
      "Best parameters: {'max_depth': None, 'min_samples_leaf': 1, 'min_samples_split': 5, 'n_estimators': 100}\n",
      "F1 Value For RandomForestClassifier:  0.9766014900381371\n"
     ]
    }
   ],
   "source": [
    "#Définition des paramètres à optimiser\n",
    "rf_params = {\n",
    "    'n_estimators': [100, 300, 500],\n",
    "    'max_depth': [None, 10, 40],\n",
    "    'min_samples_split': [2, 5, 10],\n",
    "    'min_samples_leaf': [1, 2, 4],\n",
    "    \n",
    "\n",
    "}\n",
    "\n",
    "# Créer un objet GridSearchCV\n",
    "grid_rf = model_selection.GridSearchCV(rfModel, rf_params, cv=5, scoring='f1_weighted', n_jobs=-1)\n",
    "\n",
    "# Ajuste la recherche d'hyperparamètres sur les données d'entraînement\n",
    "grid_rf.fit(X_train, y_train)\n",
    "\n",
    "#meilleurs hyperparamètres trouvés\n",
    "best_params = grid_rf.best_params_\n",
    "\n",
    "# Utilisation le meilleur modèle pour faire des prédictions sur les données de test\n",
    "rf_preds = grid_rf.predict(X_test)\n",
    "\n",
    "# Affichage des meilleurs hyperparamètres et des performances du modèle\n",
    "print(\"Best parameters:\", best_params)\n",
    "print(\"F1 Value For RandomForestClassifier: \", f1_score(y_test, rf_preds, average='weighted'))"
   ]
  },
  {
   "cell_type": "markdown",
   "id": "1183a6ab",
   "metadata": {},
   "source": [
    "### Soumission d'un premier résultat"
   ]
  },
  {
   "cell_type": "code",
   "execution_count": 102,
   "id": "bfd54e14",
   "metadata": {},
   "outputs": [],
   "source": [
    "predictions_rf =rfModel_best.predict(Xtest)#prédictions sur les données test\n",
    "predictions_rf=pd.DataFrame(predictions_rf)\n",
    "predictions_rf.insert(loc=0, column='obj_ID', value=ID)#ajout de la colonne 'obj_ID'\n",
    "predictions_rf.columns=['obj_ID','label']\n",
    "predictions_rf.to_csv(\"res_rf_classif_final.csv\", index=False)#téléchargement"
   ]
  },
  {
   "cell_type": "markdown",
   "id": "9e1005af",
   "metadata": {},
   "source": [
    "### Extra trees"
   ]
  },
  {
   "cell_type": "markdown",
   "id": "441d0919",
   "metadata": {},
   "source": [
    "Nous allons donc entraîner ce modèle sur nos données."
   ]
  },
  {
   "cell_type": "code",
   "execution_count": 63,
   "id": "6eab98dc",
   "metadata": {},
   "outputs": [],
   "source": [
    "from sklearn.ensemble import ExtraTreesClassifier"
   ]
  },
  {
   "cell_type": "code",
   "execution_count": 64,
   "id": "6a3ad5b5",
   "metadata": {},
   "outputs": [
    {
     "name": "stdout",
     "output_type": "stream",
     "text": [
      "0.9718134095318226\n"
     ]
    }
   ],
   "source": [
    "#Entraînement d'un premier modèle par défault\n",
    "\n",
    "etModel = ExtraTreesClassifier(random_state=42)\n",
    "etModel.fit(X_train,y_train)\n",
    "et_pred=etModel.predict(X_test)\n",
    "score_et=f1_score(y_test, et_pred, average='weighted')\n",
    "print(score_et)#0.9718"
   ]
  },
  {
   "cell_type": "markdown",
   "id": "c6d2bd78",
   "metadata": {},
   "source": [
    "Nous allons maintenant jouer avec les parametres pour obtenir le meilleur score possible avant de lancer la validation croisée."
   ]
  },
  {
   "cell_type": "code",
   "execution_count": 93,
   "id": "8fc2808b",
   "metadata": {},
   "outputs": [],
   "source": [
    "param_et={\n",
    "    'n_estimators':500,#nombre d'arbres de décision dans la forêt. \n",
    "    'criterion':'gini',# fonction de critère utilisée pour mesurer la qualité de la division\n",
    "    'max_depth':None,#profondeur maximale de chaque arbre de décision.\n",
    "    'min_samples_split':2,#nombre minimum d'échantillons requis pour qu'une division se produise\n",
    "    'max_features':7,#nombre de caractéristiques à considérer lors de la recherche de la meilleure division\n",
    "    'min_samples_leaf':1,#nombre minimum d'échantillons requis pour qu'un nœud soit une feuille.\n",
    "    'random_state':42#seed\n",
    "    \n",
    "}"
   ]
  },
  {
   "cell_type": "code",
   "execution_count": 94,
   "id": "0bea1bbd",
   "metadata": {},
   "outputs": [
    {
     "name": "stdout",
     "output_type": "stream",
     "text": [
      "0.9742429893637785\n"
     ]
    }
   ],
   "source": [
    "etModel_best = ExtraTreesClassifier(**param_et)#modèle avec les meilleurs hyper paramètres\n",
    "etModel_best.fit(X_train,y_train)#entrainement sur nos données\n",
    "et_pred_best=etModel_best.predict(X_test)#prédiction\n",
    "score_et_best=f1_score(y_test, et_pred_best, average='weighted') #calcul du score\n",
    "print(score_et_best)#0.9742"
   ]
  },
  {
   "cell_type": "markdown",
   "id": "afc56f4c",
   "metadata": {},
   "source": [
    "Nous allons maintenant choisir les hyper paramètres par validation croisée."
   ]
  },
  {
   "cell_type": "code",
   "execution_count": 162,
   "id": "13cf7d6b",
   "metadata": {},
   "outputs": [
    {
     "name": "stdout",
     "output_type": "stream",
     "text": [
      "Best parameters: {'max_features': 7, 'min_samples_split': 5, 'n_estimators': 300}\n",
      "F1 Value For ExtraTreesClassifier:  0.9735506449443933\n"
     ]
    }
   ],
   "source": [
    "#Evaluation des meilleurs hyper paramètres par validation croisée\n",
    "from sklearn.model_selection import GridSearchCV\n",
    "#Définition des paramètres à tester\n",
    "et_params = {\n",
    "    'n_estimators': [100, 300, 500],\n",
    "    'min_samples_split': [2, 5, 10],\n",
    "    'max_features':['auto',5,7]\n",
    "}\n",
    "\n",
    "# Créer un objet GridSearchCV\n",
    "grid_et = GridSearchCV(etModel, et_params, cv=5, scoring='f1_weighted', n_jobs=-1)\n",
    "\n",
    "# Ajuste la recherche d'hyperparamètres sur les données d'entraînement\n",
    "grid_et.fit(X_train, y_train)\n",
    "\n",
    "#meilleurs hyperparamètres trouvés\n",
    "best_params = grid_et.best_params_\n",
    "\n",
    "# Utilisation du meilleur modèle pour faire des prédictions sur les données de test\n",
    "et_preds = grid_et.predict(X_test)\n",
    "\n",
    "# Affichage des meilleurs hyperparamètres et des performances du modèle\n",
    "print(\"Best parameters:\", best_params)\n",
    "print(\"F1 Value For ExtraTreesClassifier: \", f1_score(y_test, et_preds, average='weighted'))"
   ]
  },
  {
   "cell_type": "markdown",
   "id": "8f4d1224",
   "metadata": {},
   "source": [
    "Le meilleur modèle de Extra Trees ne semble pas meilleur que Random Forest, mais il reste assez performant par rapport à Knn, on peut donc tenter une soumission avec ce modèle"
   ]
  },
  {
   "cell_type": "code",
   "execution_count": 163,
   "id": "511294a9",
   "metadata": {},
   "outputs": [],
   "source": [
    "#On fait une soumission avec les paramètres trouvés à la main\n",
    "etModel_best.fit(Xtrain,Ytrain)\n",
    "predictions_et= etModel_best.predict(Xtest)\n",
    "predictions_et=pd.DataFrame(predictions_et)\n",
    "predictions_et.insert(loc=0, column='obj_ID', value=ID)#ajout de la colonne 'obj_ID'\n",
    "predictions_et.columns=['obj_ID','label']\n",
    "predictions_et.to_csv(\"res_et_sans_r_classif_final.csv\", index=False)#téléchargement"
   ]
  },
  {
   "cell_type": "markdown",
   "id": "04a3ac16",
   "metadata": {},
   "source": [
    "### Gradient Boosting"
   ]
  },
  {
   "cell_type": "markdown",
   "id": "3d609843",
   "metadata": {},
   "source": [
    "On utlise light gbm"
   ]
  },
  {
   "cell_type": "code",
   "execution_count": 103,
   "id": "3cda1e25",
   "metadata": {},
   "outputs": [
    {
     "name": "stdout",
     "output_type": "stream",
     "text": [
      "Collecting lightgbm\n",
      "  Downloading lightgbm-4.1.0-py3-none-win_amd64.whl (1.3 MB)\n",
      "Requirement already satisfied: numpy in c:\\users\\pasca\\anaconda3\\lib\\site-packages (from lightgbm) (1.21.5)\n",
      "Requirement already satisfied: scipy in c:\\users\\pasca\\anaconda3\\lib\\site-packages (from lightgbm) (1.7.3)\n",
      "Installing collected packages: lightgbm\n",
      "Successfully installed lightgbm-4.1.0\n",
      "Note: you may need to restart the kernel to use updated packages.\n"
     ]
    }
   ],
   "source": [
    "pip install lightgbm #installation du package"
   ]
  },
  {
   "cell_type": "code",
   "execution_count": 122,
   "id": "7f8d38a8",
   "metadata": {},
   "outputs": [],
   "source": [
    "from lightgbm import LGBMClassifier "
   ]
  },
  {
   "cell_type": "code",
   "execution_count": 158,
   "id": "bffedf51",
   "metadata": {},
   "outputs": [],
   "source": [
    "#Définition du modèle\n",
    "gb_model = LGBMClassifier(\n",
    "    objective='multiclass',\n",
    "    num_class=3,\n",
    "    boosting_type='gbdt',\n",
    "    metric='multi_logloss',\n",
    "    num_leaves=25,\n",
    "    learning_rate=0.1,\n",
    "    feature_fraction=0.9\n",
    ")"
   ]
  },
  {
   "cell_type": "code",
   "execution_count": 159,
   "id": "cbee76ed",
   "metadata": {},
   "outputs": [
    {
     "name": "stdout",
     "output_type": "stream",
     "text": [
      "[LightGBM] [Warning] feature_fraction is set=0.9, colsample_bytree=1.0 will be ignored. Current value: feature_fraction=0.9\n",
      "[LightGBM] [Warning] feature_fraction is set=0.9, colsample_bytree=1.0 will be ignored. Current value: feature_fraction=0.9\n",
      "[LightGBM] [Info] Auto-choosing col-wise multi-threading, the overhead of testing was 0.002288 seconds.\n",
      "You can set `force_col_wise=true` to remove the overhead.\n",
      "[LightGBM] [Info] Total Bins 1785\n",
      "[LightGBM] [Info] Number of data points in the train set: 39221, number of used features: 7\n",
      "[LightGBM] [Warning] feature_fraction is set=0.9, colsample_bytree=1.0 will be ignored. Current value: feature_fraction=0.9\n",
      "[LightGBM] [Info] Start training from score -0.495501\n",
      "[LightGBM] [Info] Start training from score -1.553680\n",
      "[LightGBM] [Info] Start training from score -1.718883\n"
     ]
    },
    {
     "data": {
      "text/plain": [
       "LGBMClassifier(feature_fraction=0.9, metric='multi_logloss', num_class=3,\n",
       "               num_leaves=25, objective='multiclass')"
      ]
     },
     "execution_count": 159,
     "metadata": {},
     "output_type": "execute_result"
    }
   ],
   "source": [
    "#Entrainement sur nos données\n",
    "gb_model.fit(X_train, y_train, eval_set=[(X_test, y_test)])"
   ]
  },
  {
   "cell_type": "code",
   "execution_count": 160,
   "id": "4a5b2b7a",
   "metadata": {},
   "outputs": [
    {
     "name": "stdout",
     "output_type": "stream",
     "text": [
      "[LightGBM] [Warning] feature_fraction is set=0.9, colsample_bytree=1.0 will be ignored. Current value: feature_fraction=0.9\n",
      "f1_score: 0.9777791393176896\n"
     ]
    }
   ],
   "source": [
    "#Prédictions et calcul du score\n",
    "y_pred_gb = gb_model.predict(X_test)\n",
    "score_gb = f1_score(y_test, y_pred_gb, average='weighted')\n",
    "print(f'f1_score: {score_gb}')#0.9777"
   ]
  },
  {
   "cell_type": "markdown",
   "id": "ad70398c",
   "metadata": {},
   "source": [
    "On cherche les hyperparamètres par validation croisée"
   ]
  },
  {
   "cell_type": "code",
   "execution_count": 164,
   "id": "35dca04a",
   "metadata": {},
   "outputs": [
    {
     "name": "stdout",
     "output_type": "stream",
     "text": [
      "Fitting 3 folds for each of 27 candidates, totalling 81 fits\n",
      "[LightGBM] [Info] Auto-choosing col-wise multi-threading, the overhead of testing was 0.001525 seconds.\n",
      "You can set `force_col_wise=true` to remove the overhead.\n",
      "[LightGBM] [Info] Total Bins 1785\n",
      "[LightGBM] [Info] Number of data points in the train set: 26147, number of used features: 7\n",
      "[LightGBM] [Info] Start training from score -0.495530\n",
      "[LightGBM] [Info] Start training from score -1.553727\n",
      "[LightGBM] [Info] Start training from score -1.718728\n",
      "[LightGBM] [Info] Auto-choosing col-wise multi-threading, the overhead of testing was 0.000639 seconds.\n",
      "You can set `force_col_wise=true` to remove the overhead.\n",
      "[LightGBM] [Info] Total Bins 1785\n",
      "[LightGBM] [Info] Number of data points in the train set: 26147, number of used features: 7\n",
      "[LightGBM] [Info] Start training from score -0.495468\n",
      "[LightGBM] [Info] Start training from score -1.553727\n",
      "[LightGBM] [Info] Start training from score -1.718942\n",
      "[LightGBM] [Info] Auto-choosing col-wise multi-threading, the overhead of testing was 0.000595 seconds.\n",
      "You can set `force_col_wise=true` to remove the overhead.\n",
      "[LightGBM] [Info] Total Bins 1785\n",
      "[LightGBM] [Info] Number of data points in the train set: 26148, number of used features: 7\n",
      "[LightGBM] [Info] Start training from score -0.495506\n",
      "[LightGBM] [Info] Start training from score -1.553585\n",
      "[LightGBM] [Info] Start training from score -1.718980\n",
      "[LightGBM] [Info] Auto-choosing col-wise multi-threading, the overhead of testing was 0.000525 seconds.\n",
      "You can set `force_col_wise=true` to remove the overhead.\n",
      "[LightGBM] [Info] Total Bins 1785\n",
      "[LightGBM] [Info] Number of data points in the train set: 26147, number of used features: 7\n",
      "[LightGBM] [Info] Start training from score -0.495530\n",
      "[LightGBM] [Info] Start training from score -1.553727\n",
      "[LightGBM] [Info] Start training from score -1.718728\n",
      "[LightGBM] [Info] Auto-choosing col-wise multi-threading, the overhead of testing was 0.000605 seconds.\n",
      "You can set `force_col_wise=true` to remove the overhead.\n",
      "[LightGBM] [Info] Total Bins 1785\n",
      "[LightGBM] [Info] Number of data points in the train set: 26147, number of used features: 7\n",
      "[LightGBM] [Info] Start training from score -0.495468\n",
      "[LightGBM] [Info] Start training from score -1.553727\n",
      "[LightGBM] [Info] Start training from score -1.718942\n",
      "[LightGBM] [Info] Auto-choosing col-wise multi-threading, the overhead of testing was 0.001086 seconds.\n",
      "You can set `force_col_wise=true` to remove the overhead.\n",
      "[LightGBM] [Info] Total Bins 1785\n",
      "[LightGBM] [Info] Number of data points in the train set: 26148, number of used features: 7\n",
      "[LightGBM] [Info] Start training from score -0.495506\n",
      "[LightGBM] [Info] Start training from score -1.553585\n",
      "[LightGBM] [Info] Start training from score -1.718980\n",
      "[LightGBM] [Info] Auto-choosing col-wise multi-threading, the overhead of testing was 0.000568 seconds.\n",
      "You can set `force_col_wise=true` to remove the overhead.\n",
      "[LightGBM] [Info] Total Bins 1785\n",
      "[LightGBM] [Info] Number of data points in the train set: 26147, number of used features: 7\n",
      "[LightGBM] [Info] Start training from score -0.495530\n",
      "[LightGBM] [Info] Start training from score -1.553727\n",
      "[LightGBM] [Info] Start training from score -1.718728\n",
      "[LightGBM] [Warning] No further splits with positive gain, best gain: -inf\n",
      "[LightGBM] [Info] Auto-choosing col-wise multi-threading, the overhead of testing was 0.000912 seconds.\n",
      "You can set `force_col_wise=true` to remove the overhead.\n",
      "[LightGBM] [Info] Total Bins 1785\n",
      "[LightGBM] [Info] Number of data points in the train set: 26147, number of used features: 7\n",
      "[LightGBM] [Info] Start training from score -0.495468\n",
      "[LightGBM] [Info] Start training from score -1.553727\n",
      "[LightGBM] [Info] Start training from score -1.718942\n",
      "[LightGBM] [Warning] No further splits with positive gain, best gain: -inf\n",
      "[LightGBM] [Info] Auto-choosing col-wise multi-threading, the overhead of testing was 0.001122 seconds.\n",
      "You can set `force_col_wise=true` to remove the overhead.\n",
      "[LightGBM] [Info] Total Bins 1785\n",
      "[LightGBM] [Info] Number of data points in the train set: 26148, number of used features: 7\n",
      "[LightGBM] [Info] Start training from score -0.495506\n",
      "[LightGBM] [Info] Start training from score -1.553585\n",
      "[LightGBM] [Info] Start training from score -1.718980\n",
      "[LightGBM] [Warning] No further splits with positive gain, best gain: -inf\n",
      "[LightGBM] [Info] Auto-choosing col-wise multi-threading, the overhead of testing was 0.001643 seconds.\n",
      "You can set `force_col_wise=true` to remove the overhead.\n",
      "[LightGBM] [Info] Total Bins 1785\n",
      "[LightGBM] [Info] Number of data points in the train set: 26147, number of used features: 7\n",
      "[LightGBM] [Info] Start training from score -0.495530\n",
      "[LightGBM] [Info] Start training from score -1.553727\n",
      "[LightGBM] [Info] Start training from score -1.718728\n",
      "[LightGBM] [Info] Auto-choosing col-wise multi-threading, the overhead of testing was 0.000945 seconds.\n",
      "You can set `force_col_wise=true` to remove the overhead.\n",
      "[LightGBM] [Info] Total Bins 1785\n",
      "[LightGBM] [Info] Number of data points in the train set: 26147, number of used features: 7\n",
      "[LightGBM] [Info] Start training from score -0.495468\n",
      "[LightGBM] [Info] Start training from score -1.553727\n",
      "[LightGBM] [Info] Start training from score -1.718942\n",
      "[LightGBM] [Info] Auto-choosing col-wise multi-threading, the overhead of testing was 0.001178 seconds.\n",
      "You can set `force_col_wise=true` to remove the overhead.\n",
      "[LightGBM] [Info] Total Bins 1785\n",
      "[LightGBM] [Info] Number of data points in the train set: 26148, number of used features: 7\n",
      "[LightGBM] [Info] Start training from score -0.495506\n",
      "[LightGBM] [Info] Start training from score -1.553585\n",
      "[LightGBM] [Info] Start training from score -1.718980\n",
      "[LightGBM] [Info] Auto-choosing col-wise multi-threading, the overhead of testing was 0.001054 seconds.\n",
      "You can set `force_col_wise=true` to remove the overhead.\n",
      "[LightGBM] [Info] Total Bins 1785\n",
      "[LightGBM] [Info] Number of data points in the train set: 26147, number of used features: 7\n",
      "[LightGBM] [Info] Start training from score -0.495530\n",
      "[LightGBM] [Info] Start training from score -1.553727\n",
      "[LightGBM] [Info] Start training from score -1.718728\n",
      "[LightGBM] [Info] Auto-choosing col-wise multi-threading, the overhead of testing was 0.001044 seconds.\n",
      "You can set `force_col_wise=true` to remove the overhead.\n",
      "[LightGBM] [Info] Total Bins 1785\n",
      "[LightGBM] [Info] Number of data points in the train set: 26147, number of used features: 7\n",
      "[LightGBM] [Info] Start training from score -0.495468\n",
      "[LightGBM] [Info] Start training from score -1.553727\n",
      "[LightGBM] [Info] Start training from score -1.718942\n",
      "[LightGBM] [Info] Auto-choosing col-wise multi-threading, the overhead of testing was 0.002009 seconds.\n",
      "You can set `force_col_wise=true` to remove the overhead.\n",
      "[LightGBM] [Info] Total Bins 1785\n",
      "[LightGBM] [Info] Number of data points in the train set: 26148, number of used features: 7\n",
      "[LightGBM] [Info] Start training from score -0.495506\n",
      "[LightGBM] [Info] Start training from score -1.553585\n",
      "[LightGBM] [Info] Start training from score -1.718980\n",
      "[LightGBM] [Info] Auto-choosing row-wise multi-threading, the overhead of testing was 0.000216 seconds.\n",
      "You can set `force_row_wise=true` to remove the overhead.\n",
      "And if memory is not enough, you can set `force_col_wise=true`.\n",
      "[LightGBM] [Info] Total Bins 1785\n",
      "[LightGBM] [Info] Number of data points in the train set: 26147, number of used features: 7\n",
      "[LightGBM] [Info] Start training from score -0.495530\n",
      "[LightGBM] [Info] Start training from score -1.553727\n",
      "[LightGBM] [Info] Start training from score -1.718728\n",
      "[LightGBM] [Warning] No further splits with positive gain, best gain: -inf\n",
      "[LightGBM] [Info] Auto-choosing col-wise multi-threading, the overhead of testing was 0.000887 seconds.\n",
      "You can set `force_col_wise=true` to remove the overhead.\n",
      "[LightGBM] [Info] Total Bins 1785\n",
      "[LightGBM] [Info] Number of data points in the train set: 26147, number of used features: 7\n",
      "[LightGBM] [Info] Start training from score -0.495468\n",
      "[LightGBM] [Info] Start training from score -1.553727\n",
      "[LightGBM] [Info] Start training from score -1.718942\n",
      "[LightGBM] [Warning] No further splits with positive gain, best gain: -inf\n",
      "[LightGBM] [Info] Auto-choosing col-wise multi-threading, the overhead of testing was 0.000536 seconds.\n",
      "You can set `force_col_wise=true` to remove the overhead.\n",
      "[LightGBM] [Info] Total Bins 1785\n",
      "[LightGBM] [Info] Number of data points in the train set: 26148, number of used features: 7\n",
      "[LightGBM] [Info] Start training from score -0.495506\n",
      "[LightGBM] [Info] Start training from score -1.553585\n",
      "[LightGBM] [Info] Start training from score -1.718980\n",
      "[LightGBM] [Warning] No further splits with positive gain, best gain: -inf\n",
      "[LightGBM] [Info] Auto-choosing col-wise multi-threading, the overhead of testing was 0.000535 seconds.\n",
      "You can set `force_col_wise=true` to remove the overhead.\n",
      "[LightGBM] [Info] Total Bins 1785\n",
      "[LightGBM] [Info] Number of data points in the train set: 26147, number of used features: 7\n",
      "[LightGBM] [Info] Start training from score -0.495530\n",
      "[LightGBM] [Info] Start training from score -1.553727\n",
      "[LightGBM] [Info] Start training from score -1.718728\n",
      "[LightGBM] [Info] Auto-choosing col-wise multi-threading, the overhead of testing was 0.000981 seconds.\n",
      "You can set `force_col_wise=true` to remove the overhead.\n",
      "[LightGBM] [Info] Total Bins 1785\n",
      "[LightGBM] [Info] Number of data points in the train set: 26147, number of used features: 7\n",
      "[LightGBM] [Info] Start training from score -0.495468\n",
      "[LightGBM] [Info] Start training from score -1.553727\n",
      "[LightGBM] [Info] Start training from score -1.718942\n",
      "[LightGBM] [Info] Auto-choosing col-wise multi-threading, the overhead of testing was 0.000822 seconds.\n",
      "You can set `force_col_wise=true` to remove the overhead.\n",
      "[LightGBM] [Info] Total Bins 1785\n",
      "[LightGBM] [Info] Number of data points in the train set: 26148, number of used features: 7\n",
      "[LightGBM] [Info] Start training from score -0.495506\n",
      "[LightGBM] [Info] Start training from score -1.553585\n",
      "[LightGBM] [Info] Start training from score -1.718980\n",
      "[LightGBM] [Info] Auto-choosing col-wise multi-threading, the overhead of testing was 0.000552 seconds.\n",
      "You can set `force_col_wise=true` to remove the overhead.\n",
      "[LightGBM] [Info] Total Bins 1785\n",
      "[LightGBM] [Info] Number of data points in the train set: 26147, number of used features: 7\n",
      "[LightGBM] [Info] Start training from score -0.495530\n",
      "[LightGBM] [Info] Start training from score -1.553727\n",
      "[LightGBM] [Info] Start training from score -1.718728\n",
      "[LightGBM] [Info] Auto-choosing col-wise multi-threading, the overhead of testing was 0.001098 seconds.\n",
      "You can set `force_col_wise=true` to remove the overhead.\n",
      "[LightGBM] [Info] Total Bins 1785\n",
      "[LightGBM] [Info] Number of data points in the train set: 26147, number of used features: 7\n",
      "[LightGBM] [Info] Start training from score -0.495468\n",
      "[LightGBM] [Info] Start training from score -1.553727\n",
      "[LightGBM] [Info] Start training from score -1.718942\n",
      "[LightGBM] [Info] Auto-choosing col-wise multi-threading, the overhead of testing was 0.000995 seconds.\n",
      "You can set `force_col_wise=true` to remove the overhead.\n",
      "[LightGBM] [Info] Total Bins 1785\n",
      "[LightGBM] [Info] Number of data points in the train set: 26148, number of used features: 7\n",
      "[LightGBM] [Info] Start training from score -0.495506\n",
      "[LightGBM] [Info] Start training from score -1.553585\n",
      "[LightGBM] [Info] Start training from score -1.718980\n",
      "[LightGBM] [Info] Auto-choosing col-wise multi-threading, the overhead of testing was 0.001322 seconds.\n",
      "You can set `force_col_wise=true` to remove the overhead.\n",
      "[LightGBM] [Info] Total Bins 1785\n",
      "[LightGBM] [Info] Number of data points in the train set: 26147, number of used features: 7\n",
      "[LightGBM] [Info] Start training from score -0.495530\n",
      "[LightGBM] [Info] Start training from score -1.553727\n",
      "[LightGBM] [Info] Start training from score -1.718728\n",
      "[LightGBM] [Warning] No further splits with positive gain, best gain: -inf\n",
      "[LightGBM] [Info] Auto-choosing col-wise multi-threading, the overhead of testing was 0.001434 seconds.\n",
      "You can set `force_col_wise=true` to remove the overhead.\n",
      "[LightGBM] [Info] Total Bins 1785\n",
      "[LightGBM] [Info] Number of data points in the train set: 26147, number of used features: 7\n",
      "[LightGBM] [Info] Start training from score -0.495468\n",
      "[LightGBM] [Info] Start training from score -1.553727\n",
      "[LightGBM] [Info] Start training from score -1.718942\n",
      "[LightGBM] [Warning] No further splits with positive gain, best gain: -inf\n",
      "[LightGBM] [Info] Auto-choosing col-wise multi-threading, the overhead of testing was 0.000782 seconds.\n",
      "You can set `force_col_wise=true` to remove the overhead.\n",
      "[LightGBM] [Info] Total Bins 1785\n",
      "[LightGBM] [Info] Number of data points in the train set: 26148, number of used features: 7\n",
      "[LightGBM] [Info] Start training from score -0.495506\n",
      "[LightGBM] [Info] Start training from score -1.553585\n",
      "[LightGBM] [Info] Start training from score -1.718980\n",
      "[LightGBM] [Warning] No further splits with positive gain, best gain: -inf\n",
      "[LightGBM] [Info] Auto-choosing col-wise multi-threading, the overhead of testing was 0.000507 seconds.\n",
      "You can set `force_col_wise=true` to remove the overhead.\n",
      "[LightGBM] [Info] Total Bins 1785\n",
      "[LightGBM] [Info] Number of data points in the train set: 26147, number of used features: 7\n",
      "[LightGBM] [Info] Start training from score -0.495530\n",
      "[LightGBM] [Info] Start training from score -1.553727\n",
      "[LightGBM] [Info] Start training from score -1.718728\n",
      "[LightGBM] [Info] Auto-choosing col-wise multi-threading, the overhead of testing was 0.001131 seconds.\n",
      "You can set `force_col_wise=true` to remove the overhead.\n",
      "[LightGBM] [Info] Total Bins 1785\n",
      "[LightGBM] [Info] Number of data points in the train set: 26147, number of used features: 7\n",
      "[LightGBM] [Info] Start training from score -0.495468\n",
      "[LightGBM] [Info] Start training from score -1.553727\n",
      "[LightGBM] [Info] Start training from score -1.718942\n",
      "[LightGBM] [Info] Auto-choosing col-wise multi-threading, the overhead of testing was 0.000520 seconds.\n",
      "You can set `force_col_wise=true` to remove the overhead.\n",
      "[LightGBM] [Info] Total Bins 1785\n",
      "[LightGBM] [Info] Number of data points in the train set: 26148, number of used features: 7\n",
      "[LightGBM] [Info] Start training from score -0.495506\n",
      "[LightGBM] [Info] Start training from score -1.553585\n",
      "[LightGBM] [Info] Start training from score -1.718980\n",
      "[LightGBM] [Info] Auto-choosing col-wise multi-threading, the overhead of testing was 0.000712 seconds.\n",
      "You can set `force_col_wise=true` to remove the overhead.\n",
      "[LightGBM] [Info] Total Bins 1785\n",
      "[LightGBM] [Info] Number of data points in the train set: 26147, number of used features: 7\n",
      "[LightGBM] [Info] Start training from score -0.495530\n",
      "[LightGBM] [Info] Start training from score -1.553727\n",
      "[LightGBM] [Info] Start training from score -1.718728\n",
      "[LightGBM] [Info] Auto-choosing col-wise multi-threading, the overhead of testing was 0.000525 seconds.\n",
      "You can set `force_col_wise=true` to remove the overhead.\n",
      "[LightGBM] [Info] Total Bins 1785\n",
      "[LightGBM] [Info] Number of data points in the train set: 26147, number of used features: 7\n",
      "[LightGBM] [Info] Start training from score -0.495468\n",
      "[LightGBM] [Info] Start training from score -1.553727\n",
      "[LightGBM] [Info] Start training from score -1.718942\n",
      "[LightGBM] [Info] Auto-choosing col-wise multi-threading, the overhead of testing was 0.000846 seconds.\n",
      "You can set `force_col_wise=true` to remove the overhead.\n",
      "[LightGBM] [Info] Total Bins 1785\n",
      "[LightGBM] [Info] Number of data points in the train set: 26148, number of used features: 7\n",
      "[LightGBM] [Info] Start training from score -0.495506\n",
      "[LightGBM] [Info] Start training from score -1.553585\n",
      "[LightGBM] [Info] Start training from score -1.718980\n",
      "[LightGBM] [Info] Auto-choosing col-wise multi-threading, the overhead of testing was 0.001231 seconds.\n",
      "You can set `force_col_wise=true` to remove the overhead.\n",
      "[LightGBM] [Info] Total Bins 1785\n",
      "[LightGBM] [Info] Number of data points in the train set: 26147, number of used features: 7\n",
      "[LightGBM] [Info] Start training from score -0.495530\n",
      "[LightGBM] [Info] Start training from score -1.553727\n",
      "[LightGBM] [Info] Start training from score -1.718728\n",
      "[LightGBM] [Warning] No further splits with positive gain, best gain: -inf\n",
      "[LightGBM] [Info] Auto-choosing col-wise multi-threading, the overhead of testing was 0.000703 seconds.\n",
      "You can set `force_col_wise=true` to remove the overhead.\n",
      "[LightGBM] [Info] Total Bins 1785\n",
      "[LightGBM] [Info] Number of data points in the train set: 26147, number of used features: 7\n",
      "[LightGBM] [Info] Start training from score -0.495468\n",
      "[LightGBM] [Info] Start training from score -1.553727\n",
      "[LightGBM] [Info] Start training from score -1.718942\n",
      "[LightGBM] [Warning] No further splits with positive gain, best gain: -inf\n",
      "[LightGBM] [Info] Auto-choosing col-wise multi-threading, the overhead of testing was 0.000935 seconds.\n",
      "You can set `force_col_wise=true` to remove the overhead.\n",
      "[LightGBM] [Info] Total Bins 1785\n",
      "[LightGBM] [Info] Number of data points in the train set: 26148, number of used features: 7\n",
      "[LightGBM] [Info] Start training from score -0.495506\n",
      "[LightGBM] [Info] Start training from score -1.553585\n",
      "[LightGBM] [Info] Start training from score -1.718980\n",
      "[LightGBM] [Warning] No further splits with positive gain, best gain: -inf\n",
      "[LightGBM] [Info] Auto-choosing col-wise multi-threading, the overhead of testing was 0.000877 seconds.\n",
      "You can set `force_col_wise=true` to remove the overhead.\n",
      "[LightGBM] [Info] Total Bins 1785\n",
      "[LightGBM] [Info] Number of data points in the train set: 26147, number of used features: 7\n",
      "[LightGBM] [Info] Start training from score -0.495530\n",
      "[LightGBM] [Info] Start training from score -1.553727\n",
      "[LightGBM] [Info] Start training from score -1.718728\n",
      "[LightGBM] [Info] Auto-choosing col-wise multi-threading, the overhead of testing was 0.000851 seconds.\n",
      "You can set `force_col_wise=true` to remove the overhead.\n",
      "[LightGBM] [Info] Total Bins 1785\n",
      "[LightGBM] [Info] Number of data points in the train set: 26147, number of used features: 7\n",
      "[LightGBM] [Info] Start training from score -0.495468\n",
      "[LightGBM] [Info] Start training from score -1.553727\n",
      "[LightGBM] [Info] Start training from score -1.718942\n",
      "[LightGBM] [Info] Auto-choosing col-wise multi-threading, the overhead of testing was 0.000530 seconds.\n",
      "You can set `force_col_wise=true` to remove the overhead.\n",
      "[LightGBM] [Info] Total Bins 1785\n",
      "[LightGBM] [Info] Number of data points in the train set: 26148, number of used features: 7\n",
      "[LightGBM] [Info] Start training from score -0.495506\n",
      "[LightGBM] [Info] Start training from score -1.553585\n",
      "[LightGBM] [Info] Start training from score -1.718980\n",
      "[LightGBM] [Info] Auto-choosing col-wise multi-threading, the overhead of testing was 0.001451 seconds.\n",
      "You can set `force_col_wise=true` to remove the overhead.\n",
      "[LightGBM] [Info] Total Bins 1785\n",
      "[LightGBM] [Info] Number of data points in the train set: 26147, number of used features: 7\n",
      "[LightGBM] [Info] Start training from score -0.495530\n",
      "[LightGBM] [Info] Start training from score -1.553727\n",
      "[LightGBM] [Info] Start training from score -1.718728\n",
      "[LightGBM] [Info] Auto-choosing col-wise multi-threading, the overhead of testing was 0.000945 seconds.\n",
      "You can set `force_col_wise=true` to remove the overhead.\n",
      "[LightGBM] [Info] Total Bins 1785\n",
      "[LightGBM] [Info] Number of data points in the train set: 26147, number of used features: 7\n",
      "[LightGBM] [Info] Start training from score -0.495468\n",
      "[LightGBM] [Info] Start training from score -1.553727\n",
      "[LightGBM] [Info] Start training from score -1.718942\n",
      "[LightGBM] [Info] Auto-choosing col-wise multi-threading, the overhead of testing was 0.000741 seconds.\n",
      "You can set `force_col_wise=true` to remove the overhead.\n",
      "[LightGBM] [Info] Total Bins 1785\n",
      "[LightGBM] [Info] Number of data points in the train set: 26148, number of used features: 7\n",
      "[LightGBM] [Info] Start training from score -0.495506\n",
      "[LightGBM] [Info] Start training from score -1.553585\n",
      "[LightGBM] [Info] Start training from score -1.718980\n",
      "[LightGBM] [Info] Auto-choosing col-wise multi-threading, the overhead of testing was 0.001131 seconds.\n",
      "You can set `force_col_wise=true` to remove the overhead.\n",
      "[LightGBM] [Info] Total Bins 1785\n",
      "[LightGBM] [Info] Number of data points in the train set: 26147, number of used features: 7\n",
      "[LightGBM] [Info] Start training from score -0.495530\n",
      "[LightGBM] [Info] Start training from score -1.553727\n",
      "[LightGBM] [Info] Start training from score -1.718728\n",
      "[LightGBM] [Warning] No further splits with positive gain, best gain: -inf\n",
      "[LightGBM] [Info] Auto-choosing col-wise multi-threading, the overhead of testing was 0.000963 seconds.\n",
      "You can set `force_col_wise=true` to remove the overhead.\n",
      "[LightGBM] [Info] Total Bins 1785\n",
      "[LightGBM] [Info] Number of data points in the train set: 26147, number of used features: 7\n",
      "[LightGBM] [Info] Start training from score -0.495468\n",
      "[LightGBM] [Info] Start training from score -1.553727\n",
      "[LightGBM] [Info] Start training from score -1.718942\n",
      "[LightGBM] [Warning] No further splits with positive gain, best gain: -inf\n",
      "[LightGBM] [Info] Auto-choosing col-wise multi-threading, the overhead of testing was 0.001093 seconds.\n",
      "You can set `force_col_wise=true` to remove the overhead.\n",
      "[LightGBM] [Info] Total Bins 1785\n",
      "[LightGBM] [Info] Number of data points in the train set: 26148, number of used features: 7\n",
      "[LightGBM] [Info] Start training from score -0.495506\n",
      "[LightGBM] [Info] Start training from score -1.553585\n",
      "[LightGBM] [Info] Start training from score -1.718980\n",
      "[LightGBM] [Warning] No further splits with positive gain, best gain: -inf\n",
      "[LightGBM] [Info] Auto-choosing col-wise multi-threading, the overhead of testing was 0.000836 seconds.\n",
      "You can set `force_col_wise=true` to remove the overhead.\n",
      "[LightGBM] [Info] Total Bins 1785\n",
      "[LightGBM] [Info] Number of data points in the train set: 26147, number of used features: 7\n",
      "[LightGBM] [Info] Start training from score -0.495530\n",
      "[LightGBM] [Info] Start training from score -1.553727\n",
      "[LightGBM] [Info] Start training from score -1.718728\n",
      "[LightGBM] [Info] Auto-choosing col-wise multi-threading, the overhead of testing was 0.001067 seconds.\n",
      "You can set `force_col_wise=true` to remove the overhead.\n",
      "[LightGBM] [Info] Total Bins 1785\n",
      "[LightGBM] [Info] Number of data points in the train set: 26147, number of used features: 7\n",
      "[LightGBM] [Info] Start training from score -0.495468\n",
      "[LightGBM] [Info] Start training from score -1.553727\n",
      "[LightGBM] [Info] Start training from score -1.718942\n",
      "[LightGBM] [Info] Auto-choosing col-wise multi-threading, the overhead of testing was 0.001079 seconds.\n",
      "You can set `force_col_wise=true` to remove the overhead.\n",
      "[LightGBM] [Info] Total Bins 1785\n",
      "[LightGBM] [Info] Number of data points in the train set: 26148, number of used features: 7\n",
      "[LightGBM] [Info] Start training from score -0.495506\n",
      "[LightGBM] [Info] Start training from score -1.553585\n",
      "[LightGBM] [Info] Start training from score -1.718980\n",
      "[LightGBM] [Info] Auto-choosing col-wise multi-threading, the overhead of testing was 0.000943 seconds.\n",
      "You can set `force_col_wise=true` to remove the overhead.\n",
      "[LightGBM] [Info] Total Bins 1785\n",
      "[LightGBM] [Info] Number of data points in the train set: 26147, number of used features: 7\n",
      "[LightGBM] [Info] Start training from score -0.495530\n",
      "[LightGBM] [Info] Start training from score -1.553727\n",
      "[LightGBM] [Info] Start training from score -1.718728\n",
      "[LightGBM] [Info] Auto-choosing col-wise multi-threading, the overhead of testing was 0.000523 seconds.\n",
      "You can set `force_col_wise=true` to remove the overhead.\n",
      "[LightGBM] [Info] Total Bins 1785\n",
      "[LightGBM] [Info] Number of data points in the train set: 26147, number of used features: 7\n",
      "[LightGBM] [Info] Start training from score -0.495468\n",
      "[LightGBM] [Info] Start training from score -1.553727\n",
      "[LightGBM] [Info] Start training from score -1.718942\n",
      "[LightGBM] [Info] Auto-choosing col-wise multi-threading, the overhead of testing was 0.001509 seconds.\n",
      "You can set `force_col_wise=true` to remove the overhead.\n",
      "[LightGBM] [Info] Total Bins 1785\n",
      "[LightGBM] [Info] Number of data points in the train set: 26148, number of used features: 7\n",
      "[LightGBM] [Info] Start training from score -0.495506\n",
      "[LightGBM] [Info] Start training from score -1.553585\n",
      "[LightGBM] [Info] Start training from score -1.718980\n",
      "[LightGBM] [Info] Auto-choosing col-wise multi-threading, the overhead of testing was 0.000540 seconds.\n",
      "You can set `force_col_wise=true` to remove the overhead.\n",
      "[LightGBM] [Info] Total Bins 1785\n",
      "[LightGBM] [Info] Number of data points in the train set: 26147, number of used features: 7\n",
      "[LightGBM] [Info] Start training from score -0.495530\n",
      "[LightGBM] [Info] Start training from score -1.553727\n",
      "[LightGBM] [Info] Start training from score -1.718728\n",
      "[LightGBM] [Warning] No further splits with positive gain, best gain: -inf\n",
      "[LightGBM] [Info] Auto-choosing col-wise multi-threading, the overhead of testing was 0.000815 seconds.\n",
      "You can set `force_col_wise=true` to remove the overhead.\n",
      "[LightGBM] [Info] Total Bins 1785\n",
      "[LightGBM] [Info] Number of data points in the train set: 26147, number of used features: 7\n",
      "[LightGBM] [Info] Start training from score -0.495468\n",
      "[LightGBM] [Info] Start training from score -1.553727\n",
      "[LightGBM] [Info] Start training from score -1.718942\n",
      "[LightGBM] [Warning] No further splits with positive gain, best gain: -inf\n",
      "[LightGBM] [Info] Auto-choosing col-wise multi-threading, the overhead of testing was 0.000533 seconds.\n",
      "You can set `force_col_wise=true` to remove the overhead.\n",
      "[LightGBM] [Info] Total Bins 1785\n",
      "[LightGBM] [Info] Number of data points in the train set: 26148, number of used features: 7\n",
      "[LightGBM] [Info] Start training from score -0.495506\n",
      "[LightGBM] [Info] Start training from score -1.553585\n",
      "[LightGBM] [Info] Start training from score -1.718980\n",
      "[LightGBM] [Warning] No further splits with positive gain, best gain: -inf\n",
      "[LightGBM] [Info] Auto-choosing col-wise multi-threading, the overhead of testing was 0.000789 seconds.\n",
      "You can set `force_col_wise=true` to remove the overhead.\n",
      "[LightGBM] [Info] Total Bins 1785\n",
      "[LightGBM] [Info] Number of data points in the train set: 26147, number of used features: 7\n",
      "[LightGBM] [Info] Start training from score -0.495530\n",
      "[LightGBM] [Info] Start training from score -1.553727\n",
      "[LightGBM] [Info] Start training from score -1.718728\n",
      "[LightGBM] [Info] Auto-choosing col-wise multi-threading, the overhead of testing was 0.000779 seconds.\n",
      "You can set `force_col_wise=true` to remove the overhead.\n",
      "[LightGBM] [Info] Total Bins 1785\n",
      "[LightGBM] [Info] Number of data points in the train set: 26147, number of used features: 7\n",
      "[LightGBM] [Info] Start training from score -0.495468\n",
      "[LightGBM] [Info] Start training from score -1.553727\n",
      "[LightGBM] [Info] Start training from score -1.718942\n",
      "[LightGBM] [Info] Auto-choosing col-wise multi-threading, the overhead of testing was 0.000584 seconds.\n",
      "You can set `force_col_wise=true` to remove the overhead.\n",
      "[LightGBM] [Info] Total Bins 1785\n",
      "[LightGBM] [Info] Number of data points in the train set: 26148, number of used features: 7\n",
      "[LightGBM] [Info] Start training from score -0.495506\n",
      "[LightGBM] [Info] Start training from score -1.553585\n",
      "[LightGBM] [Info] Start training from score -1.718980\n",
      "[LightGBM] [Info] Auto-choosing col-wise multi-threading, the overhead of testing was 0.000534 seconds.\n",
      "You can set `force_col_wise=true` to remove the overhead.\n",
      "[LightGBM] [Info] Total Bins 1785\n",
      "[LightGBM] [Info] Number of data points in the train set: 26147, number of used features: 7\n",
      "[LightGBM] [Info] Start training from score -0.495530\n",
      "[LightGBM] [Info] Start training from score -1.553727\n",
      "[LightGBM] [Info] Start training from score -1.718728\n",
      "[LightGBM] [Info] Auto-choosing col-wise multi-threading, the overhead of testing was 0.000897 seconds.\n",
      "You can set `force_col_wise=true` to remove the overhead.\n",
      "[LightGBM] [Info] Total Bins 1785\n",
      "[LightGBM] [Info] Number of data points in the train set: 26147, number of used features: 7\n",
      "[LightGBM] [Info] Start training from score -0.495468\n",
      "[LightGBM] [Info] Start training from score -1.553727\n",
      "[LightGBM] [Info] Start training from score -1.718942\n",
      "[LightGBM] [Info] Auto-choosing col-wise multi-threading, the overhead of testing was 0.000891 seconds.\n",
      "You can set `force_col_wise=true` to remove the overhead.\n",
      "[LightGBM] [Info] Total Bins 1785\n",
      "[LightGBM] [Info] Number of data points in the train set: 26148, number of used features: 7\n",
      "[LightGBM] [Info] Start training from score -0.495506\n",
      "[LightGBM] [Info] Start training from score -1.553585\n",
      "[LightGBM] [Info] Start training from score -1.718980\n",
      "[LightGBM] [Info] Auto-choosing col-wise multi-threading, the overhead of testing was 0.000845 seconds.\n",
      "You can set `force_col_wise=true` to remove the overhead.\n",
      "[LightGBM] [Info] Total Bins 1785\n",
      "[LightGBM] [Info] Number of data points in the train set: 26147, number of used features: 7\n",
      "[LightGBM] [Info] Start training from score -0.495530\n",
      "[LightGBM] [Info] Start training from score -1.553727\n",
      "[LightGBM] [Info] Start training from score -1.718728\n",
      "[LightGBM] [Warning] No further splits with positive gain, best gain: -inf\n",
      "[LightGBM] [Info] Auto-choosing col-wise multi-threading, the overhead of testing was 0.000524 seconds.\n",
      "You can set `force_col_wise=true` to remove the overhead.\n",
      "[LightGBM] [Info] Total Bins 1785\n",
      "[LightGBM] [Info] Number of data points in the train set: 26147, number of used features: 7\n",
      "[LightGBM] [Info] Start training from score -0.495468\n",
      "[LightGBM] [Info] Start training from score -1.553727\n",
      "[LightGBM] [Info] Start training from score -1.718942\n",
      "[LightGBM] [Warning] No further splits with positive gain, best gain: -inf\n",
      "[LightGBM] [Info] Auto-choosing col-wise multi-threading, the overhead of testing was 0.001042 seconds.\n",
      "You can set `force_col_wise=true` to remove the overhead.\n",
      "[LightGBM] [Info] Total Bins 1785\n",
      "[LightGBM] [Info] Number of data points in the train set: 26148, number of used features: 7\n",
      "[LightGBM] [Info] Start training from score -0.495506\n",
      "[LightGBM] [Info] Start training from score -1.553585\n",
      "[LightGBM] [Info] Start training from score -1.718980\n",
      "[LightGBM] [Warning] No further splits with positive gain, best gain: -inf\n",
      "[LightGBM] [Info] Auto-choosing col-wise multi-threading, the overhead of testing was 0.000543 seconds.\n",
      "You can set `force_col_wise=true` to remove the overhead.\n",
      "[LightGBM] [Info] Total Bins 1785\n",
      "[LightGBM] [Info] Number of data points in the train set: 26147, number of used features: 7\n",
      "[LightGBM] [Info] Start training from score -0.495530\n",
      "[LightGBM] [Info] Start training from score -1.553727\n",
      "[LightGBM] [Info] Start training from score -1.718728\n",
      "[LightGBM] [Info] Auto-choosing col-wise multi-threading, the overhead of testing was 0.001039 seconds.\n",
      "You can set `force_col_wise=true` to remove the overhead.\n",
      "[LightGBM] [Info] Total Bins 1785\n",
      "[LightGBM] [Info] Number of data points in the train set: 26147, number of used features: 7\n",
      "[LightGBM] [Info] Start training from score -0.495468\n",
      "[LightGBM] [Info] Start training from score -1.553727\n",
      "[LightGBM] [Info] Start training from score -1.718942\n",
      "[LightGBM] [Info] Auto-choosing col-wise multi-threading, the overhead of testing was 0.000524 seconds.\n",
      "You can set `force_col_wise=true` to remove the overhead.\n",
      "[LightGBM] [Info] Total Bins 1785\n",
      "[LightGBM] [Info] Number of data points in the train set: 26148, number of used features: 7\n",
      "[LightGBM] [Info] Start training from score -0.495506\n",
      "[LightGBM] [Info] Start training from score -1.553585\n",
      "[LightGBM] [Info] Start training from score -1.718980\n",
      "[LightGBM] [Info] Auto-choosing col-wise multi-threading, the overhead of testing was 0.000777 seconds.\n",
      "You can set `force_col_wise=true` to remove the overhead.\n",
      "[LightGBM] [Info] Total Bins 1785\n",
      "[LightGBM] [Info] Number of data points in the train set: 26147, number of used features: 7\n",
      "[LightGBM] [Info] Start training from score -0.495530\n",
      "[LightGBM] [Info] Start training from score -1.553727\n",
      "[LightGBM] [Info] Start training from score -1.718728\n",
      "[LightGBM] [Info] Auto-choosing col-wise multi-threading, the overhead of testing was 0.000610 seconds.\n",
      "You can set `force_col_wise=true` to remove the overhead.\n",
      "[LightGBM] [Info] Total Bins 1785\n",
      "[LightGBM] [Info] Number of data points in the train set: 26147, number of used features: 7\n",
      "[LightGBM] [Info] Start training from score -0.495468\n",
      "[LightGBM] [Info] Start training from score -1.553727\n",
      "[LightGBM] [Info] Start training from score -1.718942\n",
      "[LightGBM] [Info] Auto-choosing col-wise multi-threading, the overhead of testing was 0.000969 seconds.\n",
      "You can set `force_col_wise=true` to remove the overhead.\n",
      "[LightGBM] [Info] Total Bins 1785\n",
      "[LightGBM] [Info] Number of data points in the train set: 26148, number of used features: 7\n",
      "[LightGBM] [Info] Start training from score -0.495506\n",
      "[LightGBM] [Info] Start training from score -1.553585\n",
      "[LightGBM] [Info] Start training from score -1.718980\n",
      "[LightGBM] [Info] Auto-choosing col-wise multi-threading, the overhead of testing was 0.000796 seconds.\n",
      "You can set `force_col_wise=true` to remove the overhead.\n",
      "[LightGBM] [Info] Total Bins 1785\n",
      "[LightGBM] [Info] Number of data points in the train set: 26147, number of used features: 7\n",
      "[LightGBM] [Info] Start training from score -0.495530\n",
      "[LightGBM] [Info] Start training from score -1.553727\n",
      "[LightGBM] [Info] Start training from score -1.718728\n",
      "[LightGBM] [Warning] No further splits with positive gain, best gain: -inf\n",
      "[LightGBM] [Info] Auto-choosing col-wise multi-threading, the overhead of testing was 0.000988 seconds.\n",
      "You can set `force_col_wise=true` to remove the overhead.\n",
      "[LightGBM] [Info] Total Bins 1785\n",
      "[LightGBM] [Info] Number of data points in the train set: 26147, number of used features: 7\n",
      "[LightGBM] [Info] Start training from score -0.495468\n",
      "[LightGBM] [Info] Start training from score -1.553727\n",
      "[LightGBM] [Info] Start training from score -1.718942\n",
      "[LightGBM] [Warning] No further splits with positive gain, best gain: -inf\n",
      "[LightGBM] [Warning] No further splits with positive gain, best gain: -inf\n",
      "[LightGBM] [Warning] No further splits with positive gain, best gain: -inf\n",
      "[LightGBM] [Info] Auto-choosing col-wise multi-threading, the overhead of testing was 0.000654 seconds.\n",
      "You can set `force_col_wise=true` to remove the overhead.\n",
      "[LightGBM] [Info] Total Bins 1785\n",
      "[LightGBM] [Info] Number of data points in the train set: 26148, number of used features: 7\n",
      "[LightGBM] [Info] Start training from score -0.495506\n",
      "[LightGBM] [Info] Start training from score -1.553585\n",
      "[LightGBM] [Info] Start training from score -1.718980\n",
      "[LightGBM] [Warning] No further splits with positive gain, best gain: -inf\n",
      "[LightGBM] [Warning] No further splits with positive gain, best gain: -inf\n",
      "[LightGBM] [Warning] No further splits with positive gain, best gain: -inf\n",
      "[LightGBM] [Info] Auto-choosing col-wise multi-threading, the overhead of testing was 0.000700 seconds.\n",
      "You can set `force_col_wise=true` to remove the overhead.\n",
      "[LightGBM] [Info] Total Bins 1785\n",
      "[LightGBM] [Info] Number of data points in the train set: 26147, number of used features: 7\n",
      "[LightGBM] [Info] Start training from score -0.495530\n",
      "[LightGBM] [Info] Start training from score -1.553727\n",
      "[LightGBM] [Info] Start training from score -1.718728\n",
      "[LightGBM] [Info] Auto-choosing col-wise multi-threading, the overhead of testing was 0.001060 seconds.\n",
      "You can set `force_col_wise=true` to remove the overhead.\n",
      "[LightGBM] [Info] Total Bins 1785\n",
      "[LightGBM] [Info] Number of data points in the train set: 26147, number of used features: 7\n",
      "[LightGBM] [Info] Start training from score -0.495468\n",
      "[LightGBM] [Info] Start training from score -1.553727\n",
      "[LightGBM] [Info] Start training from score -1.718942\n",
      "[LightGBM] [Info] Auto-choosing col-wise multi-threading, the overhead of testing was 0.000814 seconds.\n",
      "You can set `force_col_wise=true` to remove the overhead.\n",
      "[LightGBM] [Info] Total Bins 1785\n",
      "[LightGBM] [Info] Number of data points in the train set: 26148, number of used features: 7\n",
      "[LightGBM] [Info] Start training from score -0.495506\n",
      "[LightGBM] [Info] Start training from score -1.553585\n",
      "[LightGBM] [Info] Start training from score -1.718980\n",
      "[LightGBM] [Info] Auto-choosing col-wise multi-threading, the overhead of testing was 0.000529 seconds.\n",
      "You can set `force_col_wise=true` to remove the overhead.\n",
      "[LightGBM] [Info] Total Bins 1785\n",
      "[LightGBM] [Info] Number of data points in the train set: 26147, number of used features: 7\n",
      "[LightGBM] [Info] Start training from score -0.495530\n",
      "[LightGBM] [Info] Start training from score -1.553727\n",
      "[LightGBM] [Info] Start training from score -1.718728\n",
      "[LightGBM] [Warning] No further splits with positive gain, best gain: -inf\n",
      "[LightGBM] [Warning] No further splits with positive gain, best gain: -inf\n",
      "[LightGBM] [Warning] No further splits with positive gain, best gain: -inf\n",
      "[LightGBM] [Warning] No further splits with positive gain, best gain: -inf\n",
      "[LightGBM] [Warning] No further splits with positive gain, best gain: -inf\n",
      "[LightGBM] [Warning] No further splits with positive gain, best gain: -inf\n",
      "[LightGBM] [Warning] No further splits with positive gain, best gain: -inf\n",
      "[LightGBM] [Warning] No further splits with positive gain, best gain: -inf\n",
      "[LightGBM] [Warning] No further splits with positive gain, best gain: -inf\n",
      "[LightGBM] [Warning] No further splits with positive gain, best gain: -inf\n",
      "[LightGBM] [Warning] No further splits with positive gain, best gain: -inf\n",
      "[LightGBM] [Warning] No further splits with positive gain, best gain: -inf\n",
      "[LightGBM] [Warning] No further splits with positive gain, best gain: -inf\n",
      "[LightGBM] [Warning] No further splits with positive gain, best gain: -inf\n",
      "[LightGBM] [Warning] No further splits with positive gain, best gain: -inf\n",
      "[LightGBM] [Warning] No further splits with positive gain, best gain: -inf\n",
      "[LightGBM] [Warning] No further splits with positive gain, best gain: -inf\n",
      "[LightGBM] [Warning] No further splits with positive gain, best gain: -inf\n",
      "[LightGBM] [Warning] No further splits with positive gain, best gain: -inf\n",
      "[LightGBM] [Warning] No further splits with positive gain, best gain: -inf\n",
      "[LightGBM] [Warning] No further splits with positive gain, best gain: -inf\n",
      "[LightGBM] [Info] Auto-choosing col-wise multi-threading, the overhead of testing was 0.000558 seconds.\n",
      "You can set `force_col_wise=true` to remove the overhead.\n",
      "[LightGBM] [Info] Total Bins 1785\n",
      "[LightGBM] [Info] Number of data points in the train set: 26147, number of used features: 7\n",
      "[LightGBM] [Info] Start training from score -0.495468\n",
      "[LightGBM] [Info] Start training from score -1.553727\n",
      "[LightGBM] [Info] Start training from score -1.718942\n",
      "[LightGBM] [Warning] No further splits with positive gain, best gain: -inf\n",
      "[LightGBM] [Warning] No further splits with positive gain, best gain: -inf\n",
      "[LightGBM] [Warning] No further splits with positive gain, best gain: -inf\n",
      "[LightGBM] [Warning] No further splits with positive gain, best gain: -inf\n",
      "[LightGBM] [Warning] No further splits with positive gain, best gain: -inf\n",
      "[LightGBM] [Warning] No further splits with positive gain, best gain: -inf\n",
      "[LightGBM] [Warning] No further splits with positive gain, best gain: -inf\n",
      "[LightGBM] [Warning] No further splits with positive gain, best gain: -inf\n",
      "[LightGBM] [Warning] No further splits with positive gain, best gain: -inf\n",
      "[LightGBM] [Warning] No further splits with positive gain, best gain: -inf\n",
      "[LightGBM] [Warning] No further splits with positive gain, best gain: -inf\n",
      "[LightGBM] [Warning] No further splits with positive gain, best gain: -inf\n",
      "[LightGBM] [Warning] No further splits with positive gain, best gain: -inf\n",
      "[LightGBM] [Warning] No further splits with positive gain, best gain: -inf\n",
      "[LightGBM] [Warning] No further splits with positive gain, best gain: -inf\n",
      "[LightGBM] [Warning] No further splits with positive gain, best gain: -inf\n",
      "[LightGBM] [Warning] No further splits with positive gain, best gain: -inf\n",
      "[LightGBM] [Warning] No further splits with positive gain, best gain: -inf\n",
      "[LightGBM] [Warning] No further splits with positive gain, best gain: -inf\n",
      "[LightGBM] [Warning] No further splits with positive gain, best gain: -inf\n",
      "[LightGBM] [Warning] No further splits with positive gain, best gain: -inf\n",
      "[LightGBM] [Warning] No further splits with positive gain, best gain: -inf\n",
      "[LightGBM] [Warning] No further splits with positive gain, best gain: -inf\n",
      "[LightGBM] [Warning] No further splits with positive gain, best gain: -inf\n",
      "[LightGBM] [Warning] No further splits with positive gain, best gain: -inf\n",
      "[LightGBM] [Warning] No further splits with positive gain, best gain: -inf\n",
      "[LightGBM] [Warning] No further splits with positive gain, best gain: -inf\n",
      "[LightGBM] [Warning] No further splits with positive gain, best gain: -inf\n",
      "[LightGBM] [Warning] No further splits with positive gain, best gain: -inf\n",
      "[LightGBM] [Warning] No further splits with positive gain, best gain: -inf\n",
      "[LightGBM] [Warning] No further splits with positive gain, best gain: -inf\n",
      "[LightGBM] [Warning] No further splits with positive gain, best gain: -inf\n",
      "[LightGBM] [Warning] No further splits with positive gain, best gain: -inf\n",
      "[LightGBM] [Warning] No further splits with positive gain, best gain: -inf\n",
      "[LightGBM] [Warning] No further splits with positive gain, best gain: -inf\n",
      "[LightGBM] [Info] Auto-choosing col-wise multi-threading, the overhead of testing was 0.000998 seconds.\n",
      "You can set `force_col_wise=true` to remove the overhead.\n",
      "[LightGBM] [Info] Total Bins 1785\n",
      "[LightGBM] [Info] Number of data points in the train set: 26148, number of used features: 7\n",
      "[LightGBM] [Info] Start training from score -0.495506\n",
      "[LightGBM] [Info] Start training from score -1.553585\n",
      "[LightGBM] [Info] Start training from score -1.718980\n",
      "[LightGBM] [Warning] No further splits with positive gain, best gain: -inf\n",
      "[LightGBM] [Warning] No further splits with positive gain, best gain: -inf\n",
      "[LightGBM] [Warning] No further splits with positive gain, best gain: -inf\n",
      "[LightGBM] [Warning] No further splits with positive gain, best gain: -inf\n",
      "[LightGBM] [Warning] No further splits with positive gain, best gain: -inf\n",
      "[LightGBM] [Warning] No further splits with positive gain, best gain: -inf\n",
      "[LightGBM] [Warning] No further splits with positive gain, best gain: -inf\n",
      "[LightGBM] [Warning] No further splits with positive gain, best gain: -inf\n",
      "[LightGBM] [Warning] No further splits with positive gain, best gain: -inf\n",
      "[LightGBM] [Warning] No further splits with positive gain, best gain: -inf\n",
      "[LightGBM] [Warning] No further splits with positive gain, best gain: -inf\n",
      "[LightGBM] [Warning] No further splits with positive gain, best gain: -inf\n",
      "[LightGBM] [Warning] No further splits with positive gain, best gain: -inf\n",
      "[LightGBM] [Warning] No further splits with positive gain, best gain: -inf\n",
      "[LightGBM] [Warning] No further splits with positive gain, best gain: -inf\n",
      "[LightGBM] [Warning] No further splits with positive gain, best gain: -inf\n",
      "[LightGBM] [Warning] No further splits with positive gain, best gain: -inf\n",
      "[LightGBM] [Warning] No further splits with positive gain, best gain: -inf\n",
      "[LightGBM] [Warning] No further splits with positive gain, best gain: -inf\n",
      "[LightGBM] [Warning] No further splits with positive gain, best gain: -inf\n",
      "[LightGBM] [Warning] No further splits with positive gain, best gain: -inf\n",
      "[LightGBM] [Warning] No further splits with positive gain, best gain: -inf\n",
      "[LightGBM] [Warning] No further splits with positive gain, best gain: -inf\n",
      "[LightGBM] [Warning] No further splits with positive gain, best gain: -inf\n",
      "[LightGBM] [Warning] No further splits with positive gain, best gain: -inf\n",
      "[LightGBM] [Warning] No further splits with positive gain, best gain: -inf\n",
      "[LightGBM] [Warning] No further splits with positive gain, best gain: -inf\n",
      "[LightGBM] [Warning] No further splits with positive gain, best gain: -inf\n",
      "[LightGBM] [Warning] No further splits with positive gain, best gain: -inf\n",
      "[LightGBM] [Warning] No further splits with positive gain, best gain: -inf\n",
      "[LightGBM] [Warning] No further splits with positive gain, best gain: -inf\n",
      "[LightGBM] [Warning] No further splits with positive gain, best gain: -inf\n",
      "[LightGBM] [Warning] No further splits with positive gain, best gain: -inf\n",
      "[LightGBM] [Warning] No further splits with positive gain, best gain: -inf\n",
      "[LightGBM] [Warning] No further splits with positive gain, best gain: -inf\n",
      "[LightGBM] [Warning] No further splits with positive gain, best gain: -inf\n",
      "[LightGBM] [Warning] No further splits with positive gain, best gain: -inf\n",
      "[LightGBM] [Warning] No further splits with positive gain, best gain: -inf\n",
      "[LightGBM] [Warning] No further splits with positive gain, best gain: -inf\n",
      "[LightGBM] [Info] Auto-choosing col-wise multi-threading, the overhead of testing was 0.001138 seconds.\n",
      "You can set `force_col_wise=true` to remove the overhead.\n",
      "[LightGBM] [Info] Total Bins 1785\n",
      "[LightGBM] [Info] Number of data points in the train set: 26147, number of used features: 7\n",
      "[LightGBM] [Info] Start training from score -0.495530\n",
      "[LightGBM] [Info] Start training from score -1.553727\n",
      "[LightGBM] [Info] Start training from score -1.718728\n",
      "[LightGBM] [Warning] No further splits with positive gain, best gain: -inf\n",
      "[LightGBM] [Warning] No further splits with positive gain, best gain: -inf\n",
      "[LightGBM] [Warning] No further splits with positive gain, best gain: -inf\n",
      "[LightGBM] [Warning] No further splits with positive gain, best gain: -inf\n",
      "[LightGBM] [Warning] No further splits with positive gain, best gain: -inf\n",
      "[LightGBM] [Warning] No further splits with positive gain, best gain: -inf\n",
      "[LightGBM] [Warning] No further splits with positive gain, best gain: -inf\n",
      "[LightGBM] [Warning] No further splits with positive gain, best gain: -inf\n",
      "[LightGBM] [Warning] No further splits with positive gain, best gain: -inf\n",
      "[LightGBM] [Warning] No further splits with positive gain, best gain: -inf\n",
      "[LightGBM] [Warning] No further splits with positive gain, best gain: -inf\n",
      "[LightGBM] [Warning] No further splits with positive gain, best gain: -inf\n",
      "[LightGBM] [Warning] No further splits with positive gain, best gain: -inf\n",
      "[LightGBM] [Warning] No further splits with positive gain, best gain: -inf\n",
      "[LightGBM] [Warning] No further splits with positive gain, best gain: -inf\n",
      "[LightGBM] [Warning] No further splits with positive gain, best gain: -inf\n",
      "[LightGBM] [Warning] No further splits with positive gain, best gain: -inf\n",
      "[LightGBM] [Warning] No further splits with positive gain, best gain: -inf\n",
      "[LightGBM] [Warning] No further splits with positive gain, best gain: -inf\n",
      "[LightGBM] [Warning] No further splits with positive gain, best gain: -inf\n",
      "[LightGBM] [Warning] No further splits with positive gain, best gain: -inf\n",
      "[LightGBM] [Warning] No further splits with positive gain, best gain: -inf\n",
      "[LightGBM] [Warning] No further splits with positive gain, best gain: -inf\n",
      "[LightGBM] [Warning] No further splits with positive gain, best gain: -inf\n",
      "[LightGBM] [Warning] No further splits with positive gain, best gain: -inf\n",
      "[LightGBM] [Warning] No further splits with positive gain, best gain: -inf\n",
      "[LightGBM] [Warning] No further splits with positive gain, best gain: -inf\n",
      "[LightGBM] [Warning] No further splits with positive gain, best gain: -inf\n",
      "[LightGBM] [Warning] No further splits with positive gain, best gain: -inf\n",
      "[LightGBM] [Warning] No further splits with positive gain, best gain: -inf\n",
      "[LightGBM] [Warning] No further splits with positive gain, best gain: -inf\n",
      "[LightGBM] [Warning] No further splits with positive gain, best gain: -inf\n",
      "[LightGBM] [Warning] No further splits with positive gain, best gain: -inf\n",
      "[LightGBM] [Warning] No further splits with positive gain, best gain: -inf\n",
      "[LightGBM] [Warning] No further splits with positive gain, best gain: -inf\n",
      "[LightGBM] [Warning] No further splits with positive gain, best gain: -inf\n",
      "[LightGBM] [Warning] No further splits with positive gain, best gain: -inf\n",
      "[LightGBM] [Warning] No further splits with positive gain, best gain: -inf\n",
      "[LightGBM] [Info] Auto-choosing col-wise multi-threading, the overhead of testing was 0.000910 seconds.\n",
      "You can set `force_col_wise=true` to remove the overhead.\n",
      "[LightGBM] [Info] Total Bins 1785\n",
      "[LightGBM] [Info] Number of data points in the train set: 26147, number of used features: 7\n",
      "[LightGBM] [Info] Start training from score -0.495468\n",
      "[LightGBM] [Info] Start training from score -1.553727\n",
      "[LightGBM] [Info] Start training from score -1.718942\n",
      "[LightGBM] [Warning] No further splits with positive gain, best gain: -inf\n",
      "[LightGBM] [Warning] No further splits with positive gain, best gain: -inf\n",
      "[LightGBM] [Warning] No further splits with positive gain, best gain: -inf\n",
      "[LightGBM] [Warning] No further splits with positive gain, best gain: -inf\n",
      "[LightGBM] [Warning] No further splits with positive gain, best gain: -inf\n",
      "[LightGBM] [Warning] No further splits with positive gain, best gain: -inf\n",
      "[LightGBM] [Warning] No further splits with positive gain, best gain: -inf\n",
      "[LightGBM] [Warning] No further splits with positive gain, best gain: -inf\n",
      "[LightGBM] [Warning] No further splits with positive gain, best gain: -inf\n",
      "[LightGBM] [Warning] No further splits with positive gain, best gain: -inf\n",
      "[LightGBM] [Warning] No further splits with positive gain, best gain: -inf\n",
      "[LightGBM] [Warning] No further splits with positive gain, best gain: -inf\n",
      "[LightGBM] [Warning] No further splits with positive gain, best gain: -inf\n",
      "[LightGBM] [Warning] No further splits with positive gain, best gain: -inf\n",
      "[LightGBM] [Warning] No further splits with positive gain, best gain: -inf\n",
      "[LightGBM] [Warning] No further splits with positive gain, best gain: -inf\n",
      "[LightGBM] [Warning] No further splits with positive gain, best gain: -inf\n",
      "[LightGBM] [Warning] No further splits with positive gain, best gain: -inf\n",
      "[LightGBM] [Warning] No further splits with positive gain, best gain: -inf\n",
      "[LightGBM] [Warning] No further splits with positive gain, best gain: -inf\n",
      "[LightGBM] [Warning] No further splits with positive gain, best gain: -inf\n",
      "[LightGBM] [Warning] No further splits with positive gain, best gain: -inf\n",
      "[LightGBM] [Warning] No further splits with positive gain, best gain: -inf\n",
      "[LightGBM] [Warning] No further splits with positive gain, best gain: -inf\n",
      "[LightGBM] [Warning] No further splits with positive gain, best gain: -inf\n",
      "[LightGBM] [Warning] No further splits with positive gain, best gain: -inf\n",
      "[LightGBM] [Warning] No further splits with positive gain, best gain: -inf\n",
      "[LightGBM] [Warning] No further splits with positive gain, best gain: -inf\n",
      "[LightGBM] [Warning] No further splits with positive gain, best gain: -inf\n",
      "[LightGBM] [Warning] No further splits with positive gain, best gain: -inf\n",
      "[LightGBM] [Warning] No further splits with positive gain, best gain: -inf\n",
      "[LightGBM] [Warning] No further splits with positive gain, best gain: -inf\n",
      "[LightGBM] [Warning] No further splits with positive gain, best gain: -inf\n",
      "[LightGBM] [Warning] No further splits with positive gain, best gain: -inf\n",
      "[LightGBM] [Warning] No further splits with positive gain, best gain: -inf\n",
      "[LightGBM] [Warning] No further splits with positive gain, best gain: -inf\n",
      "[LightGBM] [Warning] No further splits with positive gain, best gain: -inf\n",
      "[LightGBM] [Warning] No further splits with positive gain, best gain: -inf\n",
      "[LightGBM] [Warning] No further splits with positive gain, best gain: -inf\n",
      "[LightGBM] [Warning] No further splits with positive gain, best gain: -inf\n",
      "[LightGBM] [Warning] No further splits with positive gain, best gain: -inf\n",
      "[LightGBM] [Warning] No further splits with positive gain, best gain: -inf\n",
      "[LightGBM] [Warning] No further splits with positive gain, best gain: -inf\n",
      "[LightGBM] [Warning] No further splits with positive gain, best gain: -inf\n",
      "[LightGBM] [Warning] No further splits with positive gain, best gain: -inf\n",
      "[LightGBM] [Warning] No further splits with positive gain, best gain: -inf\n",
      "[LightGBM] [Warning] No further splits with positive gain, best gain: -inf\n",
      "[LightGBM] [Warning] No further splits with positive gain, best gain: -inf\n",
      "[LightGBM] [Info] Auto-choosing col-wise multi-threading, the overhead of testing was 0.000504 seconds.\n",
      "You can set `force_col_wise=true` to remove the overhead.\n",
      "[LightGBM] [Info] Total Bins 1785\n",
      "[LightGBM] [Info] Number of data points in the train set: 26148, number of used features: 7\n",
      "[LightGBM] [Info] Start training from score -0.495506\n",
      "[LightGBM] [Info] Start training from score -1.553585\n",
      "[LightGBM] [Info] Start training from score -1.718980\n",
      "[LightGBM] [Warning] No further splits with positive gain, best gain: -inf\n",
      "[LightGBM] [Warning] No further splits with positive gain, best gain: -inf\n",
      "[LightGBM] [Warning] No further splits with positive gain, best gain: -inf\n",
      "[LightGBM] [Warning] No further splits with positive gain, best gain: -inf\n",
      "[LightGBM] [Warning] No further splits with positive gain, best gain: -inf\n",
      "[LightGBM] [Warning] No further splits with positive gain, best gain: -inf\n",
      "[LightGBM] [Warning] No further splits with positive gain, best gain: -inf\n",
      "[LightGBM] [Warning] No further splits with positive gain, best gain: -inf\n",
      "[LightGBM] [Warning] No further splits with positive gain, best gain: -inf\n",
      "[LightGBM] [Warning] No further splits with positive gain, best gain: -inf\n",
      "[LightGBM] [Warning] No further splits with positive gain, best gain: -inf\n",
      "[LightGBM] [Warning] No further splits with positive gain, best gain: -inf\n",
      "[LightGBM] [Warning] No further splits with positive gain, best gain: -inf\n",
      "[LightGBM] [Warning] No further splits with positive gain, best gain: -inf\n",
      "[LightGBM] [Warning] No further splits with positive gain, best gain: -inf\n",
      "[LightGBM] [Warning] No further splits with positive gain, best gain: -inf\n",
      "[LightGBM] [Warning] No further splits with positive gain, best gain: -inf\n",
      "[LightGBM] [Warning] No further splits with positive gain, best gain: -inf\n",
      "[LightGBM] [Warning] No further splits with positive gain, best gain: -inf\n",
      "[LightGBM] [Warning] No further splits with positive gain, best gain: -inf\n",
      "[LightGBM] [Warning] No further splits with positive gain, best gain: -inf\n",
      "[LightGBM] [Warning] No further splits with positive gain, best gain: -inf\n",
      "[LightGBM] [Warning] No further splits with positive gain, best gain: -inf\n",
      "[LightGBM] [Warning] No further splits with positive gain, best gain: -inf\n",
      "[LightGBM] [Warning] No further splits with positive gain, best gain: -inf\n",
      "[LightGBM] [Warning] No further splits with positive gain, best gain: -inf\n",
      "[LightGBM] [Warning] No further splits with positive gain, best gain: -inf\n",
      "[LightGBM] [Warning] No further splits with positive gain, best gain: -inf\n",
      "[LightGBM] [Warning] No further splits with positive gain, best gain: -inf\n",
      "[LightGBM] [Warning] No further splits with positive gain, best gain: -inf\n",
      "[LightGBM] [Warning] No further splits with positive gain, best gain: -inf\n",
      "[LightGBM] [Warning] No further splits with positive gain, best gain: -inf\n",
      "[LightGBM] [Warning] No further splits with positive gain, best gain: -inf\n",
      "[LightGBM] [Warning] No further splits with positive gain, best gain: -inf\n",
      "[LightGBM] [Warning] No further splits with positive gain, best gain: -inf\n",
      "[LightGBM] [Warning] No further splits with positive gain, best gain: -inf\n",
      "[LightGBM] [Warning] No further splits with positive gain, best gain: -inf\n",
      "[LightGBM] [Warning] No further splits with positive gain, best gain: -inf\n",
      "[LightGBM] [Warning] No further splits with positive gain, best gain: -inf\n",
      "[LightGBM] [Warning] No further splits with positive gain, best gain: -inf\n",
      "[LightGBM] [Warning] No further splits with positive gain, best gain: -inf\n",
      "[LightGBM] [Warning] No further splits with positive gain, best gain: -inf\n",
      "[LightGBM] [Warning] No further splits with positive gain, best gain: -inf\n",
      "[LightGBM] [Warning] No further splits with positive gain, best gain: -inf\n",
      "[LightGBM] [Warning] No further splits with positive gain, best gain: -inf\n",
      "[LightGBM] [Warning] No further splits with positive gain, best gain: -inf\n",
      "[LightGBM] [Warning] No further splits with positive gain, best gain: -inf\n",
      "[LightGBM] [Warning] No further splits with positive gain, best gain: -inf\n",
      "[LightGBM] [Warning] No further splits with positive gain, best gain: -inf\n",
      "[LightGBM] [Warning] No further splits with positive gain, best gain: -inf\n",
      "[LightGBM] [Warning] No further splits with positive gain, best gain: -inf\n",
      "[LightGBM] [Warning] No further splits with positive gain, best gain: -inf\n",
      "[LightGBM] [Warning] No further splits with positive gain, best gain: -inf\n",
      "[LightGBM] [Info] Auto-choosing col-wise multi-threading, the overhead of testing was 0.001628 seconds.\n",
      "You can set `force_col_wise=true` to remove the overhead.\n",
      "[LightGBM] [Info] Total Bins 1785\n",
      "[LightGBM] [Info] Number of data points in the train set: 39221, number of used features: 7\n",
      "[LightGBM] [Info] Start training from score -0.495501\n",
      "[LightGBM] [Info] Start training from score -1.553680\n",
      "[LightGBM] [Info] Start training from score -1.718883\n",
      "Meilleurs paramètres : {'learning_rate': 0.1, 'n_estimators': 150, 'num_leaves': 31}\n",
      "f1_score: 0.9773142962192325\n"
     ]
    }
   ],
   "source": [
    "gb_model = LGBMClassifier(\n",
    "    objective='multiclass',\n",
    "    num_class=3,\n",
    "    boosting_type='gbdt',\n",
    "    metric='multi_logloss'\n",
    ")\n",
    "param_grid = {\n",
    "    'num_leaves': [20, 31, 40],\n",
    "    'learning_rate': [0.05, 0.1, 0.2],\n",
    "    'n_estimators': [50, 100, 150],\n",
    "}\n",
    "grid_search = GridSearchCV(estimator=gb_model, param_grid=param_grid, cv=3, scoring='f1_weighted', verbose=1)\n",
    "\n",
    "# Effectuer la recherche d'hyperparamètres\n",
    "grid_search.fit(X_train, y_train)\n",
    "\n",
    "# Afficher les meilleurs paramètres\n",
    "print(\"Meilleurs paramètres :\", grid_search.best_params_)\n",
    "\n",
    "# Utiliser le modèle avec les meilleurs paramètres pour faire des prédictions\n",
    "best_model = grid_search.best_estimator_\n",
    "y_pred = best_model.predict(X_test)\n",
    "\n",
    "# Évaluer le modèle final\n",
    "gb_score = f1_score(y_test, y_pred, average='weighted')\n",
    "print(f'f1_score: {gb_score}')\n",
    "\n"
   ]
  },
  {
   "cell_type": "markdown",
   "id": "edac3078",
   "metadata": {},
   "source": [
    "On décide alors de faire une soumission avec les paramètres trouvés à la main."
   ]
  },
  {
   "cell_type": "code",
   "execution_count": null,
   "id": "8e9551ea",
   "metadata": {},
   "outputs": [],
   "source": [
    "gb_model.fit(Xtrain,Ytrain)\n",
    "predictions_gb= gb_model.predict(Xtest)\n",
    "predictions_gb=pd.DataFrame(predictions_gb)\n",
    "predictions_gb.insert(loc=0, column='obj_ID', value=ID)#ajout de la colonne 'obj_ID'\n",
    "predictions_gb.columns=['obj_ID','label']\n",
    "predictions_gb.to_csv(\"res_gb_sans_r_classif_final.csv\", index=False)#téléchargement"
   ]
  },
  {
   "cell_type": "markdown",
   "id": "4087eb01",
   "metadata": {},
   "source": [
    "### Combinaison des 3 modèles"
   ]
  },
  {
   "cell_type": "code",
   "execution_count": 165,
   "id": "dce33f44",
   "metadata": {},
   "outputs": [],
   "source": [
    "from scipy.stats import mode"
   ]
  },
  {
   "cell_type": "code",
   "execution_count": 168,
   "id": "eb3ff965",
   "metadata": {},
   "outputs": [
    {
     "name": "stdout",
     "output_type": "stream",
     "text": [
      "[LightGBM] [Info] Auto-choosing col-wise multi-threading, the overhead of testing was 0.001868 seconds.\n",
      "You can set `force_col_wise=true` to remove the overhead.\n",
      "[LightGBM] [Info] Total Bins 1785\n",
      "[LightGBM] [Info] Number of data points in the train set: 52295, number of used features: 7\n",
      "[LightGBM] [Info] Start training from score -0.494295\n",
      "[LightGBM] [Info] Start training from score -1.557280\n",
      "[LightGBM] [Info] Start training from score -1.718748\n"
     ]
    }
   ],
   "source": [
    "predictions_et= etModel_best.predict(Xtest)\n",
    "predictions_rf =rfModel_best.predict(Xtest)\n",
    "gb_model.fit(Xtrain,Ytrain)\n",
    "predictions_gb= gb_model.predict(Xtest)\n",
    "\n"
   ]
  },
  {
   "cell_type": "code",
   "execution_count": 169,
   "id": "e10417b1",
   "metadata": {},
   "outputs": [],
   "source": [
    "# Fusionner les prédictions\n",
    "merged_predictions = np.zeros_like(predictions_et)\n",
    "for i in range(len(predictions_et)):#boucle sur chaque individu\n",
    "        counts = np.bincount([predictions_rf[i], predictions_et[i], predictions_gb[i]])\n",
    "        merged_predictions[i] = np.argmax(counts)#On choisit la classe majoritaire"
   ]
  },
  {
   "cell_type": "code",
   "execution_count": 170,
   "id": "9e754499",
   "metadata": {},
   "outputs": [],
   "source": [
    "merged_predictions=pd.DataFrame(merged_predictions)\n",
    "merged_predictions.astype('int')\n",
    "merged_predictions.insert(loc=0, column='obj_ID', value=ID)#ajout de la colonne 'obj_ID'\n",
    "merged_predictions.columns=['obj_ID','label']\n",
    "merged_predictions.to_csv(\"res_merged_sans_r_classif.csv\", index=False)#téléchargement"
   ]
  },
  {
   "cell_type": "code",
   "execution_count": null,
   "id": "041e0e39",
   "metadata": {},
   "outputs": [],
   "source": []
  }
 ],
 "metadata": {
  "kernelspec": {
   "display_name": "Python 3 (ipykernel)",
   "language": "python",
   "name": "python3"
  },
  "language_info": {
   "codemirror_mode": {
    "name": "ipython",
    "version": 3
   },
   "file_extension": ".py",
   "mimetype": "text/x-python",
   "name": "python",
   "nbconvert_exporter": "python",
   "pygments_lexer": "ipython3",
   "version": "3.9.12"
  }
 },
 "nbformat": 4,
 "nbformat_minor": 5
}
