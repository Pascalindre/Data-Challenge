{
 "cells": [
  {
   "cell_type": "markdown",
   "id": "705ec3e3",
   "metadata": {},
   "source": [
    "## I. Introduction\n",
    "L'objectif de ce projet est de prédire la qualité d'un vin, notée sur une échelle de 1 à 10, à partir de ses différentes propriétés chimiques et de son type (vin rouge ou vin blanc). Nous disposons d'un jeu de données répertoriant plus de 6000 vins et 12 variables explicatives. Bien que ce problème puisse être abordé sous l'angle de la classification, nous le considérons ici comme un problème de régression."
   ]
  },
  {
   "cell_type": "markdown",
   "id": "604c5b58",
   "metadata": {},
   "source": [
    "## II. Exploration et visualisation des données"
   ]
  },
  {
   "cell_type": "code",
   "execution_count": 6,
   "id": "f45fd2a6",
   "metadata": {},
   "outputs": [],
   "source": [
    "import pandas as pd # data processing, CSV file (e.g. pd.read_csv)"
   ]
  },
  {
   "cell_type": "code",
   "execution_count": 7,
   "id": "2c80cb5a",
   "metadata": {},
   "outputs": [],
   "source": [
    "df = pd.read_csv(r\"C:\\Users\\Pc\\Desktop\\projet prediction de la qualite du vin\\wine_train.csv\") #lire le dataset"
   ]
  },
  {
   "cell_type": "code",
   "execution_count": 8,
   "id": "fb33963e",
   "metadata": {},
   "outputs": [
    {
     "data": {
      "text/plain": [
       "(4547, 14)"
      ]
     },
     "execution_count": 8,
     "metadata": {},
     "output_type": "execute_result"
    }
   ],
   "source": [
    "df.shape #(4547, 14)"
   ]
  },
  {
   "cell_type": "code",
   "execution_count": 9,
   "id": "5c632929",
   "metadata": {
    "scrolled": true
   },
   "outputs": [
    {
     "data": {
      "text/plain": [
       "Index(['wine_ID', 'fixed acidity', 'volatile acidity', 'citric acid',\n",
       "       'residual sugar', 'chlorides', 'free sulfur dioxide',\n",
       "       'total sulfur dioxide', 'density', 'pH', 'sulphates', 'alcohol',\n",
       "       'wine_type', 'target'],\n",
       "      dtype='object')"
      ]
     },
     "execution_count": 9,
     "metadata": {},
     "output_type": "execute_result"
    }
   ],
   "source": [
    "df.columns #Index(['wine_ID', 'fixed acidity', 'volatile acidity', 'citric acid','residual sugar', 'chlorides', 'free sulfur dioxide',\n",
    "           #'total sulfur dioxide', 'density', 'pH', 'sulphates', 'alcohol',\n",
    "           #'wine_type', 'target'],\n",
    "           #dtype='object')"
   ]
  },
  {
   "cell_type": "code",
   "execution_count": 10,
   "id": "4181f3a7",
   "metadata": {},
   "outputs": [
    {
     "name": "stdout",
     "output_type": "stream",
     "text": [
      "<class 'pandas.core.frame.DataFrame'>\n",
      "RangeIndex: 4547 entries, 0 to 4546\n",
      "Data columns (total 14 columns):\n",
      " #   Column                Non-Null Count  Dtype  \n",
      "---  ------                --------------  -----  \n",
      " 0   wine_ID               4547 non-null   int64  \n",
      " 1   fixed acidity         4547 non-null   float64\n",
      " 2   volatile acidity      4547 non-null   float64\n",
      " 3   citric acid           4547 non-null   float64\n",
      " 4   residual sugar        4547 non-null   float64\n",
      " 5   chlorides             4547 non-null   float64\n",
      " 6   free sulfur dioxide   4547 non-null   float64\n",
      " 7   total sulfur dioxide  4547 non-null   float64\n",
      " 8   density               4547 non-null   float64\n",
      " 9   pH                    4547 non-null   float64\n",
      " 10  sulphates             4547 non-null   float64\n",
      " 11  alcohol               4547 non-null   float64\n",
      " 12  wine_type             4547 non-null   int64  \n",
      " 13  target                4547 non-null   int64  \n",
      "dtypes: float64(11), int64(3)\n",
      "memory usage: 497.5 KB\n"
     ]
    }
   ],
   "source": [
    "df.info()"
   ]
  },
  {
   "cell_type": "code",
   "execution_count": 11,
   "id": "55f9132d",
   "metadata": {},
   "outputs": [],
   "source": [
    "df[\"wine_type\"] = df[\"wine_type\"].astype(\"category\")#on transforme la variable qui devrait etre categorielle en variable categorielle"
   ]
  },
  {
   "cell_type": "code",
   "execution_count": 12,
   "id": "9e1fa800",
   "metadata": {},
   "outputs": [
    {
     "name": "stdout",
     "output_type": "stream",
     "text": [
      "<class 'pandas.core.frame.DataFrame'>\n",
      "RangeIndex: 4547 entries, 0 to 4546\n",
      "Data columns (total 14 columns):\n",
      " #   Column                Non-Null Count  Dtype   \n",
      "---  ------                --------------  -----   \n",
      " 0   wine_ID               4547 non-null   int64   \n",
      " 1   fixed acidity         4547 non-null   float64 \n",
      " 2   volatile acidity      4547 non-null   float64 \n",
      " 3   citric acid           4547 non-null   float64 \n",
      " 4   residual sugar        4547 non-null   float64 \n",
      " 5   chlorides             4547 non-null   float64 \n",
      " 6   free sulfur dioxide   4547 non-null   float64 \n",
      " 7   total sulfur dioxide  4547 non-null   float64 \n",
      " 8   density               4547 non-null   float64 \n",
      " 9   pH                    4547 non-null   float64 \n",
      " 10  sulphates             4547 non-null   float64 \n",
      " 11  alcohol               4547 non-null   float64 \n",
      " 12  wine_type             4547 non-null   category\n",
      " 13  target                4547 non-null   int64   \n",
      "dtypes: category(1), float64(11), int64(2)\n",
      "memory usage: 466.5 KB\n"
     ]
    }
   ],
   "source": [
    "df.info() #on peut remarquer que maintenant le type de la variable 'wine_type' est category"
   ]
  },
  {
   "cell_type": "code",
   "execution_count": 13,
   "id": "086870a0",
   "metadata": {},
   "outputs": [
    {
     "data": {
      "text/html": [
       "<div>\n",
       "<style scoped>\n",
       "    .dataframe tbody tr th:only-of-type {\n",
       "        vertical-align: middle;\n",
       "    }\n",
       "\n",
       "    .dataframe tbody tr th {\n",
       "        vertical-align: top;\n",
       "    }\n",
       "\n",
       "    .dataframe thead th {\n",
       "        text-align: right;\n",
       "    }\n",
       "</style>\n",
       "<table border=\"1\" class=\"dataframe\">\n",
       "  <thead>\n",
       "    <tr style=\"text-align: right;\">\n",
       "      <th></th>\n",
       "      <th>wine_ID</th>\n",
       "      <th>fixed acidity</th>\n",
       "      <th>volatile acidity</th>\n",
       "      <th>citric acid</th>\n",
       "      <th>residual sugar</th>\n",
       "      <th>chlorides</th>\n",
       "      <th>free sulfur dioxide</th>\n",
       "      <th>total sulfur dioxide</th>\n",
       "      <th>density</th>\n",
       "      <th>pH</th>\n",
       "      <th>sulphates</th>\n",
       "      <th>alcohol</th>\n",
       "      <th>wine_type</th>\n",
       "      <th>target</th>\n",
       "    </tr>\n",
       "  </thead>\n",
       "  <tbody>\n",
       "    <tr>\n",
       "      <th>0</th>\n",
       "      <td>2137</td>\n",
       "      <td>7.2</td>\n",
       "      <td>0.160</td>\n",
       "      <td>0.26</td>\n",
       "      <td>7.1</td>\n",
       "      <td>0.054</td>\n",
       "      <td>41.0</td>\n",
       "      <td>224.0</td>\n",
       "      <td>0.99660</td>\n",
       "      <td>3.38</td>\n",
       "      <td>0.55</td>\n",
       "      <td>10.100000</td>\n",
       "      <td>0</td>\n",
       "      <td>5</td>\n",
       "    </tr>\n",
       "    <tr>\n",
       "      <th>1</th>\n",
       "      <td>2652</td>\n",
       "      <td>7.3</td>\n",
       "      <td>0.220</td>\n",
       "      <td>0.31</td>\n",
       "      <td>2.3</td>\n",
       "      <td>0.018</td>\n",
       "      <td>45.0</td>\n",
       "      <td>80.0</td>\n",
       "      <td>0.98936</td>\n",
       "      <td>3.06</td>\n",
       "      <td>0.34</td>\n",
       "      <td>12.900000</td>\n",
       "      <td>0</td>\n",
       "      <td>7</td>\n",
       "    </tr>\n",
       "    <tr>\n",
       "      <th>2</th>\n",
       "      <td>1544</td>\n",
       "      <td>8.9</td>\n",
       "      <td>0.130</td>\n",
       "      <td>0.49</td>\n",
       "      <td>1.0</td>\n",
       "      <td>0.028</td>\n",
       "      <td>6.0</td>\n",
       "      <td>24.0</td>\n",
       "      <td>0.99260</td>\n",
       "      <td>2.91</td>\n",
       "      <td>0.32</td>\n",
       "      <td>9.900000</td>\n",
       "      <td>0</td>\n",
       "      <td>5</td>\n",
       "    </tr>\n",
       "    <tr>\n",
       "      <th>3</th>\n",
       "      <td>3447</td>\n",
       "      <td>6.0</td>\n",
       "      <td>0.170</td>\n",
       "      <td>0.29</td>\n",
       "      <td>9.7</td>\n",
       "      <td>0.044</td>\n",
       "      <td>33.0</td>\n",
       "      <td>98.0</td>\n",
       "      <td>0.99536</td>\n",
       "      <td>3.12</td>\n",
       "      <td>0.36</td>\n",
       "      <td>9.200000</td>\n",
       "      <td>0</td>\n",
       "      <td>6</td>\n",
       "    </tr>\n",
       "    <tr>\n",
       "      <th>4</th>\n",
       "      <td>1067</td>\n",
       "      <td>7.5</td>\n",
       "      <td>0.190</td>\n",
       "      <td>0.34</td>\n",
       "      <td>2.6</td>\n",
       "      <td>0.037</td>\n",
       "      <td>33.0</td>\n",
       "      <td>125.0</td>\n",
       "      <td>0.99230</td>\n",
       "      <td>3.10</td>\n",
       "      <td>0.49</td>\n",
       "      <td>11.100000</td>\n",
       "      <td>0</td>\n",
       "      <td>7</td>\n",
       "    </tr>\n",
       "    <tr>\n",
       "      <th>5</th>\n",
       "      <td>2026</td>\n",
       "      <td>6.4</td>\n",
       "      <td>0.260</td>\n",
       "      <td>0.40</td>\n",
       "      <td>1.7</td>\n",
       "      <td>0.179</td>\n",
       "      <td>5.0</td>\n",
       "      <td>60.0</td>\n",
       "      <td>0.99250</td>\n",
       "      <td>3.09</td>\n",
       "      <td>0.54</td>\n",
       "      <td>10.100000</td>\n",
       "      <td>0</td>\n",
       "      <td>5</td>\n",
       "    </tr>\n",
       "    <tr>\n",
       "      <th>6</th>\n",
       "      <td>4528</td>\n",
       "      <td>6.4</td>\n",
       "      <td>0.370</td>\n",
       "      <td>0.19</td>\n",
       "      <td>3.5</td>\n",
       "      <td>0.068</td>\n",
       "      <td>18.0</td>\n",
       "      <td>101.0</td>\n",
       "      <td>0.99340</td>\n",
       "      <td>3.03</td>\n",
       "      <td>0.38</td>\n",
       "      <td>9.000000</td>\n",
       "      <td>0</td>\n",
       "      <td>6</td>\n",
       "    </tr>\n",
       "    <tr>\n",
       "      <th>7</th>\n",
       "      <td>2242</td>\n",
       "      <td>6.1</td>\n",
       "      <td>0.230</td>\n",
       "      <td>0.45</td>\n",
       "      <td>10.6</td>\n",
       "      <td>0.094</td>\n",
       "      <td>49.0</td>\n",
       "      <td>169.0</td>\n",
       "      <td>0.99699</td>\n",
       "      <td>3.05</td>\n",
       "      <td>0.54</td>\n",
       "      <td>8.800000</td>\n",
       "      <td>0</td>\n",
       "      <td>5</td>\n",
       "    </tr>\n",
       "    <tr>\n",
       "      <th>8</th>\n",
       "      <td>4164</td>\n",
       "      <td>7.0</td>\n",
       "      <td>0.310</td>\n",
       "      <td>0.35</td>\n",
       "      <td>1.6</td>\n",
       "      <td>0.063</td>\n",
       "      <td>13.0</td>\n",
       "      <td>119.0</td>\n",
       "      <td>0.99184</td>\n",
       "      <td>3.22</td>\n",
       "      <td>0.50</td>\n",
       "      <td>10.700000</td>\n",
       "      <td>0</td>\n",
       "      <td>5</td>\n",
       "    </tr>\n",
       "    <tr>\n",
       "      <th>9</th>\n",
       "      <td>6257</td>\n",
       "      <td>11.6</td>\n",
       "      <td>0.475</td>\n",
       "      <td>0.40</td>\n",
       "      <td>1.4</td>\n",
       "      <td>0.091</td>\n",
       "      <td>6.0</td>\n",
       "      <td>28.0</td>\n",
       "      <td>0.99704</td>\n",
       "      <td>3.07</td>\n",
       "      <td>0.65</td>\n",
       "      <td>10.033333</td>\n",
       "      <td>1</td>\n",
       "      <td>6</td>\n",
       "    </tr>\n",
       "  </tbody>\n",
       "</table>\n",
       "</div>"
      ],
      "text/plain": [
       "   wine_ID  fixed acidity  volatile acidity  citric acid  residual sugar  \\\n",
       "0     2137            7.2             0.160         0.26             7.1   \n",
       "1     2652            7.3             0.220         0.31             2.3   \n",
       "2     1544            8.9             0.130         0.49             1.0   \n",
       "3     3447            6.0             0.170         0.29             9.7   \n",
       "4     1067            7.5             0.190         0.34             2.6   \n",
       "5     2026            6.4             0.260         0.40             1.7   \n",
       "6     4528            6.4             0.370         0.19             3.5   \n",
       "7     2242            6.1             0.230         0.45            10.6   \n",
       "8     4164            7.0             0.310         0.35             1.6   \n",
       "9     6257           11.6             0.475         0.40             1.4   \n",
       "\n",
       "   chlorides  free sulfur dioxide  total sulfur dioxide  density    pH  \\\n",
       "0      0.054                 41.0                 224.0  0.99660  3.38   \n",
       "1      0.018                 45.0                  80.0  0.98936  3.06   \n",
       "2      0.028                  6.0                  24.0  0.99260  2.91   \n",
       "3      0.044                 33.0                  98.0  0.99536  3.12   \n",
       "4      0.037                 33.0                 125.0  0.99230  3.10   \n",
       "5      0.179                  5.0                  60.0  0.99250  3.09   \n",
       "6      0.068                 18.0                 101.0  0.99340  3.03   \n",
       "7      0.094                 49.0                 169.0  0.99699  3.05   \n",
       "8      0.063                 13.0                 119.0  0.99184  3.22   \n",
       "9      0.091                  6.0                  28.0  0.99704  3.07   \n",
       "\n",
       "   sulphates    alcohol wine_type  target  \n",
       "0       0.55  10.100000         0       5  \n",
       "1       0.34  12.900000         0       7  \n",
       "2       0.32   9.900000         0       5  \n",
       "3       0.36   9.200000         0       6  \n",
       "4       0.49  11.100000         0       7  \n",
       "5       0.54  10.100000         0       5  \n",
       "6       0.38   9.000000         0       6  \n",
       "7       0.54   8.800000         0       5  \n",
       "8       0.50  10.700000         0       5  \n",
       "9       0.65  10.033333         1       6  "
      ]
     },
     "execution_count": 13,
     "metadata": {},
     "output_type": "execute_result"
    }
   ],
   "source": [
    "df.head(10) #les 10 premieres lignes"
   ]
  },
  {
   "cell_type": "code",
   "execution_count": 14,
   "id": "4c149287",
   "metadata": {},
   "outputs": [
    {
     "data": {
      "text/plain": [
       "0"
      ]
     },
     "execution_count": 14,
     "metadata": {},
     "output_type": "execute_result"
    }
   ],
   "source": [
    "df.duplicated().sum() # on verifie si on a des doublons\n",
    "#elle renvoie: 0"
   ]
  },
  {
   "cell_type": "code",
   "execution_count": 15,
   "id": "f1fa3f50",
   "metadata": {},
   "outputs": [
    {
     "name": "stdout",
     "output_type": "stream",
     "text": [
      "wine_ID  :  0\n",
      "fixed acidity  :  0\n",
      "volatile acidity  :  0\n",
      "citric acid  :  0\n",
      "residual sugar  :  0\n",
      "chlorides  :  0\n",
      "free sulfur dioxide  :  0\n",
      "total sulfur dioxide  :  0\n",
      "density  :  0\n",
      "pH  :  0\n",
      "sulphates  :  0\n",
      "alcohol  :  0\n",
      "wine_type  :  0\n",
      "target  :  0\n"
     ]
    }
   ],
   "source": [
    "for i in df.columns:\n",
    "    print(i,\" : \",df[i].isnull().sum()) #on verifie si on a des valeurs manquantes par colonnes\n",
    "    #elle renvoie des 0 "
   ]
  },
  {
   "cell_type": "markdown",
   "id": "54381bd1",
   "metadata": {},
   "source": [
    "Le calcul des statistiques descriptives implique de calculer des mesures statistiques telles que la moyenne, l'écart-type, le minimum, le premier quartile, la médiane, le troisième quartile, le maximum pour chaque variable. Cela nous permettra d'avoir une idée des tendances centrales et de la dispersion des données."
   ]
  },
  {
   "cell_type": "code",
   "execution_count": 16,
   "id": "2e22096f",
   "metadata": {},
   "outputs": [
    {
     "data": {
      "text/html": [
       "<div>\n",
       "<style scoped>\n",
       "    .dataframe tbody tr th:only-of-type {\n",
       "        vertical-align: middle;\n",
       "    }\n",
       "\n",
       "    .dataframe tbody tr th {\n",
       "        vertical-align: top;\n",
       "    }\n",
       "\n",
       "    .dataframe thead th {\n",
       "        text-align: right;\n",
       "    }\n",
       "</style>\n",
       "<table border=\"1\" class=\"dataframe\">\n",
       "  <thead>\n",
       "    <tr style=\"text-align: right;\">\n",
       "      <th></th>\n",
       "      <th>wine_ID</th>\n",
       "      <th>fixed acidity</th>\n",
       "      <th>volatile acidity</th>\n",
       "      <th>citric acid</th>\n",
       "      <th>residual sugar</th>\n",
       "      <th>chlorides</th>\n",
       "      <th>free sulfur dioxide</th>\n",
       "      <th>total sulfur dioxide</th>\n",
       "      <th>density</th>\n",
       "      <th>pH</th>\n",
       "      <th>sulphates</th>\n",
       "      <th>alcohol</th>\n",
       "      <th>target</th>\n",
       "    </tr>\n",
       "  </thead>\n",
       "  <tbody>\n",
       "    <tr>\n",
       "      <th>count</th>\n",
       "      <td>4547.000000</td>\n",
       "      <td>4547.000000</td>\n",
       "      <td>4547.000000</td>\n",
       "      <td>4547.000000</td>\n",
       "      <td>4547.000000</td>\n",
       "      <td>4547.000000</td>\n",
       "      <td>4547.000000</td>\n",
       "      <td>4547.000000</td>\n",
       "      <td>4547.000000</td>\n",
       "      <td>4547.000000</td>\n",
       "      <td>4547.000000</td>\n",
       "      <td>4547.000000</td>\n",
       "      <td>4547.000000</td>\n",
       "    </tr>\n",
       "    <tr>\n",
       "      <th>mean</th>\n",
       "      <td>3249.257313</td>\n",
       "      <td>7.235364</td>\n",
       "      <td>0.340110</td>\n",
       "      <td>0.318155</td>\n",
       "      <td>5.367572</td>\n",
       "      <td>0.056112</td>\n",
       "      <td>30.364416</td>\n",
       "      <td>115.502309</td>\n",
       "      <td>0.994700</td>\n",
       "      <td>3.219477</td>\n",
       "      <td>0.533006</td>\n",
       "      <td>10.496162</td>\n",
       "      <td>5.824060</td>\n",
       "    </tr>\n",
       "    <tr>\n",
       "      <th>std</th>\n",
       "      <td>1882.272944</td>\n",
       "      <td>1.319966</td>\n",
       "      <td>0.166643</td>\n",
       "      <td>0.142942</td>\n",
       "      <td>4.748314</td>\n",
       "      <td>0.035236</td>\n",
       "      <td>17.868751</td>\n",
       "      <td>56.989343</td>\n",
       "      <td>0.003015</td>\n",
       "      <td>0.163511</td>\n",
       "      <td>0.150728</td>\n",
       "      <td>1.179564</td>\n",
       "      <td>0.876346</td>\n",
       "    </tr>\n",
       "    <tr>\n",
       "      <th>min</th>\n",
       "      <td>0.000000</td>\n",
       "      <td>3.800000</td>\n",
       "      <td>0.080000</td>\n",
       "      <td>0.000000</td>\n",
       "      <td>0.600000</td>\n",
       "      <td>0.012000</td>\n",
       "      <td>1.000000</td>\n",
       "      <td>6.000000</td>\n",
       "      <td>0.987130</td>\n",
       "      <td>2.740000</td>\n",
       "      <td>0.220000</td>\n",
       "      <td>8.000000</td>\n",
       "      <td>3.000000</td>\n",
       "    </tr>\n",
       "    <tr>\n",
       "      <th>25%</th>\n",
       "      <td>1618.500000</td>\n",
       "      <td>6.400000</td>\n",
       "      <td>0.230000</td>\n",
       "      <td>0.250000</td>\n",
       "      <td>1.800000</td>\n",
       "      <td>0.038000</td>\n",
       "      <td>17.000000</td>\n",
       "      <td>77.000000</td>\n",
       "      <td>0.992340</td>\n",
       "      <td>3.110000</td>\n",
       "      <td>0.430000</td>\n",
       "      <td>9.500000</td>\n",
       "      <td>5.000000</td>\n",
       "    </tr>\n",
       "    <tr>\n",
       "      <th>50%</th>\n",
       "      <td>3227.000000</td>\n",
       "      <td>7.000000</td>\n",
       "      <td>0.290000</td>\n",
       "      <td>0.310000</td>\n",
       "      <td>2.900000</td>\n",
       "      <td>0.047000</td>\n",
       "      <td>29.000000</td>\n",
       "      <td>118.000000</td>\n",
       "      <td>0.994800</td>\n",
       "      <td>3.210000</td>\n",
       "      <td>0.510000</td>\n",
       "      <td>10.300000</td>\n",
       "      <td>6.000000</td>\n",
       "    </tr>\n",
       "    <tr>\n",
       "      <th>75%</th>\n",
       "      <td>4896.500000</td>\n",
       "      <td>7.700000</td>\n",
       "      <td>0.400000</td>\n",
       "      <td>0.390000</td>\n",
       "      <td>8.000000</td>\n",
       "      <td>0.065000</td>\n",
       "      <td>41.000000</td>\n",
       "      <td>156.000000</td>\n",
       "      <td>0.997000</td>\n",
       "      <td>3.320000</td>\n",
       "      <td>0.600000</td>\n",
       "      <td>11.300000</td>\n",
       "      <td>6.000000</td>\n",
       "    </tr>\n",
       "    <tr>\n",
       "      <th>max</th>\n",
       "      <td>6495.000000</td>\n",
       "      <td>15.600000</td>\n",
       "      <td>1.580000</td>\n",
       "      <td>1.000000</td>\n",
       "      <td>65.800000</td>\n",
       "      <td>0.611000</td>\n",
       "      <td>289.000000</td>\n",
       "      <td>440.000000</td>\n",
       "      <td>1.038980</td>\n",
       "      <td>4.010000</td>\n",
       "      <td>2.000000</td>\n",
       "      <td>14.200000</td>\n",
       "      <td>9.000000</td>\n",
       "    </tr>\n",
       "  </tbody>\n",
       "</table>\n",
       "</div>"
      ],
      "text/plain": [
       "           wine_ID  fixed acidity  volatile acidity  citric acid  \\\n",
       "count  4547.000000    4547.000000       4547.000000  4547.000000   \n",
       "mean   3249.257313       7.235364          0.340110     0.318155   \n",
       "std    1882.272944       1.319966          0.166643     0.142942   \n",
       "min       0.000000       3.800000          0.080000     0.000000   \n",
       "25%    1618.500000       6.400000          0.230000     0.250000   \n",
       "50%    3227.000000       7.000000          0.290000     0.310000   \n",
       "75%    4896.500000       7.700000          0.400000     0.390000   \n",
       "max    6495.000000      15.600000          1.580000     1.000000   \n",
       "\n",
       "       residual sugar    chlorides  free sulfur dioxide  total sulfur dioxide  \\\n",
       "count     4547.000000  4547.000000          4547.000000           4547.000000   \n",
       "mean         5.367572     0.056112            30.364416            115.502309   \n",
       "std          4.748314     0.035236            17.868751             56.989343   \n",
       "min          0.600000     0.012000             1.000000              6.000000   \n",
       "25%          1.800000     0.038000            17.000000             77.000000   \n",
       "50%          2.900000     0.047000            29.000000            118.000000   \n",
       "75%          8.000000     0.065000            41.000000            156.000000   \n",
       "max         65.800000     0.611000           289.000000            440.000000   \n",
       "\n",
       "           density           pH    sulphates      alcohol       target  \n",
       "count  4547.000000  4547.000000  4547.000000  4547.000000  4547.000000  \n",
       "mean      0.994700     3.219477     0.533006    10.496162     5.824060  \n",
       "std       0.003015     0.163511     0.150728     1.179564     0.876346  \n",
       "min       0.987130     2.740000     0.220000     8.000000     3.000000  \n",
       "25%       0.992340     3.110000     0.430000     9.500000     5.000000  \n",
       "50%       0.994800     3.210000     0.510000    10.300000     6.000000  \n",
       "75%       0.997000     3.320000     0.600000    11.300000     6.000000  \n",
       "max       1.038980     4.010000     2.000000    14.200000     9.000000  "
      ]
     },
     "execution_count": 16,
     "metadata": {},
     "output_type": "execute_result"
    }
   ],
   "source": [
    "df.describe()#calcul des statistiques descriptives"
   ]
  },
  {
   "cell_type": "code",
   "execution_count": 17,
   "id": "fa68e40a",
   "metadata": {},
   "outputs": [],
   "source": [
    "import matplotlib.pyplot as plt"
   ]
  },
  {
   "cell_type": "code",
   "execution_count": 18,
   "id": "e21be940",
   "metadata": {},
   "outputs": [],
   "source": [
    "import seaborn as sn"
   ]
  },
  {
   "cell_type": "code",
   "execution_count": 19,
   "id": "fc5856a5",
   "metadata": {},
   "outputs": [
    {
     "data": {
      "text/plain": [
       "[Text(0, 0.5, 'target'), Text(0.5, 1.0, 'Box Plot On target')]"
      ]
     },
     "execution_count": 19,
     "metadata": {},
     "output_type": "execute_result"
    },
    {
     "data": {
      "image/png": "[encoded data removed]",
      "text/plain": [
       "<Figure size 800x800 with 1 Axes>"
      ]
     },
     "metadata": {},
     "output_type": "display_data"
    }
   ],
   "source": [
    "fig, axes = plt.subplots(nrows=1,ncols=1)\n",
    "fig.set_size_inches(8, 8)\n",
    "sn.boxplot(data=df,y=\"target\",orient=\"v\",ax=axes)\n",
    "\n",
    "axes.set(ylabel='target',title=\"Box Plot On target\")"
   ]
  },
  {
   "cell_type": "code",
   "execution_count": 20,
   "id": "908ccbad",
   "metadata": {},
   "outputs": [
    {
     "data": {
      "text/plain": [
       "[Text(0.5, 0, 'wine_type'),\n",
       " Text(0, 0.5, 'target'),\n",
       " Text(0.5, 1.0, 'Box Plot On target Across wine_type')]"
      ]
     },
     "execution_count": 20,
     "metadata": {},
     "output_type": "execute_result"
    },
    {
     "data": {
      "image/png": "[encoded data removed]",
      "text/plain": [
       "<Figure size 800x800 with 1 Axes>"
      ]
     },
     "metadata": {},
     "output_type": "display_data"
    }
   ],
   "source": [
    "fig, axes = plt.subplots(nrows=1,ncols=1)\n",
    "fig.set_size_inches(8, 8)\n",
    "sn.boxplot(data=df,y=\"target\",x=\"wine_type\",orient=\"v\",ax=axes)\n",
    "axes.set(xlabel='wine_type', ylabel='target',title=\"Box Plot On target Across wine_type\")"
   ]
  },
  {
   "cell_type": "markdown",
   "id": "7d5d1a5c",
   "metadata": {},
   "source": [
    "Dans les boxplots ci-dessus, nous voyons des points au-delà des moustaches, cela indique que visuellement nous avons pu remarquer la présence de valeurs potentiellement aberrantes. "
   ]
  },
  {
   "cell_type": "code",
   "execution_count": 21,
   "id": "bf3c8346",
   "metadata": {},
   "outputs": [],
   "source": [
    "import numpy as np"
   ]
  },
  {
   "cell_type": "markdown",
   "id": "5324dd2b",
   "metadata": {},
   "source": [
    "Pour l'approche basique nous associerons les outliers de \"target\" à des individus qui ne respecte pas la fonction suivante:"
   ]
  },
  {
   "cell_type": "code",
   "execution_count": 22,
   "id": "e6a5d354",
   "metadata": {},
   "outputs": [
    {
     "data": {
      "text/plain": [
       "0       True\n",
       "1       True\n",
       "2       True\n",
       "3       True\n",
       "4       True\n",
       "        ... \n",
       "4542    True\n",
       "4543    True\n",
       "4544    True\n",
       "4545    True\n",
       "4546    True\n",
       "Name: target, Length: 4547, dtype: bool"
      ]
     },
     "execution_count": 22,
     "metadata": {},
     "output_type": "execute_result"
    }
   ],
   "source": [
    "np.abs(df[\"target\"] - df[\"target\"].mean()) <= (3 * df[\"target\"].std())"
   ]
  },
  {
   "cell_type": "code",
   "execution_count": 23,
   "id": "5e319513",
   "metadata": {},
   "outputs": [
    {
     "data": {
      "text/plain": [
       "28"
      ]
     },
     "execution_count": 23,
     "metadata": {},
     "output_type": "execute_result"
    }
   ],
   "source": [
    "df.shape[0] - df[np.abs(df[\"target\"] - df[\"target\"].mean()) <= (3 * df[\"target\"].std())].shape[0] \n",
    "#le nombre de valeurs aberrantes: 28\n",
    "#Nous soustrayons simplement le nombre total d'observations (représenté par df.shape[0]) \n",
    "#au nombre d'observations qui satisfont la condition pour ne pas être considérées comme des outliers"
   ]
  },
  {
   "cell_type": "code",
   "execution_count": 24,
   "id": "a29cd67e",
   "metadata": {},
   "outputs": [],
   "source": [
    "df_without_outliers = df[np.abs(df[\"target\"] - df[\"target\"].mean()) <= (3 * df[\"target\"].std())] "
   ]
  },
  {
   "cell_type": "code",
   "execution_count": 25,
   "id": "e74a257c",
   "metadata": {},
   "outputs": [
    {
     "data": {
      "text/plain": [
       "(4519, 14)"
      ]
     },
     "execution_count": 25,
     "metadata": {},
     "output_type": "execute_result"
    }
   ],
   "source": [
    "df_without_outliers.shape"
   ]
  },
  {
   "cell_type": "code",
   "execution_count": 26,
   "id": "f211e819",
   "metadata": {},
   "outputs": [
    {
     "data": {
      "text/plain": [
       "<Axes: >"
      ]
     },
     "execution_count": 26,
     "metadata": {},
     "output_type": "execute_result"
    },
    {
     "data": {
      "image/png": "[encoded data removed]",
      "text/plain": [
       "<Figure size 2000x1000 with 2 Axes>"
      ]
     },
     "metadata": {},
     "output_type": "display_data"
    }
   ],
   "source": [
    "#etude de correlation\n",
    "\n",
    "# Calcul de la matrice de corrélation entre les variables numériques du DataFrame df\n",
    "corrMatt = df.corr(numeric_only=True)\n",
    "\n",
    "# Création d'un masque pour cacher la partie inférieure de la matrice (qui est une duplication symétrique)\n",
    "mask = np.array(corrMatt)\n",
    "mask[np.tril_indices_from(mask)] = False\n",
    "\n",
    "fig,ax= plt.subplots()\n",
    "fig.set_size_inches(20,10)\n",
    "sn.heatmap(corrMatt, mask=mask,vmax=.8, square=True,annot=True)\n",
    "\n",
    "# - vmax : la valeur maximale pour l'échelle de couleur (limitée à 0.8)\n",
    "# - square : force les cellules à être carrées\n",
    "# - annot : ajoute les valeurs numériques dans chaque cellule de la carte de chaleur\n"
   ]
  },
  {
   "cell_type": "markdown",
   "id": "bcce5f0d",
   "metadata": {},
   "source": [
    "## III. Modélisation\n",
    "Cette partie consiste à concrétiser nos modèles de Machine Learning suite au prétraitement de nos données dans la section II."
   ]
  },
  {
   "cell_type": "code",
   "execution_count": 27,
   "id": "802c17d7",
   "metadata": {},
   "outputs": [],
   "source": [
    "import sklearn\n",
    "from sklearn.model_selection import train_test_split"
   ]
  },
  {
   "cell_type": "code",
   "execution_count": 28,
   "id": "10bbb17c",
   "metadata": {},
   "outputs": [],
   "source": [
    "#Pour rappel notre variable à prédire est \"target\" et le reste est considéré comme variables prédictives (sans wine_ID).\n",
    "#Il est necessaire d'isoler la variable à prédire dans une nouvelle variable Y et les variables prédictives \n",
    "#dans une variable X avant d'utiliser le train_test_split().\n",
    "X = df_without_outliers.drop(['wine_ID','target'], axis=1)\n",
    "Y = df_without_outliers['target']\n",
    "X_train, X_test, Y_train, Y_test = train_test_split(X, Y, test_size=0.2, random_state=42) #sans valeurs aberrantes\n",
    "# 80% d'individus pour le train et 20% pour le test.\n",
    "#on a ajout une graine avec random_state pour que l'échantillonnage se fait de la même manière à chaque lancement du code"
   ]
  },
  {
   "cell_type": "code",
   "execution_count": 29,
   "id": "f05f0fd6",
   "metadata": {},
   "outputs": [
    {
     "name": "stdout",
     "output_type": "stream",
     "text": [
      "(3615, 12) (904, 12)\n",
      "(3615,) (904,)\n"
     ]
    }
   ],
   "source": [
    "print(X_train.shape, X_test.shape)\n",
    "print(Y_train.shape, Y_test.shape)\n",
    "#(3615, 12) (904, 12)\n",
    "#(3615,) (904,)"
   ]
  },
  {
   "cell_type": "code",
   "execution_count": 30,
   "id": "935f5a54",
   "metadata": {},
   "outputs": [],
   "source": [
    "X_1 = df.drop(['wine_ID','target'], axis=1)\n",
    "Y_1 = df['target']\n",
    "X_train_1, X_test_1, Y_train_1, Y_test_1 = train_test_split(X_1, Y_1, test_size=0.2, random_state=42) #avec valeurs aberrantes"
   ]
  },
  {
   "cell_type": "code",
   "execution_count": 31,
   "id": "e59c313f",
   "metadata": {},
   "outputs": [
    {
     "name": "stdout",
     "output_type": "stream",
     "text": [
      "(3637, 12) (910, 12)\n",
      "(3637,) (910,)\n"
     ]
    }
   ],
   "source": [
    "print(X_train_1.shape, X_test_1.shape)\n",
    "print(Y_train_1.shape, Y_test_1.shape)\n",
    "#(3637, 12) (910, 12)\n",
    "#(3637,) (910,)"
   ]
  },
  {
   "cell_type": "markdown",
   "id": "c31399da",
   "metadata": {},
   "source": [
    "### 3.1. La régression linéaire\n",
    "Dans notre cas nous avons un régréssion linéaire multiple car nos variables explicatives sont nombreuses. Ainsi nous cherchons la meilleur droite telles que: $Y = a_{0} + a_{1}X_{1} + a_{2}X_{2} + ... + a_{12}X_{12}$."
   ]
  },
  {
   "cell_type": "code",
   "execution_count": 32,
   "id": "e6afbb41",
   "metadata": {},
   "outputs": [],
   "source": [
    "from sklearn import metrics"
   ]
  },
  {
   "cell_type": "code",
   "execution_count": 33,
   "id": "fd8eb34b",
   "metadata": {},
   "outputs": [
    {
     "name": "stdout",
     "output_type": "stream",
     "text": [
      "R2:  0.25488431942809464\n"
     ]
    }
   ],
   "source": [
    "#sans valeurs aberrantes et avec normalisation des donnees\n",
    "from sklearn.preprocessing import StandardScaler\n",
    "from sklearn.linear_model import LinearRegression\n",
    "\n",
    "# Créer un objet StandardScaler\n",
    "scaler = StandardScaler()\n",
    "\n",
    "# Ajuster le scaler aux données d'entraînement et le transformer\n",
    "X_train_scaled = scaler.fit_transform(X_train)\n",
    "X_test_scaled = scaler.transform(X_test)\n",
    "\n",
    "\n",
    "lModel = LinearRegression()\n",
    "# Entraîner le modèle de régression linéaire sur les données standardisées\n",
    "lModel.fit(X=X_train_scaled, y=Y_train)\n",
    "\n",
    "# Faire des prédictions sur les données de test\n",
    "y_pred = lModel.predict(X=X_test_scaled)\n",
    "\n",
    "# Calculer le coefficient de détermination (R2) sur les prédictions\n",
    "from sklearn import metrics\n",
    "print(\"R2: \", metrics.r2_score(Y_test, y_pred))#R2:  0.25488431942809464"
   ]
  },
  {
   "cell_type": "code",
   "execution_count": 34,
   "id": "817ab9e7",
   "metadata": {},
   "outputs": [
    {
     "name": "stdout",
     "output_type": "stream",
     "text": [
      "R2:  0.31052155298777095\n"
     ]
    }
   ],
   "source": [
    "#avec valeurs aberrantes et avec normalisation des donnees\n",
    "from sklearn.preprocessing import StandardScaler\n",
    "from sklearn.linear_model import LinearRegression\n",
    "\n",
    "# Créer un objet StandardScaler\n",
    "scaler = StandardScaler()\n",
    "\n",
    "# Ajuster le scaler aux données d'entraînement et le transformer\n",
    "X_train_scaled = scaler.fit_transform(X_train_1)\n",
    "X_test_scaled = scaler.transform(X_test_1)\n",
    "\n",
    "\n",
    "lModel = LinearRegression()\n",
    "# Entraîner le modèle de régression linéaire sur les données standardisées\n",
    "lModel.fit(X=X_train_scaled, y=Y_train_1)\n",
    "\n",
    "# Faire des prédictions sur les données de test\n",
    "y_pred = lModel.predict(X=X_test_scaled)\n",
    "\n",
    "# Calculer le coefficient de détermination (R2) sur les prédictions\n",
    "from sklearn import metrics\n",
    "print(\"R2: \", metrics.r2_score(Y_test_1, y_pred))#R2:  0.31052155298777095"
   ]
  },
  {
   "cell_type": "code",
   "execution_count": 35,
   "id": "d2b58bb3",
   "metadata": {},
   "outputs": [
    {
     "name": "stdout",
     "output_type": "stream",
     "text": [
      "Cross-validated scores: 0.3210243818800429\n"
     ]
    }
   ],
   "source": [
    "#Régression linéaire avec validation croisée sans valeurs aberrantes\n",
    "from sklearn.linear_model import LinearRegression\n",
    "from sklearn.model_selection import cross_val_score\n",
    "from sklearn.preprocessing import StandardScaler\n",
    "\n",
    "scaler = StandardScaler()\n",
    "lm = LinearRegression()\n",
    "\n",
    "# Train the model with 10-folds\n",
    "scores = cross_val_score(lm, scaler.fit_transform(X_train), Y_train, cv = 10)\n",
    "print(\"Cross-validated scores:\", scores.mean())\n",
    "#Cross-validated scores: 0.3210243818800429\n"
   ]
  },
  {
   "cell_type": "markdown",
   "id": "21fda581",
   "metadata": {},
   "source": [
    "Cet extrait de code utilise la validation croisée pour évaluer la performance du modèle de régression linéaire. Le code calcule la moyenne des scores de validation croisée, ce qui donne une mesure globale de la performance du modèle sur différents ensembles de validation. Dans ce cas, la moyenne des scores est d'environ 0.32102."
   ]
  },
  {
   "cell_type": "code",
   "execution_count": 36,
   "id": "e113b4e9",
   "metadata": {},
   "outputs": [
    {
     "name": "stdout",
     "output_type": "stream",
     "text": [
      "Cross-validated scores: 0.2952775664124525\n"
     ]
    }
   ],
   "source": [
    "#Régression linéaire avec validation croisée avec valeurs aberrantes\n",
    "from sklearn.linear_model import LinearRegression\n",
    "from sklearn.model_selection import cross_val_score\n",
    "from sklearn.preprocessing import StandardScaler\n",
    "\n",
    "scaler = StandardScaler()\n",
    "lm = LinearRegression()\n",
    "\n",
    "# Train the model with 10-folds\n",
    "scores = cross_val_score(lm, scaler.fit_transform(X_train_1), Y_train_1, cv = 10)\n",
    "print(\"Cross-validated scores:\", scores.mean())\n",
    "#Cross-validated scores: 0.2952775664124525"
   ]
  },
  {
   "cell_type": "markdown",
   "id": "5533efba",
   "metadata": {},
   "source": [
    "### 3.2. Lasso"
   ]
  },
  {
   "cell_type": "markdown",
   "id": "959b570e",
   "metadata": {},
   "source": [
    "Le modèle de régression Lasso cherche à minimiser la somme des moindres carrés (comme dans la régression linéaire), tout en ajoutant une pénalité L1 (valeur absolue des coefficients) à la fonction de coût.  Cela s'exprime mathématiquement comme suit :\n",
    "\n",
    "Minimisation : Σ(yᵢ - ŷᵢ)² + $\\alpha$Σ|aᵢ|\n",
    "\n",
    "où : \n",
    "\n",
    "Σ représente la somme sur l'ensemble des échantillons.\n",
    "yᵢ est la valeur cible (observation) pour le i-ème échantillon.\n",
    "ŷᵢ est la valeur prédite pour le i-ème échantillon.\n",
    "aᵢ sont les coefficients du modèle.\n",
    "$\\alpha$ (alpha) est le paramètre de régularisation qui contrôle la force de la pénalité L1.\n",
    "La pénalité L1 vise à réduire certains coefficients (aᵢ) à zéro, ce qui a pour effet de sélectionner automatiquement les caractéristiques les plus importantes pour la prédiction. En d'autres termes, le Lasso est une méthode de régression qui simplifie les modèles en mettant l'accent sur les caractéristiques les plus importantes pour la prédiction tout en négligeant les moins importantes. Il contribue à éviter le surajustement en réduisant la complexité du modèle."
   ]
  },
  {
   "cell_type": "code",
   "execution_count": 37,
   "id": "46469423",
   "metadata": {},
   "outputs": [
    {
     "name": "stdout",
     "output_type": "stream",
     "text": [
      "R2:  -0.0038870271661610722\n"
     ]
    }
   ],
   "source": [
    "#sans valeurs aberrantes et avec normalisation des donnees\n",
    "from sklearn.preprocessing import StandardScaler\n",
    "from sklearn.linear_model import Lasso\n",
    "\n",
    "# Créez un objet StandardScaler\n",
    "scaler = StandardScaler()\n",
    "\n",
    "# Ajustez le scaler aux données d'entraînement et le transformez\n",
    "X_train_scaled = scaler.fit_transform(X_train)\n",
    "X_test_scaled = scaler.transform(X_test)\n",
    "\n",
    "\n",
    "lModel = Lasso()\n",
    "# Entraînez le modèle Lasso sur les données standardisées\n",
    "lModel.fit(X=X_train_scaled, y=Y_train)\n",
    "\n",
    "# Faites des prédictions sur les données de test\n",
    "y_pred = lModel.predict(X=X_test_scaled)\n",
    "\n",
    "# Calculez le coefficient de détermination (R2) sur les prédictions\n",
    "from sklearn import metrics\n",
    "print(\"R2: \", metrics.r2_score(Y_test, y_pred))#R2:  -0.0038870271661610722"
   ]
  },
  {
   "cell_type": "code",
   "execution_count": 38,
   "id": "25daead9",
   "metadata": {},
   "outputs": [
    {
     "name": "stdout",
     "output_type": "stream",
     "text": [
      "R2:  -0.0023389427107751715\n"
     ]
    }
   ],
   "source": [
    "#avec valeurs aberrantes et avec normalisation des donnees \n",
    "from sklearn.preprocessing import StandardScaler\n",
    "from sklearn.linear_model import Lasso\n",
    "\n",
    "# Créez un objet StandardScaler\n",
    "scaler = StandardScaler()\n",
    "\n",
    "# Ajustez le scaler aux données d'entraînement et le transformez\n",
    "X_train_scaled = scaler.fit_transform(X_train_1)\n",
    "X_test_scaled = scaler.transform(X_test_1)\n",
    "\n",
    "\n",
    "lModel = Lasso()\n",
    "# Entraînez le modèle Lasso sur les données standardisées\n",
    "lModel.fit(X=X_train_scaled, y=Y_train_1)\n",
    "\n",
    "# Faites des prédictions sur les données de test\n",
    "y_pred = lModel.predict(X=X_test_scaled)\n",
    "\n",
    "# Calculez le coefficient de détermination (R2) sur les prédictions\n",
    "from sklearn import metrics\n",
    "print(\"R2: \", metrics.r2_score(Y_test_1, y_pred))\n",
    "#R2:  -0.0023389427107751715"
   ]
  },
  {
   "cell_type": "code",
   "execution_count": 39,
   "id": "eb6f8318",
   "metadata": {},
   "outputs": [
    {
     "name": "stdout",
     "output_type": "stream",
     "text": [
      "Cross-validated scores: -0.002287349502211433\n"
     ]
    }
   ],
   "source": [
    "#lasso avec validation croisée et sans valeurs aberrantes\n",
    "lModel = Lasso()\n",
    "scores = cross_val_score(lModel, scaler.fit_transform(X_train), Y_train, cv=10)\n",
    "print(\"Cross-validated scores:\", scores.mean())\n",
    "#Cross-validated scores: -0.002287349502211433"
   ]
  },
  {
   "cell_type": "code",
   "execution_count": 40,
   "id": "54ef056a",
   "metadata": {},
   "outputs": [
    {
     "name": "stdout",
     "output_type": "stream",
     "text": [
      "Best parameters: {'alpha': 25}\n",
      "R2 Value For Lasso Regression:  -0.0038870271661610722\n"
     ]
    }
   ],
   "source": [
    "#recherche d'hyperparametre sans valeurs aberrantes\n",
    "from sklearn.model_selection import GridSearchCV\n",
    "\n",
    "lasso_m_ = Lasso()\n",
    "lasso_params_ = {'alpha':[25, 30, 35, 40, 50, 60, 70, 100, 1000]}\n",
    "\n",
    "grid_lasso_m = GridSearchCV(lasso_m_, \n",
    "                            lasso_params_, \n",
    "                            cv = 10)\n",
    "\n",
    "grid_lasso_m.fit(X_train, Y_train)\n",
    "preds = grid_lasso_m.predict(X=X_test)\n",
    "\n",
    "print (\"Best parameters:\", grid_lasso_m.best_params_)\n",
    "print (\"R2 Value For Lasso Regression: \", metrics.r2_score(Y_test, preds))\n",
    "#Best parameters: {'alpha': 25}\n",
    "#R2 Value For Lasso Regression:  -0.0038870271661610722"
   ]
  },
  {
   "cell_type": "code",
   "execution_count": 41,
   "id": "962cd738",
   "metadata": {},
   "outputs": [
    {
     "name": "stdout",
     "output_type": "stream",
     "text": [
      "Cross-validated scores: -0.003273797992473049\n"
     ]
    }
   ],
   "source": [
    "#lasso avec validation croisée et avec valeurs aberrantes\n",
    "lModel = Lasso()\n",
    "scores = cross_val_score(lModel, scaler.fit_transform(X_train_1), Y_train_1, cv=10)\n",
    "print(\"Cross-validated scores:\", scores.mean())\n",
    "#Cross-validated scores: -0.003273797992473049"
   ]
  },
  {
   "cell_type": "code",
   "execution_count": 42,
   "id": "fc272e60",
   "metadata": {},
   "outputs": [
    {
     "name": "stdout",
     "output_type": "stream",
     "text": [
      "Best parameters: {'alpha': 25}\n",
      "R2 Value For Lasso Regression:  -0.0023389427107751715\n"
     ]
    }
   ],
   "source": [
    "#recherche d'hyperparametre avec valeurs aberrantes\n",
    "from sklearn.model_selection import GridSearchCV\n",
    "\n",
    "lasso_m_ = Lasso()\n",
    "lasso_params_ = {'alpha':[25, 30, 35, 40, 50, 60, 70, 100, 1000]}\n",
    "\n",
    "grid_lasso_m = GridSearchCV(lasso_m_, \n",
    "                            lasso_params_, \n",
    "                            cv = 10)\n",
    "\n",
    "grid_lasso_m.fit(X_train_1, Y_train_1)\n",
    "preds = grid_lasso_m.predict(X=X_test_1)\n",
    "\n",
    "print (\"Best parameters:\", grid_lasso_m.best_params_)\n",
    "print (\"R2 Value For Lasso Regression: \", metrics.r2_score(Y_test_1, preds))\n",
    "#Best parameters: {'alpha': 25}\n",
    "#R2 Value For Lasso Regression:  "
   ]
  },
  {
   "cell_type": "markdown",
   "id": "9bb87641",
   "metadata": {},
   "source": [
    "### 3.3. Ridge\n",
    "\n",
    "Le modèle de régression Ridge cherche à minimiser la somme des moindres carrés tout en ajoutant une pénalité L2 (carré des coefficients) à la fonction de coût. Cela s'exprime mathématiquement comme suit :\n",
    "\n",
    "Minimisation : Σ(yᵢ - ŷᵢ)² + $\\alpha$Σ(aᵢ)²\n",
    "\n",
    "où :\n",
    "\n",
    "Σ représente la somme sur l'ensemble des échantillons.\n",
    "yᵢ est la valeur cible (observation) pour le i-ème échantillon.\n",
    "ŷᵢ est la valeur prédite pour le i-ème échantillon.\n",
    "aᵢ sont les coefficients du modèle.\n",
    "$\\alpha$ (alpha) est le paramètre de régularisation qui contrôle la force de la pénalité L2.\n",
    "La pénalité L2 vise à réduire les valeurs absolues des coefficients (aᵢ) en les amenant près de zéro, ce qui a pour effet de diminuer la magnitude de tous les coefficients. Le modèle Ridge favorise donc la stabilité en évitant que les coefficients prennent des valeurs extrêmement élevées. Cela permet de réduire le risque de surajustement en ajustant les coefficients de manière plus équilibrée."
   ]
  },
  {
   "cell_type": "code",
   "execution_count": 43,
   "id": "ace17d6e",
   "metadata": {},
   "outputs": [
    {
     "name": "stdout",
     "output_type": "stream",
     "text": [
      "R2:  0.2548929045044832\n"
     ]
    }
   ],
   "source": [
    "#sans valeurs aberrantes et avec normalisation des donnees\n",
    "from sklearn.linear_model import Ridge\n",
    "from sklearn.preprocessing import StandardScaler\n",
    "from sklearn import metrics\n",
    "\n",
    "# Créez un objet StandardScaler\n",
    "scaler = StandardScaler()\n",
    "\n",
    "# Ajustez le scaler aux données d'entraînement et le transformez\n",
    "X_train_scaled = scaler.fit_transform(X_train)\n",
    "X_test_scaled = scaler.transform(X_test)\n",
    "\n",
    "# Créez un modèle de régression Ridge\n",
    "ridgeModel = Ridge()\n",
    "\n",
    "# Entraînez le modèle de régression Ridge sur les données standardisées\n",
    "ridgeModel.fit(X=X_train_scaled, y=Y_train)\n",
    "\n",
    "# Faites des prédictions sur les données de test\n",
    "y_pred = ridgeModel.predict(X=X_test_scaled)\n",
    "\n",
    "# Calculez le coefficient de détermination (R2) sur les prédictions\n",
    "print(\"R2: \", metrics.r2_score(Y_test, y_pred))#R2:  0.2548929045044832\n"
   ]
  },
  {
   "cell_type": "code",
   "execution_count": 44,
   "id": "f6f8b53c",
   "metadata": {},
   "outputs": [
    {
     "name": "stdout",
     "output_type": "stream",
     "text": [
      "Cross-validated scores: 0.32108111540162215\n"
     ]
    }
   ],
   "source": [
    "#sans valeurs aberrantes avec validation croisée\n",
    "lModel = Ridge()\n",
    "scores = cross_val_score(lModel, scaler.fit_transform(X_train), Y_train, cv=10)\n",
    "print(\"Cross-validated scores:\", scores.mean())\n",
    "#Cross-validated scores: 0.32108111540162215"
   ]
  },
  {
   "cell_type": "code",
   "execution_count": 45,
   "id": "b380f396",
   "metadata": {},
   "outputs": [
    {
     "name": "stdout",
     "output_type": "stream",
     "text": [
      "Best parameters: {'alpha': 35}\n",
      "R2 Value For Ridge Regression:  0.2549055910287559\n"
     ]
    }
   ],
   "source": [
    "# sans valeurs aberrantes recherche d'hyperparametre\n",
    "from sklearn.model_selection import GridSearchCV\n",
    "ridge_m_ = Ridge()\n",
    "ridge_params_ = {'alpha':[25, 30, 35, 40, 50, 60, 70, 100, 1000]}\n",
    "grid_ridge_m = GridSearchCV(ridge_m_, ridge_params_, cv = 10)\n",
    "\n",
    "X_train_scaled = scaler.fit_transform(X_train)\n",
    "X_test_scaled = scaler.transform(X_test)\n",
    "grid_ridge_m.fit(X_train_scaled, Y_train)\n",
    "preds = grid_ridge_m.predict(X=X_test_scaled)\n",
    "\n",
    "print (\"Best parameters:\", grid_ridge_m.best_params_)\n",
    "print (\"R2 Value For Ridge Regression: \", metrics.r2_score(Y_test, preds))\n",
    "\n",
    "#Best parameters: {'alpha': 35}\n",
    "#R2 Value For Ridge Regression:  0.2549055910287559"
   ]
  },
  {
   "cell_type": "code",
   "execution_count": 46,
   "id": "ba609967",
   "metadata": {},
   "outputs": [
    {
     "name": "stdout",
     "output_type": "stream",
     "text": [
      "R2:  0.31040027566551875\n"
     ]
    }
   ],
   "source": [
    "#avec valeurs aberrantes et sans normalisation\n",
    "from sklearn.linear_model import Ridge\n",
    "\n",
    "lModel = Ridge()\n",
    "lModel.fit(X=X_train_1, y=Y_train_1)\n",
    "\n",
    "y_pred = lModel.predict(X= X_test_1)\n",
    "\n",
    "print(\"R2: \", metrics.r2_score(Y_test_1, y_pred))\n",
    "#R2:  0.31040027566551875"
   ]
  },
  {
   "cell_type": "code",
   "execution_count": 47,
   "id": "fef0840a",
   "metadata": {},
   "outputs": [
    {
     "name": "stdout",
     "output_type": "stream",
     "text": [
      "R2:  0.31058991813727344\n"
     ]
    }
   ],
   "source": [
    "#avec valeurs aberrantes et avec normalisation des donnees\n",
    "from sklearn.linear_model import Ridge\n",
    "from sklearn.preprocessing import StandardScaler\n",
    "from sklearn import metrics\n",
    "\n",
    "# Créez un objet StandardScaler\n",
    "scaler = StandardScaler()\n",
    "\n",
    "# Ajustez le scaler aux données d'entraînement et le transformez\n",
    "X_train_scaled = scaler.fit_transform(X_train_1)\n",
    "X_test_scaled = scaler.transform(X_test_1)\n",
    "\n",
    "# Créez un modèle de régression Ridge\n",
    "ridgeModel = Ridge()\n",
    "\n",
    "# Entraînez le modèle de régression Ridge sur les données standardisées\n",
    "ridgeModel.fit(X=X_train_scaled, y=Y_train_1)\n",
    "\n",
    "# Faites des prédictions sur les données de test\n",
    "y_pred = ridgeModel.predict(X=X_test_scaled)\n",
    "\n",
    "# Calculez le coefficient de détermination (R2) sur les prédictions\n",
    "print(\"R2: \", metrics.r2_score(Y_test_1, y_pred))#R2:  0.31058991813727344"
   ]
  },
  {
   "cell_type": "code",
   "execution_count": 48,
   "id": "f7156b81",
   "metadata": {},
   "outputs": [
    {
     "name": "stdout",
     "output_type": "stream",
     "text": [
      "Cross-validated scores: 0.29530219174300365\n"
     ]
    }
   ],
   "source": [
    "#avec valeurs aberrantes avec validation croisée\n",
    "lModel = Ridge()\n",
    "scores = cross_val_score(lModel, scaler.fit_transform(X_train_1), Y_train_1, cv=10)\n",
    "print(\"Cross-validated scores:\", scores.mean())\n",
    "#Cross-validated scores: 0.29530219174300365"
   ]
  },
  {
   "cell_type": "code",
   "execution_count": 49,
   "id": "6883a5a0",
   "metadata": {},
   "outputs": [
    {
     "name": "stdout",
     "output_type": "stream",
     "text": [
      "Best parameters: {'alpha': 25}\n",
      "R2 Value For Ridge Regression:  0.31170078121568867\n"
     ]
    }
   ],
   "source": [
    "#avec valeurs aberrantes recherche d'hyperparametre\n",
    "from sklearn.model_selection import GridSearchCV\n",
    "ridge_m_ = Ridge()\n",
    "ridge_params_ = {'alpha':[25, 30, 35, 40, 50, 60, 70, 100, 1000]}\n",
    "grid_ridge_m = GridSearchCV(ridge_m_, ridge_params_, cv = 10)\n",
    "\n",
    "X_train_scaled = scaler.fit_transform(X_train_1)\n",
    "X_test_scaled = scaler.transform(X_test_1)\n",
    "grid_ridge_m.fit(X_train_scaled, Y_train_1)\n",
    "preds = grid_ridge_m.predict(X=X_test_scaled)\n",
    "\n",
    "print (\"Best parameters:\", grid_ridge_m.best_params_)\n",
    "print (\"R2 Value For Ridge Regression: \", metrics.r2_score(Y_test_1, preds))\n",
    "#Best parameters: {'alpha': 25}\n",
    "#R2 Value For Ridge Regression:  0.31170078121568867"
   ]
  },
  {
   "cell_type": "markdown",
   "id": "36d6ba06",
   "metadata": {},
   "source": [
    "### 3.4. Arbre de décision\n",
    "Un arbre de décision st un modèle d'apprentissage supervisé qui permet de prendre des décisions en subdivisant un ensemble de données en branches successives, en fonction de caractéristiques spécifiques, pour aboutir à une classification ou une prédiction."
   ]
  },
  {
   "cell_type": "code",
   "execution_count": 50,
   "id": "a2051ab3",
   "metadata": {},
   "outputs": [
    {
     "name": "stdout",
     "output_type": "stream",
     "text": [
      "R2:  -0.13507829298789886\n"
     ]
    }
   ],
   "source": [
    "#sans valeurs aberrantes\n",
    "from sklearn import tree\n",
    "\n",
    "lModel = tree.DecisionTreeRegressor(random_state=42)\n",
    "lModel.fit(X=X_train, y=Y_train)\n",
    "\n",
    "y_pred = lModel.predict(X= X_test)\n",
    "\n",
    "print(\"R2: \", metrics.r2_score(Y_test, y_pred))\n",
    "#R2:  -0.13507829298789886"
   ]
  },
  {
   "cell_type": "code",
   "execution_count": 51,
   "id": "6918c615",
   "metadata": {},
   "outputs": [
    {
     "name": "stdout",
     "output_type": "stream",
     "text": [
      "R2:  -0.13423817355435363\n"
     ]
    }
   ],
   "source": [
    "#avec valeurs aberrantes\n",
    "from sklearn import tree\n",
    "\n",
    "lModel = tree.DecisionTreeRegressor(random_state=42)\n",
    "lModel.fit(X=X_train_1, y=Y_train_1)\n",
    "\n",
    "y_pred = lModel.predict(X= X_test_1)\n",
    "\n",
    "print(\"R2: \", metrics.r2_score(Y_test_1, y_pred))\n",
    "#R2:  -0.13423817355435363"
   ]
  },
  {
   "cell_type": "markdown",
   "id": "10e692c7",
   "metadata": {},
   "source": [
    "### 3.5- Random Forest\n",
    "La forêt aléatoire, ou \"Random Forest\", est un puissant algorithme d'apprentissage machine qui appartient à la catégorie des techniques d'ensemble. Elle repose sur la combinaison de multiples arbres de décision pour effectuer des prédictions robustes et précises. En utilisant un mécanisme de vote majoritaire ou de moyenne, la forêt aléatoire peut atténuer les faiblesses individuelles de chaque arbre de décision, offrant ainsi un modèle de prédiction flexible et performant"
   ]
  },
  {
   "cell_type": "code",
   "execution_count": 52,
   "id": "ef698e39",
   "metadata": {},
   "outputs": [
    {
     "name": "stdout",
     "output_type": "stream",
     "text": [
      "R2:  0.43941588809657106\n"
     ]
    }
   ],
   "source": [
    "#sans valeurs aberrantes\n",
    "from sklearn.ensemble import RandomForestRegressor\n",
    "\n",
    "lModel = RandomForestRegressor(random_state=45)\n",
    "lModel.fit(X=X_train, y=Y_train)\n",
    "\n",
    "y_pred = lModel.predict(X= X_test)\n",
    "\n",
    "print(\"R2: \", metrics.r2_score(Y_test, y_pred))\n",
    "#R2:  0.43941588809657106 "
   ]
  },
  {
   "cell_type": "code",
   "execution_count": 53,
   "id": "c844bf69",
   "metadata": {},
   "outputs": [
    {
     "name": "stdout",
     "output_type": "stream",
     "text": [
      "R2:  0.4370192418344103\n"
     ]
    }
   ],
   "source": [
    "#avec valeurs aberrantes\n",
    "from sklearn.ensemble import RandomForestRegressor\n",
    "\n",
    "lModel = RandomForestRegressor(random_state=41)\n",
    "lModel.fit(X=X_train_1, y=Y_train_1)\n",
    "\n",
    "y_pred = lModel.predict(X= X_test_1)\n",
    "\n",
    "print(\"R2: \", metrics.r2_score(Y_test_1, y_pred))\n",
    "#R2:  0.4370192418344103 "
   ]
  },
  {
   "cell_type": "code",
   "execution_count": 71,
   "id": "660d60c1",
   "metadata": {},
   "outputs": [
    {
     "name": "stdout",
     "output_type": "stream",
     "text": [
      "Cross-validated scores: 0.48499975950162255\n"
     ]
    }
   ],
   "source": [
    "#validation croisee sans valeurs aberrantes\n",
    "#ca prend un peu de temps\n",
    "\n",
    "rfModel = RandomForestRegressor(random_state=45)\n",
    "scores = cross_val_score(rfModel, X_train, Y_train, cv = 10)\n",
    "print(\"Cross-validated scores:\", scores.mean())\n",
    "#Cross-validated scores: 0.48499975950162255"
   ]
  },
  {
   "cell_type": "code",
   "execution_count": null,
   "id": "310a4194",
   "metadata": {},
   "outputs": [],
   "source": [
    "#validation croisee avec valeurs aberrantes\n",
    "#ca prend un peu de temps\n",
    "rfModel = RandomForestRegressor(random_state=41)\n",
    "scores = cross_val_score(rfModel, X_train_1, Y_train_1, cv = 10)\n",
    "print(\"Cross-validated scores:\", scores.mean())\n",
    "#Cross-validated scores: 0.4531014464736443"
   ]
  },
  {
   "cell_type": "code",
   "execution_count": null,
   "id": "c0ca0aff",
   "metadata": {},
   "outputs": [],
   "source": [
    "#recherche dhyperparametres sans valeurs aberrantes\n",
    "#lexecution prend du temps\n",
    "from sklearn.ensemble import RandomForestRegressor\n",
    "\n",
    "rf_Model = RandomForestRegressor(n_jobs = -1,random_state=45)\n",
    "\n",
    "rf_params = {\n",
    "    'n_estimators': [100, 150, 200],  # Nombre d'arbres dans la forêt.\n",
    "    'max_depth': [10, 15, 20, 22, 25, 30, None],  # Profondeur maximale de chaque arbre (None signifie aucune limite).\n",
    "    'min_samples_split': [2, 5, 10],  # Nombre minimal d'échantillons requis pour diviser un nœud.\n",
    "    'min_samples_leaf': [1, 2, 4]  # Nombre minimal d'échantillons requis pour être une feuille.\n",
    "}\n",
    "\n",
    "# Créez un objet GridSearchCV pour rechercher les meilleurs hyperparamètres.\n",
    "grid_rf_m = GridSearchCV(estimator=rf_Model, \n",
    "                         param_grid=rf_params, \n",
    "                         cv=5,  # Utilisez la validation croisée à 5 plis.\n",
    "                         n_jobs=-1  # Utilisez tous les cœurs de processeur pour accélérer la recherche.\n",
    "                        )\n",
    "\n",
    "\n",
    "\n",
    "grid_rf_m.fit(X_train, Y_train)\n",
    "preds = grid_rf_m.predict(X=X_test)\n",
    "\n",
    "print (\"Best parameters:\", grid_rf_m.best_params_)\n",
    "print (\"R2 Value For Random Forest: \", metrics.r2_score(Y_test, preds))\n",
    "#Best parameters: {'max_depth': 25, 'min_samples_leaf': 1, 'min_samples_split': 2, 'n_estimators': 150}\n",
    "#R2 Value For Random Forest:  0.44046823805868707"
   ]
  },
  {
   "cell_type": "code",
   "execution_count": null,
   "id": "ca708e30",
   "metadata": {},
   "outputs": [],
   "source": [
    "#recherche dhyperparametres avec valeurs aberrantes\n",
    "from sklearn.ensemble import RandomForestRegressor\n",
    "\n",
    "rf_Model = RandomForestRegressor(n_jobs = -1,random_state=41)\n",
    "\n",
    "rf_params = {\n",
    "    'n_estimators': [100, 150, 200],  # Nombre d'arbres dans la forêt.\n",
    "    'max_depth': [10, 15, 20, 22, 25, 30, None],  # Profondeur maximale de chaque arbre (None signifie aucune limite).\n",
    "    'min_samples_split': [2, 5, 10],  # Nombre minimal d'échantillons requis pour diviser un nœud.\n",
    "    'min_samples_leaf': [1, 2, 4]  # Nombre minimal d'échantillons requis pour être une feuille.\n",
    "}\n",
    "\n",
    "# Créez un objet GridSearchCV pour rechercher les meilleurs hyperparamètres.\n",
    "grid_rf_m = GridSearchCV(estimator=rf_Model, \n",
    "                         param_grid=rf_params, \n",
    "                         cv=5,  # Utilisez la validation croisée à 5 plis.\n",
    "                         n_jobs=-1  # Utilisez tous les cœurs de processeur pour accélérer la recherche.\n",
    "                        )\n",
    "\n",
    "\n",
    "\n",
    "grid_rf_m.fit(X_train_1, Y_train_1)\n",
    "preds = grid_rf_m.predict(X=X_test_1)\n",
    "\n",
    "print (\"Best parameters:\", grid_rf_m.best_params_)\n",
    "print (\"R2 Value For Random Forest: \", metrics.r2_score(Y_test_1, preds))\n",
    "#Best parameters: {'max_depth': 22, 'min_samples_leaf': 1, 'min_samples_split': 2, 'n_estimators': 200}\n",
    "#R2 Value For Random Forest:  0.4367217715219196"
   ]
  },
  {
   "cell_type": "markdown",
   "id": "a40b1610",
   "metadata": {},
   "source": [
    "### 3.6- Gradient Boosting\n",
    "\n",
    "Le gradient boosting est une technique avancée d'apprentissage machine qui se démarque par sa capacité à construire des modèles de prédiction de haute qualité en itérativement corrigeant les erreurs des modèles précédents. Contrairement aux méthodes classiques, le gradient boosting combine des modèles simples, souvent des arbres de décision faibles, pour créer un modèle global robuste et précis."
   ]
  },
  {
   "cell_type": "code",
   "execution_count": 55,
   "id": "3f65a0ab",
   "metadata": {},
   "outputs": [
    {
     "name": "stdout",
     "output_type": "stream",
     "text": [
      "R2:  0.3570609104452376\n"
     ]
    }
   ],
   "source": [
    "#sans valeurs aberrantes\n",
    "from sklearn.ensemble import GradientBoostingRegressor\n",
    "\n",
    "lModel = GradientBoostingRegressor(random_state=45)\n",
    "lModel.fit(X = X_train, y = Y_train)\n",
    "\n",
    "y_pred = lModel.predict(X= X_test)\n",
    "\n",
    "print(\"R2: \", metrics.r2_score(Y_test, y_pred))\n",
    "#R2:  0.3570609104452376"
   ]
  },
  {
   "cell_type": "code",
   "execution_count": 56,
   "id": "e1da6eaf",
   "metadata": {},
   "outputs": [
    {
     "name": "stdout",
     "output_type": "stream",
     "text": [
      "R2:  0.3792571202035433\n"
     ]
    }
   ],
   "source": [
    "#avec valeurs aberrantes\n",
    "from sklearn.ensemble import GradientBoostingRegressor\n",
    "\n",
    "lModel = GradientBoostingRegressor(random_state=45)\n",
    "lModel.fit(X = X_train_1, y = Y_train_1)\n",
    "\n",
    "y_pred = lModel.predict(X= X_test_1)\n",
    "\n",
    "print(\"R2: \", metrics.r2_score(Y_test_1, y_pred))\n",
    "#R2:  0.3792571202035433"
   ]
  },
  {
   "cell_type": "code",
   "execution_count": null,
   "id": "47fc6cc0",
   "metadata": {},
   "outputs": [],
   "source": [
    "#validation croisee sans valeurs aberrantes\n",
    "gbModel = GradientBoostingRegressor(random_state=45)\n",
    "scores = cross_val_score(gbModel, X_train, Y_train, cv = 10) \n",
    "print(\"Cross-validated scores:\", scores.mean())\n",
    "#Cross-validated scores: 0.3981845331360667"
   ]
  },
  {
   "cell_type": "code",
   "execution_count": null,
   "id": "a1b0dc0a",
   "metadata": {},
   "outputs": [],
   "source": [
    "#validation croisee avec valeurs aberrantes\n",
    "gbModel = GradientBoostingRegressor(random_state=45)\n",
    "scores = cross_val_score(gbModel, X_train_1, Y_train_1, cv = 10) \n",
    "print(\"Cross-validated scores:\", scores.mean())\n",
    "#Cross-validated scores:  0.3765964227256635"
   ]
  },
  {
   "cell_type": "code",
   "execution_count": null,
   "id": "0b883460",
   "metadata": {},
   "outputs": [],
   "source": [
    "#recherche d'hyperparametres sans valeurs aberrantes\n",
    "#lexecution prend du temps\n",
    "gbm = GradientBoostingRegressor(random_state=45)\n",
    "\n",
    "\n",
    "gb_params = {\n",
    "    'n_estimators': [100, 200, 300, 400, 500],  # Nombre d'estimateurs (arbres) dans l'ensemble.\n",
    "    'learning_rate': [0.01, 0.1, 0.12, 0.13, 0.14, 0.2],  # Taux d'apprentissage.\n",
    "    'max_depth': [3, 4, 5, None],  # Profondeur maximale de chaque arbre (None signifie aucune limite).\n",
    "}\n",
    "\n",
    "# Créez un objet GridSearchCV pour rechercher les meilleurs hyperparamètres.\n",
    "grid_gbm = GridSearchCV(estimator=gbm, \n",
    "                         param_grid=gb_params, \n",
    "                         cv=5,  # Utilisez la validation croisée à 5 plis.\n",
    "                         n_jobs=-1  # Utilisez tous les cœurs de processeur pour accélérer la recherche.\n",
    "                        )\n",
    "\n",
    "grid_gbm.fit(X_train, Y_train)\n",
    "preds = grid_gbm.predict(X=X_test)\n",
    "\n",
    "print (\"Best parameters:\", grid_gbm.best_params_)\n",
    "print (\"R2 Value For Gradient Boosting: \", metrics.r2_score(Y_test, preds))\n",
    "#Best parameters: {'learning_rate': 0.1, 'max_depth': 5, 'n_estimators': 500}\n",
    "#R2 Value For Gradient Boosting:  0.37964022895022853"
   ]
  },
  {
   "cell_type": "code",
   "execution_count": null,
   "id": "431ab08c",
   "metadata": {},
   "outputs": [],
   "source": [
    "#recherche d'hyperparametres avec valeurs aberrantes\n",
    "#lexecution prend du temps\n",
    "gbm = GradientBoostingRegressor(random_state=45)\n",
    "\n",
    "\n",
    "gb_params = {\n",
    "    'n_estimators': [100, 200, 300, 400, 500],  # Nombre d'estimateurs (arbres) dans l'ensemble.\n",
    "    'learning_rate': [0.01, 0.1, 0.12, 0.13, 0.14, 0.2],  # Taux d'apprentissage.\n",
    "    'max_depth': [3, 4, 5, None],  # Profondeur maximale de chaque arbre (None signifie aucune limite).\n",
    "}\n",
    "\n",
    "# Créez un objet GridSearchCV pour rechercher les meilleurs hyperparamètres.\n",
    "grid_gbm = GridSearchCV(estimator=gbm, \n",
    "                         param_grid=gb_params, \n",
    "                         cv=5,  # Utilisez la validation croisée à 5 plis.\n",
    "                         n_jobs=-1  # Utilisez tous les cœurs de processeur pour accélérer la recherche.\n",
    "                        )\n",
    "\n",
    "grid_gbm.fit(X_train_1, Y_train_1)\n",
    "preds = grid_gbm.predict(X=X_test_1)\n",
    "\n",
    "print (\"Best parameters:\", grid_gbm.best_params_)\n",
    "print (\"R2 Value For Gradient Boosting: \", metrics.r2_score(Y_test_1, preds))\n",
    "#Best parameters: {'learning_rate': 0.2, 'max_depth': 5, 'n_estimators': 100}\n",
    "#R2 Value For Gradient Boosting:  0.4056338670643561"
   ]
  },
  {
   "cell_type": "markdown",
   "id": "cef55cd1",
   "metadata": {},
   "source": [
    "### 3.7. Extra Trees\n",
    "Les \"Extra Trees\" (ou Arbres Extrêmement Aléatoires) sont une variante de l'algorithme d'arbres de décision en apprentissage machine. Contrairement aux arbres de décision classiques, les Extra Trees introduisent un degré supplémentaire d'aléatoire lors de la construction de chaque arbre de décision. Au lieu de rechercher la meilleure division possible pour chaque nœud de l'arbre, les Extra Trees sélectionnent plusieurs seuils de division de manière aléatoire, ce qui les rend plus robustes au surajustement. Cette technique d'ensemble améliore la généralisation du modèle et peut conduire à de meilleures performances, en particulier sur des ensembles de données bruités ou complexes"
   ]
  },
  {
   "cell_type": "code",
   "execution_count": 57,
   "id": "86641c36",
   "metadata": {},
   "outputs": [
    {
     "name": "stdout",
     "output_type": "stream",
     "text": [
      "R2:  0.4605192006598968\n"
     ]
    }
   ],
   "source": [
    "#sans valeurs aberrantes\n",
    "from sklearn.ensemble import ExtraTreesRegressor\n",
    "\n",
    "lModel = ExtraTreesRegressor(random_state=57)\n",
    "lModel.fit(X=X_train, y=Y_train)\n",
    "y_pred = lModel.predict(X= X_test)\n",
    "\n",
    "print(\"R2: \", metrics.r2_score(Y_test, y_pred))\n",
    "#R2:  0.4605192006598968 "
   ]
  },
  {
   "cell_type": "code",
   "execution_count": 58,
   "id": "ad3e28ab",
   "metadata": {},
   "outputs": [
    {
     "name": "stdout",
     "output_type": "stream",
     "text": [
      "R2:  0.45530330386357487\n"
     ]
    }
   ],
   "source": [
    "#avec valeurs aberrantes\n",
    "from sklearn.ensemble import ExtraTreesRegressor\n",
    "\n",
    "lModel = ExtraTreesRegressor(random_state=57)\n",
    "lModel.fit(X=X_train_1, y=Y_train_1)\n",
    "y_pred = lModel.predict(X= X_test_1)\n",
    "\n",
    "print(\"R2: \", metrics.r2_score(Y_test_1, y_pred))\n",
    "#R2:  0.45530330386357487"
   ]
  },
  {
   "cell_type": "code",
   "execution_count": null,
   "id": "6ee0543f",
   "metadata": {},
   "outputs": [],
   "source": [
    "#avec validation croisee sans valeurs aberrantes\n",
    "etModel = ExtraTreesRegressor(random_state=57)\n",
    "scores = cross_val_score(etModel, X_train, Y_train, cv = 10)\n",
    "print(\"Cross-validated scores:\", scores.mean())\n",
    "#Cross-validated scores: 0.5052310701562368"
   ]
  },
  {
   "cell_type": "code",
   "execution_count": null,
   "id": "42cc1289",
   "metadata": {},
   "outputs": [],
   "source": [
    "#avec validation croisee avec valeurs aberrantes\n",
    "\n",
    "etModel = ExtraTreesRegressor(random_state=57)\n",
    "scores = cross_val_score(etModel, X_train_1, Y_train_1, cv = 10)\n",
    "print(\"Cross-validated scores:\", scores.mean())\n",
    "#Cross-validated scores: 0.5052310701562368"
   ]
  },
  {
   "cell_type": "code",
   "execution_count": null,
   "id": "4d9b3b1f",
   "metadata": {},
   "outputs": [],
   "source": [
    "#recherche dhyperparametre sans valeurs aberrantes\n",
    "#lexecution prend du temps\n",
    "from sklearn.ensemble import ExtraTreesRegressor\n",
    "from sklearn.model_selection import GridSearchCV\n",
    "from sklearn.metrics import make_scorer, r2_score\n",
    "\n",
    "# Créez le modèle Extra Trees\n",
    "et_model = ExtraTreesRegressor(random_state=57)\n",
    "\n",
    "# Définissez la grille d'hyperparamètres à rechercher\n",
    "et_params = {\n",
    "    'n_estimators': [100, 300, 500, 600],\n",
    "    'max_depth': [None, 20, 22, 24, 28],\n",
    "    'min_samples_split': [2, 5, 10],\n",
    "    'min_samples_leaf': [1, 2, 4]\n",
    "}\n",
    "\n",
    "# Créez un objet GridSearchCV en utilisant la métrique R2\n",
    "grid_et = GridSearchCV(estimator=et_model, \n",
    "                      param_grid=et_params, \n",
    "                      cv=5, \n",
    "                      scoring=make_scorer(r2_score),  # Utilisez la métrique R2\n",
    "                      n_jobs=-1)\n",
    "\n",
    "# Ajustez la recherche d'hyperparamètres sur les données d'entraînement\n",
    "grid_et.fit(X_train, Y_train)\n",
    "\n",
    "# Obtenez les meilleurs hyperparamètres trouvés\n",
    "best_params = grid_et.best_params_\n",
    "\n",
    "# Utilisez le meilleur modèle pour faire des prédictions sur les données de test\n",
    "et_preds = grid_et.predict(X_test)\n",
    "\n",
    "# Affichez les meilleurs hyperparamètres et les performances du modèle\n",
    "print(\"Best parameters:\", best_params)\n",
    "print(\"R2 Value For ExtraTreesRegressor: \", r2_score(Y_test, et_preds))\n",
    "\n",
    "#Best parameters: {'max_depth': 20, 'min_samples_leaf': 1, 'min_samples_split': 2, 'n_estimators': 500}\n",
    "#R2 Value For ExtraTreesRegressor:  0.4585206544944955\n"
   ]
  },
  {
   "cell_type": "code",
   "execution_count": null,
   "id": "11822607",
   "metadata": {},
   "outputs": [],
   "source": [
    "#recherche dhyperparametres avec valeurs aberrantes\n",
    "from sklearn.ensemble import ExtraTreesRegressor\n",
    "from sklearn.model_selection import GridSearchCV\n",
    "from sklearn.metrics import make_scorer, r2_score\n",
    "\n",
    "# Créez le modèle Extra Trees\n",
    "et_model = ExtraTreesRegressor(random_state=57)\n",
    "\n",
    "# Définissez la grille d'hyperparamètres à rechercher\n",
    "et_params = {\n",
    "    'n_estimators': [100, 300, 500, 600],\n",
    "    'max_depth': [None, 20, 22, 24, 28],\n",
    "    'min_samples_split': [2, 5, 10],\n",
    "    'min_samples_leaf': [1, 2, 4]\n",
    "}\n",
    "\n",
    "# Créez un objet GridSearchCV en utilisant la métrique R2\n",
    "grid_et = GridSearchCV(estimator=et_model, \n",
    "                      param_grid=et_params, \n",
    "                      cv=5, \n",
    "                      scoring=make_scorer(r2_score),  # Utilisez la métrique R2\n",
    "                      n_jobs=-1)\n",
    "\n",
    "# Ajustez la recherche d'hyperparamètres sur les données d'entraînement\n",
    "grid_et.fit(X_train_1, Y_train_1)\n",
    "\n",
    "# Obtenez les meilleurs hyperparamètres trouvés\n",
    "best_params = grid_et.best_params_\n",
    "\n",
    "# Utilisez le meilleur modèle pour faire des prédictions sur les données de test\n",
    "et_preds = grid_et.predict(X_test_1)\n",
    "\n",
    "# Affichez les meilleurs hyperparamètres et les performances du modèle\n",
    "print(\"Best parameters:\", best_params)\n",
    "print(\"R2 Value For ExtraTreesRegressor: \", r2_score(Y_test_1, et_preds))\n",
    "#Best parameters: {'max_depth': None, 'min_samples_leaf': 1, 'min_samples_split': 2, 'n_estimators': 500}\n",
    "#R2 Value For ExtraTreesRegressor:  0.46271446459787824"
   ]
  },
  {
   "cell_type": "markdown",
   "id": "25ff6b84",
   "metadata": {},
   "source": [
    "### 3.8. KNN\n",
    "Le KNN est un modèle simple mais efficace pour la régression. Il prédit la valeur en fonction de la moyenne (ou médiane) des k échantillons les plus proches dans l'espace des caractéristiques."
   ]
  },
  {
   "cell_type": "code",
   "execution_count": 59,
   "id": "ec708cd5",
   "metadata": {},
   "outputs": [
    {
     "name": "stdout",
     "output_type": "stream",
     "text": [
      "Best parameters: {'n_neighbors': 21, 'p': 1, 'weights': 'distance'}\n",
      "R2 Value For K-Nearest Neighbors:  0.42536921225592006\n"
     ]
    }
   ],
   "source": [
    "#sans valeurs aberrantes\n",
    "from sklearn.neighbors import KNeighborsRegressor\n",
    "from sklearn.model_selection import GridSearchCV\n",
    "\n",
    "# Créez un modèle KNN de régression\n",
    "knn_model = KNeighborsRegressor()\n",
    "\n",
    "# Définissez la grille d'hyperparamètres à rechercher\n",
    "param_grid = {\n",
    "    'n_neighbors': [2, 3, 4, 5, 6, 7,  8, 9, 10, 11, 12, 13, 14, 15, 16, 17, 18, 19, 20, 21],  # Nombre de voisins (k)\n",
    "    'weights': ['uniform', 'distance'],  # Méthode de pondération des voisins\n",
    "    'p': [1, 2]  # Paramètre de distance (1 pour la distance de Manhattan, 2 pour la distance euclidienne)\n",
    "}\n",
    "\n",
    "# Créez un objet GridSearchCV\n",
    "grid_search = GridSearchCV(estimator=knn_model, param_grid=param_grid, cv=5, scoring='r2', n_jobs=-1)\n",
    "\n",
    "\n",
    "scaler = StandardScaler()\n",
    "X_train_scaled = scaler.fit_transform(X_train)\n",
    "X_test_scaled = scaler.transform(X_test)\n",
    "grid_search.fit(X_train_scaled, Y_train)\n",
    "\n",
    "# Obtenez les meilleurs hyperparamètres trouvés\n",
    "best_params = grid_search.best_params_\n",
    "\n",
    "# Utilisez le meilleur modèle pour faire des prédictions sur les données de test\n",
    "knn_preds = grid_search.predict(X_test_scaled)\n",
    "\n",
    "# Affichez les meilleurs hyperparamètres et les performances du modèle\n",
    "print(\"Best parameters:\", best_params)\n",
    "print(\"R2 Value For K-Nearest Neighbors: \", metrics.r2_score(Y_test, knn_preds))\n",
    "#Best parameters: {'n_neighbors': 21, 'p': 1, 'weights': 'distance'}\n",
    "#R2 Value For K-Nearest Neighbors:  0.42536921225592006"
   ]
  },
  {
   "cell_type": "code",
   "execution_count": 60,
   "id": "00469db8",
   "metadata": {},
   "outputs": [
    {
     "name": "stdout",
     "output_type": "stream",
     "text": [
      "Best parameters: {'n_neighbors': 19, 'p': 1, 'weights': 'distance'}\n",
      "R2 Value For K-Nearest Neighbors:  0.3864574666384475\n"
     ]
    }
   ],
   "source": [
    "#avec valeurs aberrantes\n",
    "from sklearn.neighbors import KNeighborsRegressor\n",
    "from sklearn.model_selection import GridSearchCV\n",
    "\n",
    "# Créez un modèle KNN de régression\n",
    "knn_model = KNeighborsRegressor()\n",
    "\n",
    "# Définissez la grille d'hyperparamètres à rechercher\n",
    "param_grid = {\n",
    "    'n_neighbors': [2, 3, 4, 5, 6, 7,  8, 9, 10, 11, 12, 13, 14, 15, 16, 17, 18, 19, 20, 21],  # Nombre de voisins (k)\n",
    "    'weights': ['uniform', 'distance'],  # Méthode de pondération des voisins\n",
    "    'p': [1, 2]  # Paramètre de distance (1 pour la distance de Manhattan, 2 pour la distance euclidienne)\n",
    "}\n",
    "\n",
    "# Créez un objet GridSearchCV\n",
    "grid_search = GridSearchCV(estimator=knn_model, param_grid=param_grid, cv=5, scoring='r2', n_jobs=-1)\n",
    "\n",
    "\n",
    "scaler = StandardScaler()\n",
    "X_train_scaled = scaler.fit_transform(X_train_1)\n",
    "X_test_scaled = scaler.transform(X_test_1)\n",
    "grid_search.fit(X_train_scaled, Y_train_1)\n",
    "\n",
    "# Obtenez les meilleurs hyperparamètres trouvés\n",
    "best_params = grid_search.best_params_\n",
    "\n",
    "# Utilisez le meilleur modèle pour faire des prédictions sur les données de test\n",
    "knn_preds = grid_search.predict(X_test_scaled)\n",
    "\n",
    "# Affichez les meilleurs hyperparamètres et les performances du modèle\n",
    "print(\"Best parameters:\", best_params)\n",
    "print(\"R2 Value For K-Nearest Neighbors: \", metrics.r2_score(Y_test_1, knn_preds))\n",
    "#Best parameters: {'n_neighbors': 19, 'p': 1, 'weights': 'distance'}\n",
    "#R2 Value For K-Nearest Neighbors:  0.3864574666384475"
   ]
  },
  {
   "cell_type": "markdown",
   "id": "b86f187d",
   "metadata": {},
   "source": [
    "### 3.9. AdaBoost\n",
    "AdaBoost est un puissant algorithme d'apprentissage automatique ensembliste qui combine plusieurs modèles faibles pour former un modèle fort, en mettant l'accent sur les exemples mal classés à chaque itération, ce qui en fait un outil précieux pour la classification et la régression."
   ]
  },
  {
   "cell_type": "code",
   "execution_count": 61,
   "id": "e532823b",
   "metadata": {},
   "outputs": [
    {
     "name": "stdout",
     "output_type": "stream",
     "text": [
      "R2:  0.26554891529609137\n"
     ]
    }
   ],
   "source": [
    "#sans valeurs aberrantes\n",
    "from sklearn.ensemble import AdaBoostRegressor\n",
    "from sklearn import metrics\n",
    "\n",
    "lModel = AdaBoostRegressor(random_state=72)\n",
    "lModel.fit(X_train, Y_train)\n",
    "y_pred = lModel.predict(X_test)\n",
    "r2 = metrics.r2_score(Y_test, y_pred)\n",
    "print(\"R2: \", r2)\n",
    "#R2:  0.26554891529609137"
   ]
  },
  {
   "cell_type": "code",
   "execution_count": 62,
   "id": "ead7b347",
   "metadata": {},
   "outputs": [
    {
     "name": "stdout",
     "output_type": "stream",
     "text": [
      "R2:  0.2741534938601258\n"
     ]
    }
   ],
   "source": [
    "#avec valeurs aberrantes\n",
    "from sklearn.ensemble import AdaBoostRegressor\n",
    "from sklearn import metrics\n",
    "\n",
    "lModel = AdaBoostRegressor(random_state=72)\n",
    "lModel.fit(X_train_1, Y_train_1)\n",
    "y_pred = lModel.predict(X_test_1)\n",
    "r2 = metrics.r2_score(Y_test_1, y_pred)\n",
    "print(\"R2: \", r2)\n",
    "#R2:  0.2741534938601258"
   ]
  },
  {
   "cell_type": "code",
   "execution_count": 63,
   "id": "b6b60496",
   "metadata": {},
   "outputs": [
    {
     "name": "stdout",
     "output_type": "stream",
     "text": [
      "Cross-validated scores: 0.32470012508345053\n"
     ]
    }
   ],
   "source": [
    "#avec validation croisee sans valeurs aberrantes\n",
    "\n",
    "abModel = AdaBoostRegressor(random_state=72)\n",
    "scores = cross_val_score(abModel, X_train, Y_train, cv = 10)\n",
    "print(\"Cross-validated scores:\", scores.mean())\n",
    "#Cross-validated scores: 0.32470012508345053"
   ]
  },
  {
   "cell_type": "code",
   "execution_count": 64,
   "id": "2578e590",
   "metadata": {},
   "outputs": [
    {
     "name": "stdout",
     "output_type": "stream",
     "text": [
      "Cross-validated scores: 0.29682996728874805\n"
     ]
    }
   ],
   "source": [
    "#avec validation croisee avec valeurs aberrantes\n",
    "\n",
    "abModel = AdaBoostRegressor(random_state=72)\n",
    "scores = cross_val_score(abModel, X_train_1, Y_train_1, cv = 10)\n",
    "print(\"Cross-validated scores:\", scores.mean())\n",
    "#Cross-validated scores: 0.29682996728874805"
   ]
  },
  {
   "cell_type": "code",
   "execution_count": 77,
   "id": "086e2f1b",
   "metadata": {},
   "outputs": [
    {
     "name": "stdout",
     "output_type": "stream",
     "text": [
      "Meilleurs hyperparamètres: {'learning_rate': 0.1, 'n_estimators': 200}\n",
      "R2 avec meilleurs hyperparamètres:  0.2798144971717339\n"
     ]
    }
   ],
   "source": [
    "#recherche dhyperparametres sans valeurs aberrantes\n",
    "from sklearn.ensemble import AdaBoostRegressor\n",
    "from sklearn.model_selection import GridSearchCV\n",
    "\n",
    "abModel = AdaBoostRegressor(random_state=72)\n",
    "\n",
    "param_grid = {\n",
    "    'n_estimators': [50, 100, 200],\n",
    "    'learning_rate': [0.01, 0.1, 1.0],\n",
    "}\n",
    "\n",
    "grid_search = GridSearchCV(abModel, param_grid, cv=10, scoring='r2')\n",
    "\n",
    "grid_search.fit(X_train, Y_train)\n",
    "\n",
    "best_params = grid_search.best_params_\n",
    "print(\"Meilleurs hyperparamètres:\", best_params)\n",
    "\n",
    "best_abModel = grid_search.best_estimator_\n",
    "y_pred = best_abModel.predict(X_test)\n",
    "r2 = metrics.r2_score(Y_test, y_pred)\n",
    "print(\"R2 avec meilleurs hyperparamètres: \", r2)\n",
    "#Meilleurs hyperparamètres: {'learning_rate': 0.1, 'n_estimators': 200}\n",
    "#R2 avec meilleurs hyperparamètres:  0.2798144971717339"
   ]
  },
  {
   "cell_type": "code",
   "execution_count": 50,
   "id": "6ff39e81",
   "metadata": {},
   "outputs": [
    {
     "name": "stdout",
     "output_type": "stream",
     "text": [
      "Meilleurs hyperparamètres: {'learning_rate': 0.1, 'n_estimators': 200}\n",
      "R2 avec meilleurs hyperparamètres:  0.2969197337933356\n"
     ]
    }
   ],
   "source": [
    "#recherche dhyperparametres avec valeurs aberrantes\n",
    "from sklearn.ensemble import AdaBoostRegressor\n",
    "from sklearn.model_selection import GridSearchCV\n",
    "\n",
    "abModel = AdaBoostRegressor(random_state=72)\n",
    "\n",
    "param_grid = {\n",
    "    'n_estimators': [50, 100, 200],\n",
    "    'learning_rate': [0.01, 0.1, 1.0],\n",
    "}\n",
    "\n",
    "grid_search = GridSearchCV(abModel, param_grid, cv=10, scoring='r2')\n",
    "\n",
    "grid_search.fit(X_train_1, Y_train_1)\n",
    "\n",
    "best_params = grid_search.best_params_\n",
    "print(\"Meilleurs hyperparamètres:\", best_params)\n",
    "\n",
    "best_abModel = grid_search.best_estimator_\n",
    "y_pred = best_abModel.predict(X_test_1)\n",
    "r2 = metrics.r2_score(Y_test_1, y_pred)\n",
    "print(\"R2 avec meilleurs hyperparamètres: \", r2)\n",
    "#Meilleurs hyperparamètres: {'learning_rate': 0.1, 'n_estimators': 200}\n",
    "#R2 avec meilleurs hyperparamètres:  0.2969197337933356"
   ]
  },
  {
   "cell_type": "markdown",
   "id": "7df859a4",
   "metadata": {},
   "source": [
    "## IV. Prédiction"
   ]
  },
  {
   "cell_type": "code",
   "execution_count": 65,
   "id": "59533635",
   "metadata": {},
   "outputs": [],
   "source": [
    "df_test =  pd.read_csv(r\"C:\\Users\\Pc\\Desktop\\projet prediction de la qualite du vin\\wine_test.csv\")"
   ]
  },
  {
   "cell_type": "code",
   "execution_count": 66,
   "id": "9edf595b",
   "metadata": {},
   "outputs": [],
   "source": [
    "df_test_1 = df_test.drop('wine_ID', axis=1)"
   ]
  },
  {
   "cell_type": "markdown",
   "id": "b53917ce",
   "metadata": {},
   "source": [
    "### 4.1. Extra Trees"
   ]
  },
  {
   "cell_type": "code",
   "execution_count": 102,
   "id": "e0bbd066",
   "metadata": {},
   "outputs": [],
   "source": [
    "#entrainement sur X_train et Y_train et sans valeurs aberrantes\n",
    "best_model = ExtraTreesRegressor(random_state=57, max_depth= 20, min_samples_leaf= 1, min_samples_split= 2, n_estimators=500 )\n",
    "best_model.fit(X_train, Y_train)\n",
    "predictions = best_model.predict(df_test_1)\n",
    "res=pd.DataFrame(predictions)\n",
    "res.insert(loc=0, column='wine_ID', value=df_test['wine_ID'])\n",
    "res.columns=['wine_ID','target']\n",
    "res.to_csv(\"resultat_soumission_vin_extra_trees.csv\", index=False)"
   ]
  },
  {
   "cell_type": "markdown",
   "id": "d445f9e5",
   "metadata": {},
   "source": [
    "Après avoir soumis notre modèle sur Kaggle, nous avons obtenu un score de 0.49959"
   ]
  },
  {
   "cell_type": "code",
   "execution_count": 105,
   "id": "a65c348b",
   "metadata": {},
   "outputs": [],
   "source": [
    "#entrainement sur tous les donnees df et sans valeurs aberrantes\n",
    "best_model = ExtraTreesRegressor(random_state=57, max_depth= 20, min_samples_leaf= 1, min_samples_split= 2, n_estimators=500 )\n",
    "best_model.fit(X, Y)\n",
    "predictions = best_model.predict(df_test_1)\n",
    "res=pd.DataFrame(predictions)\n",
    "res.insert(loc=0, column='wine_ID', value=df_test['wine_ID'])\n",
    "res.columns=['wine_ID','target']\n",
    "res.to_csv(\"resultat_soumission_vin_extra_trees_X_Y.csv\", index=False)"
   ]
  },
  {
   "cell_type": "markdown",
   "id": "a9870107",
   "metadata": {},
   "source": [
    "Après avoir soumis notre modèle sur Kaggle, nous avons obtenu un score de 0.53191"
   ]
  },
  {
   "cell_type": "code",
   "execution_count": 109,
   "id": "e7b4af08",
   "metadata": {},
   "outputs": [],
   "source": [
    "#entrainement sur tous les donnees df et avec valeurs aberrantes\n",
    "best_model = ExtraTreesRegressor(random_state=57, max_depth= None, min_samples_leaf= 1, min_samples_split=2, n_estimators=500)\n",
    "best_model.fit(X_1, Y_1)\n",
    "predictions = best_model.predict(df_test_1)\n",
    "res=pd.DataFrame(predictions)\n",
    "res.insert(loc=0, column='wine_ID', value=df_test['wine_ID'])\n",
    "res.columns=['wine_ID','target']\n",
    "res.to_csv(\"resultat_soumission_vin_extra_trees_avec_valeurs_aberrantes.csv\", index=False)"
   ]
  },
  {
   "cell_type": "markdown",
   "id": "291f308b",
   "metadata": {},
   "source": [
    "Après avoir soumis notre modèle sur Kaggle, nous avons obtenu un score de 0.53216"
   ]
  },
  {
   "cell_type": "markdown",
   "id": "951c2616",
   "metadata": {},
   "source": [
    "### 4.2. Random Forest"
   ]
  },
  {
   "cell_type": "code",
   "execution_count": 104,
   "id": "7a921c0b",
   "metadata": {},
   "outputs": [],
   "source": [
    "#entrainement sur X_train et Y_train et sans valeurs aberrantes\n",
    "best_model =RandomForestRegressor(random_state=45,max_depth= 25, min_samples_leaf= 1, min_samples_split= 2, n_estimators= 150)\n",
    "best_model.fit(X_train, Y_train)\n",
    "predictions = best_model.predict(df_test_1)\n",
    "res=pd.DataFrame(predictions)\n",
    "res.insert(loc=0, column='wine_ID', value=df_test['wine_ID'])\n",
    "res.columns=['wine_ID','target']\n",
    "res.to_csv(\"resultat_soumission_vin_random_forest_regressor.csv\", index=False)"
   ]
  },
  {
   "cell_type": "markdown",
   "id": "50fdcca7",
   "metadata": {},
   "source": [
    "Après avoir soumis notre modèle sur Kaggle, nous avons obtenu un score de 0.47803"
   ]
  },
  {
   "cell_type": "code",
   "execution_count": 106,
   "id": "8cdfcac6",
   "metadata": {},
   "outputs": [],
   "source": [
    "#entrainement sur tous les donnees df et sans valeurs aberrantes\n",
    "best_model =RandomForestRegressor(random_state=45,max_depth= 25, min_samples_leaf= 1, min_samples_split= 2, n_estimators= 150)\n",
    "best_model.fit(X, Y)\n",
    "predictions = best_model.predict(df_test_1)\n",
    "res=pd.DataFrame(predictions)\n",
    "res.insert(loc=0, column='wine_ID', value=df_test['wine_ID'])\n",
    "res.columns=['wine_ID','target']\n",
    "res.to_csv(\"resultat_soumission_vin_random_forest_regressor_X_Y.csv\", index=False)"
   ]
  },
  {
   "cell_type": "markdown",
   "id": "7970af73",
   "metadata": {},
   "source": [
    "Après avoir soumis notre modèle sur Kaggle, nous avons obtenu un score de 0.50574"
   ]
  },
  {
   "cell_type": "code",
   "execution_count": 105,
   "id": "bb73e1a2",
   "metadata": {},
   "outputs": [],
   "source": [
    "#entrainement sur tous les donnees df et avec valeurs aberrantes\n",
    "best_model =RandomForestRegressor(random_state=41,max_depth= 22, min_samples_leaf= 1, min_samples_split=2, n_estimators= 200)\n",
    "best_model.fit(X_1, Y_1)\n",
    "predictions = best_model.predict(df_test_1)\n",
    "res=pd.DataFrame(predictions)\n",
    "res.insert(loc=0, column='wine_ID', value=df_test['wine_ID'])\n",
    "res.columns=['wine_ID','target']\n",
    "res.to_csv(\"resultat_soumission_vin_random_forest_regressor_avec_valeurs_aberrantes.csv\", index=False)"
   ]
  },
  {
   "cell_type": "markdown",
   "id": "b9661914",
   "metadata": {},
   "source": [
    "Après avoir soumis notre modèle sur Kaggle, nous avons obtenu un score de 0.50971"
   ]
  },
  {
   "cell_type": "markdown",
   "id": "bc6d7281",
   "metadata": {},
   "source": [
    "### 4.3. Ensemble learning: ExtraTrees et Random Forest"
   ]
  },
  {
   "cell_type": "code",
   "execution_count": 77,
   "id": "23c9ecc5",
   "metadata": {},
   "outputs": [],
   "source": [
    "#entrainement sur tous les donnees df et sans valeurs aberrantes\n",
    "best_model_1 = ExtraTreesRegressor(random_state=57, max_depth= 20, min_samples_leaf= 1, min_samples_split= 2, n_estimators=500 )\n",
    "best_model_1.fit(X, Y)\n",
    "predictions_1 = best_model_1.predict(df_test_1)\n",
    "best_model_2 =RandomForestRegressor(random_state=45,max_depth= 25, min_samples_leaf= 1, min_samples_split= 2, n_estimators= 150)\n",
    "best_model_2.fit(X, Y)\n",
    "predictions_2 = best_model_2.predict(df_test_1)\n",
    "predictions= ( predictions_1 + predictions_2 )/ 2\n",
    "res=pd.DataFrame(predictions)\n",
    "res.insert(loc=0, column='wine_ID', value=df_test['wine_ID'])\n",
    "res.columns=['wine_ID','target']\n",
    "res.to_csv(\"resultat_soumission_vin_ens_learning_0.csv\", index=False)"
   ]
  },
  {
   "cell_type": "markdown",
   "id": "cb5946f3",
   "metadata": {},
   "source": [
    "Après avoir soumis notre modèle sur Kaggle, nous avons obtenu un score de 0.52579 qui est mieu que RandomForest mais moin bien que ExtraTrees."
   ]
  },
  {
   "cell_type": "code",
   "execution_count": 81,
   "id": "f76a05f3",
   "metadata": {},
   "outputs": [],
   "source": [
    "#entrainement sur tous les donnees df et avec valeurs aberrantes\n",
    "# le premier ensemble learning\n",
    "best_model = ExtraTreesRegressor(random_state=57, max_depth= None, min_samples_leaf= 1, min_samples_split=2, n_estimators=500)\n",
    "best_model.fit(X_1, Y_1)\n",
    "predictions_1 = best_model.predict(df_test_1)\n",
    "best_model_2 = RandomForestRegressor(random_state=41,max_depth= 22, min_samples_leaf= 1, min_samples_split=2, n_estimators= 200)\n",
    "best_model_2.fit(X_1, Y_1)\n",
    "predictions_2 = best_model_2.predict(df_test_1)\n",
    "predictions= 0.75 * ( predictions_1 )+ 0.25 * (predictions_2) \n",
    "res=pd.DataFrame(predictions)\n",
    "res.insert(loc=0, column='wine_ID', value=df_test['wine_ID'])\n",
    "res.columns=['wine_ID','target']\n",
    "res.to_csv(\"resultat_soumission_vin_ens_learning_1.csv\", index=False)"
   ]
  },
  {
   "cell_type": "markdown",
   "id": "a401599f",
   "metadata": {},
   "source": [
    "Après avoir soumis notre modèle sur Kaggle, nous avons obtenu un score de 0.53306 qui est mieu que celle de \n",
    "RandomForest et ExtraTrees."
   ]
  },
  {
   "cell_type": "code",
   "execution_count": 82,
   "id": "c387029b",
   "metadata": {},
   "outputs": [],
   "source": [
    "#entrainement sur tous les donnees df et avec valeurs aberrantes\n",
    "#le second ensemble learning\n",
    "best_model = ExtraTreesRegressor(random_state=57, max_depth= None, min_samples_leaf= 1, min_samples_split=2, n_estimators=500)\n",
    "best_model.fit(X_1, Y_1)\n",
    "predictions_1 = best_model.predict(df_test_1)\n",
    "best_model_2 = RandomForestRegressor(random_state=41,max_depth= 22, min_samples_leaf= 1, min_samples_split=2, n_estimators= 200)\n",
    "best_model_2.fit(X_1, Y_1)\n",
    "predictions_2 = best_model_2.predict(df_test_1)\n",
    "predictions= 0.85 * ( predictions_1 )+ 0.15 * (predictions_2) \n",
    "res=pd.DataFrame(predictions)\n",
    "res.insert(loc=0, column='wine_ID', value=df_test['wine_ID'])\n",
    "res.columns=['wine_ID','target']\n",
    "res.to_csv(\"resultat_soumission_vin_ens_learning_2.csv\", index=False)"
   ]
  },
  {
   "cell_type": "markdown",
   "id": "8e1a1886",
   "metadata": {},
   "source": [
    "On a attribué plus de poids à Extra Trees. Après avoir soumis notre modèle sur Kaggle, nous avons obtenu un score de 0.53322 qui est mieu que celle du 1er ensemble learning."
   ]
  },
  {
   "cell_type": "code",
   "execution_count": 83,
   "id": "d8268080",
   "metadata": {},
   "outputs": [],
   "source": [
    "#entrainement sur tous les donnees df et avec valeurs aberrantes\n",
    "best_model = ExtraTreesRegressor(random_state=57, max_depth= None, min_samples_leaf= 1, min_samples_split=2, n_estimators=500)\n",
    "best_model.fit(X_1, Y_1)\n",
    "predictions_1 = best_model.predict(df_test_1)\n",
    "best_model_2 = RandomForestRegressor(random_state=41,max_depth= 22, min_samples_leaf= 1, min_samples_split=2, n_estimators= 200)\n",
    "best_model_2.fit(X_1, Y_1)\n",
    "predictions_2 = best_model_2.predict(df_test_1)\n",
    "predictions= 0.9 * ( predictions_1 )+ 0.1 * (predictions_2) \n",
    "res=pd.DataFrame(predictions)\n",
    "res.insert(loc=0, column='wine_ID', value=df_test['wine_ID'])\n",
    "res.columns=['wine_ID','target']\n",
    "res.to_csv(\"resultat_soumission_vin_ens_learning_3.csv\", index=False)"
   ]
  },
  {
   "cell_type": "markdown",
   "id": "38dad9d4",
   "metadata": {},
   "source": [
    "Après avoir soumis notre modèle sur Kaggle, nous avons obtenu un score de 0.53304 qui est moin bien que celles du premier et second ensemble learning."
   ]
  },
  {
   "cell_type": "code",
   "execution_count": 85,
   "id": "6b88569f",
   "metadata": {},
   "outputs": [],
   "source": [
    "#entrainement sur tous les donnees df et avec valeurs aberrantes\n",
    "best_model = ExtraTreesRegressor(random_state=57, max_depth= None, min_samples_leaf= 1, min_samples_split=2, n_estimators=500)\n",
    "best_model.fit(X_1, Y_1)\n",
    "predictions_1 = best_model.predict(df_test_1)\n",
    "best_model_2 = RandomForestRegressor(random_state=41,max_depth= 22, min_samples_leaf= 1, min_samples_split=2, n_estimators= 200)\n",
    "best_model_2.fit(X_1, Y_1)\n",
    "predictions_2 = best_model_2.predict(df_test_1)\n",
    "predictions= 0.80 * ( predictions_1 )+ 0.2 * (predictions_2) \n",
    "res=pd.DataFrame(predictions)\n",
    "res.insert(loc=0, column='wine_ID', value=df_test['wine_ID'])\n",
    "res.columns=['wine_ID','target']\n",
    "res.to_csv(\"resultat_soumission_vin_ens_learning_4.csv\", index=False)"
   ]
  },
  {
   "cell_type": "markdown",
   "id": "a87f7512",
   "metadata": {},
   "source": [
    "Après avoir soumis notre modèle sur Kaggle, nous avons obtenu un score de 0.53322 (identique à celle de lensemble learning 2)"
   ]
  },
  {
   "cell_type": "markdown",
   "id": "5e3410f5",
   "metadata": {},
   "source": [
    "### 4.4. Ensemble learning: ExtraTrees, Random Forest et KNN"
   ]
  },
  {
   "cell_type": "code",
   "execution_count": 89,
   "id": "c51e10cf",
   "metadata": {},
   "outputs": [],
   "source": [
    "#entrainement sur tous les donnees df et avec valeurs aberrantes\n",
    "best_model = ExtraTreesRegressor(random_state=57, max_depth= None, min_samples_leaf= 1, min_samples_split=2, n_estimators=500)\n",
    "best_model.fit(X_1, Y_1)\n",
    "predictions_1 = best_model.predict(df_test_1)\n",
    "best_model_2 = RandomForestRegressor(random_state=41,max_depth= 22, min_samples_leaf= 1, min_samples_split=2, n_estimators= 200)\n",
    "best_model_2.fit(X_1, Y_1)\n",
    "predictions_2 = best_model_2.predict(df_test_1)\n",
    "best_model_3 = KNeighborsRegressor(n_neighbors = 21, p =1, weights = 'distance')\n",
    "best_model_3.fit(X_1, Y_1)\n",
    "predictions_3 = best_model_3.predict(df_test_1)\n",
    "predictions= 0.75 * ( predictions_1 )+ 0.15 * (predictions_2) + 0.10*(predictions_3)\n",
    "res=pd.DataFrame(predictions)\n",
    "res.insert(loc=0, column='wine_ID', value=df_test['wine_ID'])\n",
    "res.columns=['wine_ID','target']\n",
    "res.to_csv(\"resultat_soumission_vin_ens_learning_5.csv\", index=False)"
   ]
  },
  {
   "cell_type": "markdown",
   "id": "2ca276b9",
   "metadata": {},
   "source": [
    "Après avoir soumis notre modèle sur Kaggle, nous avons obtenu un score de 0.53434 qui est meilleur que tout ceux qui précèdent."
   ]
  },
  {
   "cell_type": "code",
   "execution_count": 90,
   "id": "6f68323a",
   "metadata": {},
   "outputs": [],
   "source": [
    "#entrainement sur tous les donnees df et avec valeurs aberrantes\n",
    "best_model = ExtraTreesRegressor(random_state=57, max_depth= None, min_samples_leaf= 1, min_samples_split=2, n_estimators=500)\n",
    "best_model.fit(X_1, Y_1)\n",
    "predictions_1 = best_model.predict(df_test_1)\n",
    "best_model_2 = RandomForestRegressor(random_state=41,max_depth= 22, min_samples_leaf= 1, min_samples_split=2, n_estimators= 200)\n",
    "best_model_2.fit(X_1, Y_1)\n",
    "predictions_2 = best_model_2.predict(df_test_1)\n",
    "best_model_3 = KNeighborsRegressor(n_neighbors = 21, p =1, weights = 'distance')\n",
    "best_model_3.fit(X_1, Y_1)\n",
    "predictions_3 = best_model_3.predict(df_test_1)\n",
    "predictions= 0.8 * ( predictions_1 )+ 0.1 * (predictions_2) + 0.10*(predictions_3)\n",
    "res=pd.DataFrame(predictions)\n",
    "res.insert(loc=0, column='wine_ID', value=df_test['wine_ID'])\n",
    "res.columns=['wine_ID','target']\n",
    "res.to_csv(\"resultat_soumission_vin_ens_learning_6.csv\", index=False)"
   ]
  },
  {
   "cell_type": "markdown",
   "id": "99d2d0d8",
   "metadata": {},
   "source": [
    "Après avoir soumis notre modèle sur Kaggle, nous avons obtenu un score de 0.53428 qui est mieu que les ensembles learning faisant intervenir seulement les deux modèles: ExtraTrees et RandomForest mais pas mieu que l'ensemble learning 5."
   ]
  },
  {
   "cell_type": "code",
   "execution_count": 92,
   "id": "529cafff",
   "metadata": {},
   "outputs": [],
   "source": [
    "#entrainement sur tous les donnees df et avec valeurs aberrantes\n",
    "best_model = ExtraTreesRegressor(random_state=57, max_depth= None, min_samples_leaf= 1, min_samples_split=2, n_estimators=500)\n",
    "best_model.fit(X_1, Y_1)\n",
    "predictions_1 = best_model.predict(df_test_1)\n",
    "best_model_2 = RandomForestRegressor(random_state=41,max_depth= 22, min_samples_leaf= 1, min_samples_split=2, n_estimators= 200)\n",
    "best_model_2.fit(X_1, Y_1)\n",
    "predictions_2 = best_model_2.predict(df_test_1)\n",
    "best_model_3 = KNeighborsRegressor(n_neighbors = 21, p =1, weights = 'distance')\n",
    "best_model_3.fit(X_1, Y_1)\n",
    "predictions_3 = best_model_3.predict(df_test_1)\n",
    "predictions= 0.75 * ( predictions_1 )+ 0.1 * (predictions_2) + 0.15*(predictions_3)\n",
    "res=pd.DataFrame(predictions)\n",
    "res.insert(loc=0, column='wine_ID', value=df_test['wine_ID'])\n",
    "res.columns=['wine_ID','target']\n",
    "res.to_csv(\"resultat_soumission_vin_ens_learning_7.csv\", index=False)"
   ]
  },
  {
   "cell_type": "markdown",
   "id": "e8c161d0",
   "metadata": {},
   "source": [
    "Après avoir soumis notre modèle sur Kaggle, nous avons obtenu un score de 0.53356 qui est mieu que les ensembles learning faisant intervenir seulement les deux modèles: ExtraTrees et RandomForest mais pas meilleur que les ensembles learning 5 et 6."
   ]
  },
  {
   "cell_type": "code",
   "execution_count": 94,
   "id": "0d8702eb",
   "metadata": {},
   "outputs": [],
   "source": [
    "#entrainement sur tous les donnees df et avec valeurs aberrantes\n",
    "best_model = ExtraTreesRegressor(random_state=57, max_depth= None, min_samples_leaf= 1, min_samples_split=2, n_estimators=500)\n",
    "best_model.fit(X_1, Y_1)\n",
    "predictions_1 = best_model.predict(df_test_1)\n",
    "best_model_2 = RandomForestRegressor(random_state=41,max_depth= 22, min_samples_leaf= 1, min_samples_split=2, n_estimators= 200)\n",
    "best_model_2.fit(X_1, Y_1)\n",
    "predictions_2 = best_model_2.predict(df_test_1)\n",
    "best_model_3 = KNeighborsRegressor(n_neighbors = 21, p =1, weights = 'distance')\n",
    "best_model_3.fit(X_1, Y_1)\n",
    "predictions_3 = best_model_3.predict(df_test_1)\n",
    "predictions= 0.8 * ( predictions_1 )+ 0.12 * (predictions_2) + 0.08*(predictions_3)\n",
    "res=pd.DataFrame(predictions)\n",
    "res.insert(loc=0, column='wine_ID', value=df_test['wine_ID'])\n",
    "res.columns=['wine_ID','target']\n",
    "res.to_csv(\"resultat_soumission_vin_ens_learning_8.csv\", index=False)"
   ]
  },
  {
   "cell_type": "markdown",
   "id": "05e77933",
   "metadata": {},
   "source": [
    "Après avoir soumis notre modèle sur Kaggle, nous avons obtenu un score de 0.53437 qui est meilleur que tout ceux qui précèdent."
   ]
  },
  {
   "cell_type": "markdown",
   "id": "c2119623",
   "metadata": {},
   "source": [
    "### 4.5. Ensemble learning: ExtraTrees, Random Forest et GradientBoosting"
   ]
  },
  {
   "cell_type": "code",
   "execution_count": 96,
   "id": "b4cd0e9c",
   "metadata": {},
   "outputs": [],
   "source": [
    "#entrainement sur tous les donnees df et avec valeurs aberrantes\n",
    "best_model = ExtraTreesRegressor(random_state=57, max_depth= None, min_samples_leaf= 1, min_samples_split=2, n_estimators=500)\n",
    "best_model.fit(X_1, Y_1)\n",
    "predictions_1 = best_model.predict(df_test_1)\n",
    "best_model_2 = RandomForestRegressor(random_state=41,max_depth= 22, min_samples_leaf= 1, min_samples_split=2, n_estimators= 200)\n",
    "best_model_2.fit(X_1, Y_1)\n",
    "predictions_2 = best_model_2.predict(df_test_1)\n",
    "best_model_3 = GradientBoostingRegressor(random_state=45, learning_rate = 0.2, max_depth=5, n_estimators=100)\n",
    "best_model_3.fit(X_1, Y_1)\n",
    "predictions_3 = best_model_3.predict(df_test_1)\n",
    "predictions= 0.8 * ( predictions_1 )+ 0.12 * (predictions_2) + 0.08*(predictions_3)\n",
    "res=pd.DataFrame(predictions)\n",
    "res.insert(loc=0, column='wine_ID', value=df_test['wine_ID'])\n",
    "res.columns=['wine_ID','target']\n",
    "res.to_csv(\"resultat_soumission_vin_ens_learning_9.csv\", index=False)\n"
   ]
  },
  {
   "cell_type": "markdown",
   "id": "36611c10",
   "metadata": {},
   "source": [
    "Après avoir soumis notre modèle sur Kaggle, nous avons obtenu un score de 0.53389. Les ensembles learning à 3 modèles formés par Extra Trees, Random Forest et KNN sont meilleurs que ceux formés par les 3 modèles Extra Trees, Random Forest et Gradient Boosting."
   ]
  },
  {
   "cell_type": "markdown",
   "id": "ebd1e049",
   "metadata": {},
   "source": [
    "### 4.4. Ensemble learning: ExtraTrees, Random Forest, KNN et GradientBoosting"
   ]
  },
  {
   "cell_type": "code",
   "execution_count": 67,
   "id": "001db908",
   "metadata": {},
   "outputs": [],
   "source": [
    "#entrainement sur tous les donnees df et avec valeurs aberrantes\n",
    "best_model = ExtraTreesRegressor(random_state=57, max_depth= None, min_samples_leaf= 1, min_samples_split=2, n_estimators=500)\n",
    "best_model.fit(X_1, Y_1)\n",
    "predictions_1 = best_model.predict(df_test_1)\n",
    "best_model_2 = RandomForestRegressor(random_state=41,max_depth= 22, min_samples_leaf= 1, min_samples_split=2, n_estimators= 200)\n",
    "best_model_2.fit(X_1, Y_1)\n",
    "predictions_2 = best_model_2.predict(df_test_1)\n",
    "best_model_3 = GradientBoostingRegressor(random_state=45, learning_rate = 0.2, max_depth=5, n_estimators=100)\n",
    "best_model_3.fit(X_1, Y_1)\n",
    "predictions_3 = best_model_3.predict(df_test_1)\n",
    "best_model_4 = KNeighborsRegressor(n_neighbors = 21, p =1, weights = 'distance')\n",
    "best_model_4.fit(X_1, Y_1)\n",
    "predictions_4 = best_model_4.predict(df_test_1)\n",
    "predictions= 0.7 * ( predictions_1 )+ 0.1 * (predictions_2) + 0.1*(predictions_3) + 0.1*predictions_4\n",
    "res=pd.DataFrame(predictions)\n",
    "res.insert(loc=0, column='wine_ID', value=df_test['wine_ID'])\n",
    "res.columns=['wine_ID','target']\n",
    "res.to_csv(\"resultat_soumission_vin_ens_learning_12.csv\", index=False)"
   ]
  },
  {
   "cell_type": "markdown",
   "id": "ec520109",
   "metadata": {},
   "source": [
    "Après avoir soumis notre modèle sur Kaggle, nous avons obtenu un score de 0.53468 meilleur que tout ceux qui a précèdent."
   ]
  },
  {
   "cell_type": "code",
   "execution_count": 102,
   "id": "74107b4c",
   "metadata": {},
   "outputs": [],
   "source": [
    "#entrainement sur tous les donnees df et avec valeurs aberrantes\n",
    "best_model = ExtraTreesRegressor(random_state=57, max_depth= None, min_samples_leaf= 1, min_samples_split=2, n_estimators=500)\n",
    "best_model.fit(X_1, Y_1)\n",
    "predictions_1 = best_model.predict(df_test_1)\n",
    "best_model_2 = RandomForestRegressor(random_state=41,max_depth= 22, min_samples_leaf= 1, min_samples_split=2, n_estimators= 200)\n",
    "best_model_2.fit(X_1, Y_1)\n",
    "predictions_2 = best_model_2.predict(df_test_1)\n",
    "best_model_3 = GradientBoostingRegressor(random_state=45, learning_rate = 0.2, max_depth=5, n_estimators=100)\n",
    "best_model_3.fit(X_1, Y_1)\n",
    "predictions_3 = best_model_3.predict(df_test_1)\n",
    "best_model_4 = KNeighborsRegressor(n_neighbors = 21, p =1, weights = 'distance')\n",
    "best_model_4.fit(X_1, Y_1)\n",
    "predictions_4 = best_model_4.predict(df_test_1)\n",
    "predictions= 0.7 * ( predictions_1 )+ 0.15 * (predictions_2) + 0.05*(predictions_3) + 0.1*predictions_4\n",
    "res=pd.DataFrame(predictions)\n",
    "res.insert(loc=0, column='wine_ID', value=df_test['wine_ID'])\n",
    "res.columns=['wine_ID','target']\n",
    "res.to_csv(\"resultat_soumission_vin_ens_learning_13.csv\", index=False)"
   ]
  },
  {
   "cell_type": "markdown",
   "id": "ae7d867d",
   "metadata": {},
   "source": [
    "Après avoir soumis notre modèle sur Kaggle, nous avons obtenu un score de 0.53464 meilleur que les ensembles learning précédents sauf le 12eme."
   ]
  },
  {
   "cell_type": "code",
   "execution_count": 68,
   "id": "6a6d9d2c",
   "metadata": {},
   "outputs": [],
   "source": [
    "#entrainement sur tous les donnees df et avec valeurs aberrantes\n",
    "best_model = ExtraTreesRegressor(random_state=57, max_depth= None, min_samples_leaf= 1, min_samples_split=2, n_estimators=500)\n",
    "best_model.fit(X_1, Y_1)\n",
    "predictions_1 = best_model.predict(df_test_1)\n",
    "best_model_2 = RandomForestRegressor(random_state=41,max_depth= 22, min_samples_leaf= 1, min_samples_split=2, n_estimators= 200)\n",
    "best_model_2.fit(X_1, Y_1)\n",
    "predictions_2 = best_model_2.predict(df_test_1)\n",
    "best_model_3 = GradientBoostingRegressor(random_state=45, learning_rate = 0.2, max_depth=5, n_estimators=100)\n",
    "best_model_3.fit(X_1, Y_1)\n",
    "predictions_3 = best_model_3.predict(df_test_1)\n",
    "best_model_4 = KNeighborsRegressor(n_neighbors = 19, p =1, weights = 'distance')\n",
    "best_model_4.fit(X_1, Y_1)\n",
    "predictions_4 = best_model_4.predict(df_test_1)\n",
    "predictions= 0.8 * ( predictions_1 )+ (predictions_2 + predictions_3 + predictions_4)* (0.2/3)\n",
    "res=pd.DataFrame(predictions)\n",
    "res.insert(loc=0, column='wine_ID', value=df_test['wine_ID'])\n",
    "res.columns=['wine_ID','target']\n",
    "res.to_csv(\"resultat_soumission_vin_ens_learning_14.csv\", index=False)"
   ]
  },
  {
   "cell_type": "markdown",
   "id": "9da792f3",
   "metadata": {},
   "source": [
    "Après avoir soumis notre modèle sur Kaggle, nous avons obtenu un score de 0.53491 meilleur que tout ceux qui a précèdent."
   ]
  },
  {
   "cell_type": "code",
   "execution_count": 106,
   "id": "e8ac2db6",
   "metadata": {},
   "outputs": [],
   "source": [
    "#entrainement sur tous les donnees df et avec valeurs aberrantes\n",
    "best_model = ExtraTreesRegressor(random_state=57, max_depth= None, min_samples_leaf= 1, min_samples_split=2, n_estimators=500)\n",
    "best_model.fit(X_1, Y_1)\n",
    "predictions_1 = best_model.predict(df_test_1)\n",
    "best_model_2 = RandomForestRegressor(random_state=41,max_depth= 22, min_samples_leaf= 1, min_samples_split=2, n_estimators= 200)\n",
    "best_model_2.fit(X_1, Y_1)\n",
    "predictions_2 = best_model_2.predict(df_test_1)\n",
    "best_model_3 = GradientBoostingRegressor(random_state=45, learning_rate = 0.2, max_depth=5, n_estimators=100)\n",
    "best_model_3.fit(X_1, Y_1)\n",
    "predictions_3 = best_model_3.predict(df_test_1)\n",
    "best_model_4 = KNeighborsRegressor(n_neighbors = 21, p =1, weights = 'distance')\n",
    "best_model_4.fit(X_1, Y_1)\n",
    "predictions_4 = best_model_4.predict(df_test_1)\n",
    "predictions= 0.85 * ( predictions_1 )+ (predictions_2 + predictions_3 + predictions_4)* (0.15/3)\n",
    "res=pd.DataFrame(predictions)\n",
    "res.insert(loc=0, column='wine_ID', value=df_test['wine_ID'])\n",
    "res.columns=['wine_ID','target']\n",
    "res.to_csv(\"resultat_soumission_vin_ens_learning_15.csv\", index=False)"
   ]
  },
  {
   "cell_type": "markdown",
   "id": "66c549c8",
   "metadata": {},
   "source": [
    "Après avoir soumis notre modèle sur Kaggle, nous avons obtenu un score de 0.53462 pas mieu que les 3 avant lui."
   ]
  },
  {
   "cell_type": "code",
   "execution_count": null,
   "id": "0b687a48",
   "metadata": {},
   "outputs": [],
   "source": []
  }
 ],
 "metadata": {
  "kernelspec": {
   "display_name": "Python 3 (ipykernel)",
   "language": "python",
   "name": "python3"
  },
  "language_info": {
   "codemirror_mode": {
    "name": "ipython",
    "version": 3
   },
   "file_extension": ".py",
   "mimetype": "text/x-python",
   "name": "python",
   "nbconvert_exporter": "python",
   "pygments_lexer": "ipython3",
   "version": "3.9.7"
  }
 },
 "nbformat": 4,
 "nbformat_minor": 5
}
